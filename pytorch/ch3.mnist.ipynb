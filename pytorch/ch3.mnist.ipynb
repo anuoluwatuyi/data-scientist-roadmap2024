{
 "cells": [
  {
   "cell_type": "markdown",
   "metadata": {},
   "source": [
    "Basic setup"
   ]
  },
  {
   "cell_type": "code",
   "execution_count": 2,
   "metadata": {},
   "outputs": [],
   "source": [
    "! [ -e /content ] && pip install -Uqq fastbook\n",
    "import fastbook\n",
    "fastbook.setup_book()\n",
    "\n",
    "from fastai.vision.all import *\n",
    "from fastbook import *\n",
    "\n",
    "matplotlib.rc('image', cmap='Greys')"
   ]
  },
  {
   "cell_type": "markdown",
   "metadata": {},
   "source": [
    "\n",
    "\n",
    "### Key Concepts\n",
    "\n",
    "- **Arrays and tensors**: Representation of data in a computer.\n",
    "- **Broadcasting**: Powerful technique for manipulating arrays.\n",
    "- **Stochastic gradient descent (SGD)**: Algorithm for weight updates during learning.\n",
    "- **Loss function**: Measures model performance for classification tasks.\n",
    "- **Mini-batches**: Dividing training data into smaller chunks for efficiency.\n",
    "- **Neural network math**: Understanding the core calculations.\n",
    "\n",
    "#### MNIST Dataset\n",
    "\n",
    "- Introduction to MNIST dataset: Handwritten digits.\n",
    "- Lecun used MNIST in 1998 in [Lenet-5](http://yann.lecun.com/exdb/lenet/), the first computer system to demonstrate practically useful recognition of handwritten digit sequences. This was one of the most important breakthroughs in the history of AI.\n"
   ]
  },
  {
   "cell_type": "markdown",
   "metadata": {},
   "source": [
    "For this initial tutorial we are just going to try to create a model that can classify any image as a 3 or a 7. So let's download a sample of MNIST that contains images of just these digits"
   ]
  },
  {
   "cell_type": "code",
   "execution_count": 3,
   "metadata": {},
   "outputs": [
    {
     "data": {
      "text/plain": [
       "Path('/Users/wenda/.fastai/data/mnist_sample')"
      ]
     },
     "execution_count": 3,
     "metadata": {},
     "output_type": "execute_result"
    }
   ],
   "source": [
    "path = untar_data(URLs.MNIST_SAMPLE)\n",
    "path"
   ]
  },
  {
   "cell_type": "code",
   "execution_count": 4,
   "metadata": {},
   "outputs": [
    {
     "data": {
      "text/plain": [
       "(#3) [Path('valid'),Path('labels.csv'),Path('train')]"
      ]
     },
     "execution_count": 4,
     "metadata": {},
     "output_type": "execute_result"
    }
   ],
   "source": [
    "\"\"\"We can see what's in this directory by using ls, a method added by fastai. \n",
    "This method returns an object of a special fastai class called L, \n",
    "which has all the same functionality of Python's built-in list, plus a lot more. \n",
    "One of its handy features is that, when printed, it displays the count of items, \n",
    "before listing the items themselves (if there are more than 10 items, it just shows the first few):\n",
    "\n",
    "\"\"\"\n",
    "\n",
    "Path.BASE_PATH = path\n",
    "path.ls()"
   ]
  },
  {
   "cell_type": "code",
   "execution_count": 5,
   "metadata": {},
   "outputs": [
    {
     "data": {
      "text/plain": [
       "(#2) [Path('train/7'),Path('train/3')]"
      ]
     },
     "execution_count": 5,
     "metadata": {},
     "output_type": "execute_result"
    }
   ],
   "source": [
    "(path/'train').ls()"
   ]
  },
  {
   "cell_type": "code",
   "execution_count": 6,
   "metadata": {},
   "outputs": [
    {
     "data": {
      "text/plain": [
       "(#6131) [Path('train/3/10.png'),Path('train/3/10000.png'),Path('train/3/10011.png'),Path('train/3/10031.png'),Path('train/3/10034.png'),Path('train/3/10042.png'),Path('train/3/10052.png'),Path('train/3/1007.png'),Path('train/3/10074.png'),Path('train/3/10091.png')...]"
      ]
     },
     "execution_count": 6,
     "metadata": {},
     "output_type": "execute_result"
    }
   ],
   "source": [
    "\"\"\"There's a folder of 3s, and a folder of 7s. \n",
    "In machine learning parlance, we say that \"3\" and \"7\" are the labels (or targets) in this dataset. \n",
    "Let's take a look in one of these folders (using sorted to ensure we all get the same order of files):\"\"\"\n",
    "\n",
    "\n",
    "threes = (path/'train'/'3').ls().sorted()\n",
    "sevens = (path/'train'/'7').ls().sorted()\n",
    "threes"
   ]
  },
  {
   "cell_type": "code",
   "execution_count": 7,
   "metadata": {},
   "outputs": [
    {
     "data": {
      "image/jpeg": "[encoded data removed]",
      "image/png": "[encoded data removed]",
      "text/plain": [
       "<PIL.PngImagePlugin.PngImageFile image mode=L size=28x28>"
      ]
     },
     "execution_count": 7,
     "metadata": {},
     "output_type": "execute_result"
    }
   ],
   "source": [
    "im3_path = threes[1]\n",
    "im3 = Image.open(im3_path)\n",
    "im3"
   ]
  },
  {
   "cell_type": "markdown",
   "metadata": {},
   "source": [
    "**Working with Images in Python**\n",
    "\n",
    "*Using Python Imaging Library (PIL) for image manipulation*\n",
    "\n",
    "* **PIL Image Class:**\n",
    "    * Most widely used Python package for opening, manipulating, and viewing images.\n",
    "    * Jupyter notebooks can automatically display images loaded using PIL.\n",
    "\n",
    "* **Image Data Representation:**\n",
    "    * On computers, everything is stored as numbers.\n",
    "    * To access the numerical representation of an image, we need to convert it to a NumPy array or a PyTorch tensor.\n"
   ]
  },
  {
   "cell_type": "code",
   "execution_count": 8,
   "metadata": {},
   "outputs": [
    {
     "data": {
      "text/plain": [
       "array([[  0,   0,   0,   0,   0,   0],\n",
       "       [  0,   0,   0,   0,   0,  29],\n",
       "       [  0,   0,   0,  48, 166, 224],\n",
       "       [  0,  93, 244, 249, 253, 187],\n",
       "       [  0, 107, 253, 253, 230,  48],\n",
       "       [  0,   3,  20,  20,  15,   0]], dtype=uint8)"
      ]
     },
     "execution_count": 8,
     "metadata": {},
     "output_type": "execute_result"
    }
   ],
   "source": [
    "array(im3)[4:10,4:10]"
   ]
  },
  {
   "cell_type": "markdown",
   "metadata": {},
   "source": [
    "The 4:10 indicates we requested the rows from index 4 (included) to 10 (not included) and the same for the columns. NumPy indexes from top to bottom and left to right, so this section is located in the top-left corner of the image. Here's the same thing as a PyTorch tensor:"
   ]
  },
  {
   "cell_type": "code",
   "execution_count": 9,
   "metadata": {},
   "outputs": [
    {
     "data": {
      "text/plain": [
       "tensor([[  0,   0,   0,   0,   0,   0],\n",
       "        [  0,   0,   0,   0,   0,  29],\n",
       "        [  0,   0,   0,  48, 166, 224],\n",
       "        [  0,  93, 244, 249, 253, 187],\n",
       "        [  0, 107, 253, 253, 230,  48],\n",
       "        [  0,   3,  20,  20,  15,   0]], dtype=torch.uint8)"
      ]
     },
     "execution_count": 9,
     "metadata": {},
     "output_type": "execute_result"
    }
   ],
   "source": [
    "tensor(im3)[4:10,4:10]"
   ]
  },
  {
   "cell_type": "markdown",
   "metadata": {},
   "source": [
    "We can slice the array to pick just the part with the top of the digit in it, and then use a Pandas DataFrame to color-code the values using a gradient, which shows us clearly how the image is created from the pixel values:\n",
    "\n"
   ]
  },
  {
   "cell_type": "code",
   "execution_count": 10,
   "metadata": {},
   "outputs": [
    {
     "data": {
      "text/html": [
       "<style type=\"text/css\">\n",
       "#T_d3cff_row0_col0, #T_d3cff_row0_col1, #T_d3cff_row0_col2, #T_d3cff_row0_col3, #T_d3cff_row0_col4, #T_d3cff_row0_col5, #T_d3cff_row0_col6, #T_d3cff_row0_col7, #T_d3cff_row0_col8, #T_d3cff_row0_col9, #T_d3cff_row0_col10, #T_d3cff_row0_col11, #T_d3cff_row0_col12, #T_d3cff_row0_col13, #T_d3cff_row0_col14, #T_d3cff_row0_col15, #T_d3cff_row0_col16, #T_d3cff_row0_col17, #T_d3cff_row0_col18, #T_d3cff_row0_col19, #T_d3cff_row0_col20, #T_d3cff_row0_col21, #T_d3cff_row0_col22, #T_d3cff_row0_col23, #T_d3cff_row0_col24, #T_d3cff_row0_col25, #T_d3cff_row0_col26, #T_d3cff_row0_col27, #T_d3cff_row1_col0, #T_d3cff_row1_col1, #T_d3cff_row1_col2, #T_d3cff_row1_col3, #T_d3cff_row1_col4, #T_d3cff_row1_col5, #T_d3cff_row1_col6, #T_d3cff_row1_col7, #T_d3cff_row1_col8, #T_d3cff_row1_col9, #T_d3cff_row1_col10, #T_d3cff_row1_col11, #T_d3cff_row1_col12, #T_d3cff_row1_col13, #T_d3cff_row1_col14, #T_d3cff_row1_col15, #T_d3cff_row1_col16, #T_d3cff_row1_col17, #T_d3cff_row1_col18, #T_d3cff_row1_col19, #T_d3cff_row1_col20, #T_d3cff_row1_col21, #T_d3cff_row1_col22, #T_d3cff_row1_col23, #T_d3cff_row1_col24, #T_d3cff_row1_col25, #T_d3cff_row1_col26, #T_d3cff_row1_col27, #T_d3cff_row2_col0, #T_d3cff_row2_col1, #T_d3cff_row2_col2, #T_d3cff_row2_col3, #T_d3cff_row2_col4, #T_d3cff_row2_col5, #T_d3cff_row2_col6, #T_d3cff_row2_col7, #T_d3cff_row2_col8, #T_d3cff_row2_col9, #T_d3cff_row2_col10, #T_d3cff_row2_col11, #T_d3cff_row2_col12, #T_d3cff_row2_col13, #T_d3cff_row2_col14, #T_d3cff_row2_col15, #T_d3cff_row2_col16, #T_d3cff_row2_col17, #T_d3cff_row2_col18, #T_d3cff_row2_col19, #T_d3cff_row2_col20, #T_d3cff_row2_col21, #T_d3cff_row2_col22, #T_d3cff_row2_col23, #T_d3cff_row2_col24, #T_d3cff_row2_col25, #T_d3cff_row2_col26, #T_d3cff_row2_col27, #T_d3cff_row3_col0, #T_d3cff_row3_col1, #T_d3cff_row3_col2, #T_d3cff_row3_col3, #T_d3cff_row3_col4, #T_d3cff_row3_col5, #T_d3cff_row3_col6, #T_d3cff_row3_col7, #T_d3cff_row3_col8, #T_d3cff_row3_col9, #T_d3cff_row3_col10, #T_d3cff_row3_col11, #T_d3cff_row3_col12, #T_d3cff_row3_col13, #T_d3cff_row3_col14, #T_d3cff_row3_col15, #T_d3cff_row3_col16, #T_d3cff_row3_col17, #T_d3cff_row3_col18, #T_d3cff_row3_col19, #T_d3cff_row3_col20, #T_d3cff_row3_col21, #T_d3cff_row3_col22, #T_d3cff_row3_col23, #T_d3cff_row3_col24, #T_d3cff_row3_col25, #T_d3cff_row3_col26, #T_d3cff_row3_col27, #T_d3cff_row4_col0, #T_d3cff_row4_col1, #T_d3cff_row4_col2, #T_d3cff_row4_col3, #T_d3cff_row4_col4, #T_d3cff_row4_col5, #T_d3cff_row4_col6, #T_d3cff_row4_col7, #T_d3cff_row4_col8, #T_d3cff_row4_col9, #T_d3cff_row4_col10, #T_d3cff_row4_col11, #T_d3cff_row4_col12, #T_d3cff_row4_col13, #T_d3cff_row4_col14, #T_d3cff_row4_col15, #T_d3cff_row4_col16, #T_d3cff_row4_col17, #T_d3cff_row4_col18, #T_d3cff_row4_col19, #T_d3cff_row4_col20, #T_d3cff_row4_col21, #T_d3cff_row4_col22, #T_d3cff_row4_col23, #T_d3cff_row4_col24, #T_d3cff_row4_col25, #T_d3cff_row4_col26, #T_d3cff_row4_col27, #T_d3cff_row5_col0, #T_d3cff_row5_col1, #T_d3cff_row5_col2, #T_d3cff_row5_col3, #T_d3cff_row5_col4, #T_d3cff_row5_col5, #T_d3cff_row5_col6, #T_d3cff_row5_col7, #T_d3cff_row5_col8, #T_d3cff_row5_col19, #T_d3cff_row5_col20, #T_d3cff_row5_col21, #T_d3cff_row5_col22, #T_d3cff_row5_col23, #T_d3cff_row5_col24, #T_d3cff_row5_col25, #T_d3cff_row5_col26, #T_d3cff_row5_col27, #T_d3cff_row6_col0, #T_d3cff_row6_col1, #T_d3cff_row6_col2, #T_d3cff_row6_col3, #T_d3cff_row6_col4, #T_d3cff_row6_col5, #T_d3cff_row6_col6, #T_d3cff_row6_col19, #T_d3cff_row6_col20, #T_d3cff_row6_col21, #T_d3cff_row6_col22, #T_d3cff_row6_col23, #T_d3cff_row6_col24, #T_d3cff_row6_col25, #T_d3cff_row6_col26, #T_d3cff_row6_col27, #T_d3cff_row7_col0, #T_d3cff_row7_col1, #T_d3cff_row7_col2, #T_d3cff_row7_col3, #T_d3cff_row7_col4, #T_d3cff_row7_col19, #T_d3cff_row7_col20, #T_d3cff_row7_col21, #T_d3cff_row7_col22, #T_d3cff_row7_col23, #T_d3cff_row7_col24, #T_d3cff_row7_col25, #T_d3cff_row7_col26, #T_d3cff_row7_col27, #T_d3cff_row8_col0, #T_d3cff_row8_col1, #T_d3cff_row8_col2, #T_d3cff_row8_col3, #T_d3cff_row8_col4, #T_d3cff_row8_col10, #T_d3cff_row8_col11, #T_d3cff_row8_col12, #T_d3cff_row8_col13, #T_d3cff_row8_col14, #T_d3cff_row8_col19, #T_d3cff_row8_col20, #T_d3cff_row8_col21, #T_d3cff_row8_col22, #T_d3cff_row8_col23, #T_d3cff_row8_col24, #T_d3cff_row8_col25, #T_d3cff_row8_col26, #T_d3cff_row8_col27, #T_d3cff_row9_col0, #T_d3cff_row9_col1, #T_d3cff_row9_col2, #T_d3cff_row9_col3, #T_d3cff_row9_col4, #T_d3cff_row9_col9, #T_d3cff_row9_col10, #T_d3cff_row9_col11, #T_d3cff_row9_col12, #T_d3cff_row9_col13, #T_d3cff_row9_col19, #T_d3cff_row9_col20, #T_d3cff_row9_col21, #T_d3cff_row9_col22, #T_d3cff_row9_col23, #T_d3cff_row9_col24, #T_d3cff_row9_col25, #T_d3cff_row9_col26, #T_d3cff_row9_col27, #T_d3cff_row10_col0, #T_d3cff_row10_col1, #T_d3cff_row10_col2, #T_d3cff_row10_col3, #T_d3cff_row10_col4, #T_d3cff_row10_col5, #T_d3cff_row10_col6, #T_d3cff_row10_col7, #T_d3cff_row10_col8, #T_d3cff_row10_col9, #T_d3cff_row10_col10, #T_d3cff_row10_col11, #T_d3cff_row10_col12, #T_d3cff_row10_col13, #T_d3cff_row10_col18, #T_d3cff_row10_col19, #T_d3cff_row10_col20, #T_d3cff_row10_col21, #T_d3cff_row10_col22, #T_d3cff_row10_col23, #T_d3cff_row10_col24, #T_d3cff_row10_col25, #T_d3cff_row10_col26, #T_d3cff_row10_col27, #T_d3cff_row11_col0, #T_d3cff_row11_col1, #T_d3cff_row11_col2, #T_d3cff_row11_col3, #T_d3cff_row11_col4, #T_d3cff_row11_col5, #T_d3cff_row11_col6, #T_d3cff_row11_col7, #T_d3cff_row11_col8, #T_d3cff_row11_col9, #T_d3cff_row11_col10, #T_d3cff_row11_col17, #T_d3cff_row11_col18, #T_d3cff_row11_col19, #T_d3cff_row11_col20, #T_d3cff_row11_col21, #T_d3cff_row11_col22, #T_d3cff_row11_col23, #T_d3cff_row11_col24, #T_d3cff_row11_col25, #T_d3cff_row11_col26, #T_d3cff_row11_col27, #T_d3cff_row12_col0, #T_d3cff_row12_col1, #T_d3cff_row12_col2, #T_d3cff_row12_col3, #T_d3cff_row12_col4, #T_d3cff_row12_col5, #T_d3cff_row12_col6, #T_d3cff_row12_col7, #T_d3cff_row12_col8, #T_d3cff_row12_col17, #T_d3cff_row12_col18, #T_d3cff_row12_col19, #T_d3cff_row12_col20, #T_d3cff_row12_col21, #T_d3cff_row12_col22, #T_d3cff_row12_col23, #T_d3cff_row12_col24, #T_d3cff_row12_col25, #T_d3cff_row12_col26, #T_d3cff_row12_col27, #T_d3cff_row13_col0, #T_d3cff_row13_col1, #T_d3cff_row13_col2, #T_d3cff_row13_col3, #T_d3cff_row13_col4, #T_d3cff_row13_col5, #T_d3cff_row13_col6, #T_d3cff_row13_col7, #T_d3cff_row13_col8, #T_d3cff_row13_col20, #T_d3cff_row13_col21, #T_d3cff_row13_col22, #T_d3cff_row13_col23, #T_d3cff_row13_col24, #T_d3cff_row13_col25, #T_d3cff_row13_col26, #T_d3cff_row13_col27, #T_d3cff_row14_col0, #T_d3cff_row14_col1, #T_d3cff_row14_col2, #T_d3cff_row14_col3, #T_d3cff_row14_col4, #T_d3cff_row14_col5, #T_d3cff_row14_col6, #T_d3cff_row14_col7, #T_d3cff_row14_col8, #T_d3cff_row14_col9, #T_d3cff_row14_col10, #T_d3cff_row14_col21, #T_d3cff_row14_col22, #T_d3cff_row14_col23, #T_d3cff_row14_col24, #T_d3cff_row14_col25, #T_d3cff_row14_col26, #T_d3cff_row14_col27, #T_d3cff_row15_col0, #T_d3cff_row15_col1, #T_d3cff_row15_col2, #T_d3cff_row15_col3, #T_d3cff_row15_col4, #T_d3cff_row15_col5, #T_d3cff_row15_col6, #T_d3cff_row15_col7, #T_d3cff_row15_col8, #T_d3cff_row15_col9, #T_d3cff_row15_col10, #T_d3cff_row15_col11, #T_d3cff_row15_col12, #T_d3cff_row15_col13, #T_d3cff_row15_col21, #T_d3cff_row15_col22, #T_d3cff_row15_col23, #T_d3cff_row15_col24, #T_d3cff_row15_col25, #T_d3cff_row15_col26, #T_d3cff_row15_col27, #T_d3cff_row16_col0, #T_d3cff_row16_col1, #T_d3cff_row16_col2, #T_d3cff_row16_col3, #T_d3cff_row16_col4, #T_d3cff_row16_col5, #T_d3cff_row16_col6, #T_d3cff_row16_col7, #T_d3cff_row16_col8, #T_d3cff_row16_col9, #T_d3cff_row16_col10, #T_d3cff_row16_col11, #T_d3cff_row16_col12, #T_d3cff_row16_col13, #T_d3cff_row16_col14, #T_d3cff_row16_col15, #T_d3cff_row16_col16, #T_d3cff_row16_col21, #T_d3cff_row16_col22, #T_d3cff_row16_col23, #T_d3cff_row16_col24, #T_d3cff_row16_col25, #T_d3cff_row16_col26, #T_d3cff_row16_col27, #T_d3cff_row17_col0, #T_d3cff_row17_col1, #T_d3cff_row17_col2, #T_d3cff_row17_col3, #T_d3cff_row17_col4, #T_d3cff_row17_col5, #T_d3cff_row17_col6, #T_d3cff_row17_col7, #T_d3cff_row17_col8, #T_d3cff_row17_col9, #T_d3cff_row17_col10, #T_d3cff_row17_col11, #T_d3cff_row17_col12, #T_d3cff_row17_col13, #T_d3cff_row17_col14, #T_d3cff_row17_col15, #T_d3cff_row17_col16, #T_d3cff_row17_col21, #T_d3cff_row17_col22, #T_d3cff_row17_col23, #T_d3cff_row17_col24, #T_d3cff_row17_col25, #T_d3cff_row17_col26, #T_d3cff_row17_col27, #T_d3cff_row18_col0, #T_d3cff_row18_col1, #T_d3cff_row18_col2, #T_d3cff_row18_col3, #T_d3cff_row18_col4, #T_d3cff_row18_col5, #T_d3cff_row18_col6, #T_d3cff_row18_col7, #T_d3cff_row18_col8, #T_d3cff_row18_col9, #T_d3cff_row18_col10, #T_d3cff_row18_col11, #T_d3cff_row18_col12, #T_d3cff_row18_col13, #T_d3cff_row18_col14, #T_d3cff_row18_col15, #T_d3cff_row18_col21, #T_d3cff_row18_col22, #T_d3cff_row18_col23, #T_d3cff_row18_col24, #T_d3cff_row18_col25, #T_d3cff_row18_col26, #T_d3cff_row18_col27, #T_d3cff_row19_col0, #T_d3cff_row19_col1, #T_d3cff_row19_col2, #T_d3cff_row19_col3, #T_d3cff_row19_col4, #T_d3cff_row19_col5, #T_d3cff_row19_col6, #T_d3cff_row19_col7, #T_d3cff_row19_col8, #T_d3cff_row19_col9, #T_d3cff_row19_col10, #T_d3cff_row19_col11, #T_d3cff_row19_col12, #T_d3cff_row19_col13, #T_d3cff_row19_col14, #T_d3cff_row19_col21, #T_d3cff_row19_col22, #T_d3cff_row19_col23, #T_d3cff_row19_col24, #T_d3cff_row19_col25, #T_d3cff_row19_col26, #T_d3cff_row19_col27, #T_d3cff_row20_col0, #T_d3cff_row20_col1, #T_d3cff_row20_col2, #T_d3cff_row20_col3, #T_d3cff_row20_col4, #T_d3cff_row20_col5, #T_d3cff_row20_col6, #T_d3cff_row20_col7, #T_d3cff_row20_col8, #T_d3cff_row20_col9, #T_d3cff_row20_col10, #T_d3cff_row20_col11, #T_d3cff_row20_col12, #T_d3cff_row20_col13, #T_d3cff_row20_col20, #T_d3cff_row20_col21, #T_d3cff_row20_col22, #T_d3cff_row20_col23, #T_d3cff_row20_col24, #T_d3cff_row20_col25, #T_d3cff_row20_col26, #T_d3cff_row20_col27, #T_d3cff_row21_col0, #T_d3cff_row21_col1, #T_d3cff_row21_col2, #T_d3cff_row21_col3, #T_d3cff_row21_col4, #T_d3cff_row21_col5, #T_d3cff_row21_col6, #T_d3cff_row21_col7, #T_d3cff_row21_col8, #T_d3cff_row21_col9, #T_d3cff_row21_col10, #T_d3cff_row21_col11, #T_d3cff_row21_col19, #T_d3cff_row21_col20, #T_d3cff_row21_col21, #T_d3cff_row21_col22, #T_d3cff_row21_col23, #T_d3cff_row21_col24, #T_d3cff_row21_col25, #T_d3cff_row21_col26, #T_d3cff_row21_col27, #T_d3cff_row22_col0, #T_d3cff_row22_col1, #T_d3cff_row22_col2, #T_d3cff_row22_col3, #T_d3cff_row22_col4, #T_d3cff_row22_col5, #T_d3cff_row22_col18, #T_d3cff_row22_col19, #T_d3cff_row22_col20, #T_d3cff_row22_col21, #T_d3cff_row22_col22, #T_d3cff_row22_col23, #T_d3cff_row22_col24, #T_d3cff_row22_col25, #T_d3cff_row22_col26, #T_d3cff_row22_col27, #T_d3cff_row23_col0, #T_d3cff_row23_col1, #T_d3cff_row23_col2, #T_d3cff_row23_col3, #T_d3cff_row23_col4, #T_d3cff_row23_col5, #T_d3cff_row23_col16, #T_d3cff_row23_col17, #T_d3cff_row23_col18, #T_d3cff_row23_col19, #T_d3cff_row23_col20, #T_d3cff_row23_col21, #T_d3cff_row23_col22, #T_d3cff_row23_col23, #T_d3cff_row23_col24, #T_d3cff_row23_col25, #T_d3cff_row23_col26, #T_d3cff_row23_col27, #T_d3cff_row24_col0, #T_d3cff_row24_col1, #T_d3cff_row24_col2, #T_d3cff_row24_col3, #T_d3cff_row24_col4, #T_d3cff_row24_col5, #T_d3cff_row24_col14, #T_d3cff_row24_col15, #T_d3cff_row24_col16, #T_d3cff_row24_col17, #T_d3cff_row24_col18, #T_d3cff_row24_col19, #T_d3cff_row24_col20, #T_d3cff_row24_col21, #T_d3cff_row24_col22, #T_d3cff_row24_col23, #T_d3cff_row24_col24, #T_d3cff_row24_col25, #T_d3cff_row24_col26, #T_d3cff_row24_col27, #T_d3cff_row25_col0, #T_d3cff_row25_col1, #T_d3cff_row25_col2, #T_d3cff_row25_col3, #T_d3cff_row25_col4, #T_d3cff_row25_col5, #T_d3cff_row25_col6, #T_d3cff_row25_col7, #T_d3cff_row25_col8, #T_d3cff_row25_col9, #T_d3cff_row25_col10, #T_d3cff_row25_col11, #T_d3cff_row25_col12, #T_d3cff_row25_col13, #T_d3cff_row25_col14, #T_d3cff_row25_col15, #T_d3cff_row25_col16, #T_d3cff_row25_col17, #T_d3cff_row25_col18, #T_d3cff_row25_col19, #T_d3cff_row25_col20, #T_d3cff_row25_col21, #T_d3cff_row25_col22, #T_d3cff_row25_col23, #T_d3cff_row25_col24, #T_d3cff_row25_col25, #T_d3cff_row25_col26, #T_d3cff_row25_col27, #T_d3cff_row26_col0, #T_d3cff_row26_col1, #T_d3cff_row26_col2, #T_d3cff_row26_col3, #T_d3cff_row26_col4, #T_d3cff_row26_col5, #T_d3cff_row26_col6, #T_d3cff_row26_col7, #T_d3cff_row26_col8, #T_d3cff_row26_col9, #T_d3cff_row26_col10, #T_d3cff_row26_col11, #T_d3cff_row26_col12, #T_d3cff_row26_col13, #T_d3cff_row26_col14, #T_d3cff_row26_col15, #T_d3cff_row26_col16, #T_d3cff_row26_col17, #T_d3cff_row26_col18, #T_d3cff_row26_col19, #T_d3cff_row26_col20, #T_d3cff_row26_col21, #T_d3cff_row26_col22, #T_d3cff_row26_col23, #T_d3cff_row26_col24, #T_d3cff_row26_col25, #T_d3cff_row26_col26, #T_d3cff_row26_col27, #T_d3cff_row27_col0, #T_d3cff_row27_col1, #T_d3cff_row27_col2, #T_d3cff_row27_col3, #T_d3cff_row27_col4, #T_d3cff_row27_col5, #T_d3cff_row27_col6, #T_d3cff_row27_col7, #T_d3cff_row27_col8, #T_d3cff_row27_col9, #T_d3cff_row27_col10, #T_d3cff_row27_col11, #T_d3cff_row27_col12, #T_d3cff_row27_col13, #T_d3cff_row27_col14, #T_d3cff_row27_col15, #T_d3cff_row27_col16, #T_d3cff_row27_col17, #T_d3cff_row27_col18, #T_d3cff_row27_col19, #T_d3cff_row27_col20, #T_d3cff_row27_col21, #T_d3cff_row27_col22, #T_d3cff_row27_col23, #T_d3cff_row27_col24, #T_d3cff_row27_col25, #T_d3cff_row27_col26, #T_d3cff_row27_col27 {\n",
       "  font-size: 6pt;\n",
       "  background-color: #ffffff;\n",
       "  color: #000000;\n",
       "}\n",
       "#T_d3cff_row5_col9, #T_d3cff_row12_col16 {\n",
       "  font-size: 6pt;\n",
       "  background-color: #f1f1f1;\n",
       "  color: #000000;\n",
       "}\n",
       "#T_d3cff_row5_col10, #T_d3cff_row5_col17 {\n",
       "  font-size: 6pt;\n",
       "  background-color: #7c7c7c;\n",
       "  color: #f1f1f1;\n",
       "}\n",
       "#T_d3cff_row5_col11 {\n",
       "  font-size: 6pt;\n",
       "  background-color: #4a4a4a;\n",
       "  color: #f1f1f1;\n",
       "}\n",
       "#T_d3cff_row5_col12, #T_d3cff_row5_col13, #T_d3cff_row5_col14, #T_d3cff_row6_col10, #T_d3cff_row6_col11, #T_d3cff_row6_col15, #T_d3cff_row6_col16, #T_d3cff_row6_col17, #T_d3cff_row7_col8, #T_d3cff_row7_col16, #T_d3cff_row7_col17, #T_d3cff_row8_col5, #T_d3cff_row8_col6, #T_d3cff_row8_col7, #T_d3cff_row8_col16, #T_d3cff_row8_col17, #T_d3cff_row9_col16, #T_d3cff_row10_col15, #T_d3cff_row13_col15, #T_d3cff_row14_col15, #T_d3cff_row14_col16, #T_d3cff_row14_col17, #T_d3cff_row14_col18, #T_d3cff_row15_col17, #T_d3cff_row15_col18, #T_d3cff_row15_col19, #T_d3cff_row16_col18, #T_d3cff_row16_col19, #T_d3cff_row16_col20, #T_d3cff_row17_col18, #T_d3cff_row17_col19, #T_d3cff_row18_col18, #T_d3cff_row18_col19, #T_d3cff_row19_col17, #T_d3cff_row19_col18, #T_d3cff_row20_col16, #T_d3cff_row20_col17, #T_d3cff_row21_col15, #T_d3cff_row21_col16, #T_d3cff_row23_col7, #T_d3cff_row23_col8, #T_d3cff_row23_col9, #T_d3cff_row23_col10, #T_d3cff_row23_col11, #T_d3cff_row24_col7, #T_d3cff_row24_col8, #T_d3cff_row24_col9, #T_d3cff_row24_col10, #T_d3cff_row24_col11 {\n",
       "  font-size: 6pt;\n",
       "  background-color: #000000;\n",
       "  color: #f1f1f1;\n",
       "}\n",
       "#T_d3cff_row5_col15 {\n",
       "  font-size: 6pt;\n",
       "  background-color: #606060;\n",
       "  color: #f1f1f1;\n",
       "}\n",
       "#T_d3cff_row5_col16 {\n",
       "  font-size: 6pt;\n",
       "  background-color: #4d4d4d;\n",
       "  color: #f1f1f1;\n",
       "}\n",
       "#T_d3cff_row5_col18 {\n",
       "  font-size: 6pt;\n",
       "  background-color: #bbbbbb;\n",
       "  color: #000000;\n",
       "}\n",
       "#T_d3cff_row6_col7, #T_d3cff_row8_col9 {\n",
       "  font-size: 6pt;\n",
       "  background-color: #e4e4e4;\n",
       "  color: #000000;\n",
       "}\n",
       "#T_d3cff_row6_col8, #T_d3cff_row12_col10 {\n",
       "  font-size: 6pt;\n",
       "  background-color: #6b6b6b;\n",
       "  color: #f1f1f1;\n",
       "}\n",
       "#T_d3cff_row6_col9, #T_d3cff_row9_col15 {\n",
       "  font-size: 6pt;\n",
       "  background-color: #222222;\n",
       "  color: #f1f1f1;\n",
       "}\n",
       "#T_d3cff_row6_col12, #T_d3cff_row6_col18, #T_d3cff_row7_col18, #T_d3cff_row21_col17 {\n",
       "  font-size: 6pt;\n",
       "  background-color: #171717;\n",
       "  color: #f1f1f1;\n",
       "}\n",
       "#T_d3cff_row6_col13, #T_d3cff_row7_col15 {\n",
       "  font-size: 6pt;\n",
       "  background-color: #4b4b4b;\n",
       "  color: #f1f1f1;\n",
       "}\n",
       "#T_d3cff_row6_col14, #T_d3cff_row11_col14, #T_d3cff_row12_col12, #T_d3cff_row12_col14, #T_d3cff_row13_col12, #T_d3cff_row13_col14, #T_d3cff_row22_col14, #T_d3cff_row23_col12 {\n",
       "  font-size: 6pt;\n",
       "  background-color: #010101;\n",
       "  color: #f1f1f1;\n",
       "}\n",
       "#T_d3cff_row7_col5 {\n",
       "  font-size: 6pt;\n",
       "  background-color: #272727;\n",
       "  color: #f1f1f1;\n",
       "}\n",
       "#T_d3cff_row7_col6 {\n",
       "  font-size: 6pt;\n",
       "  background-color: #0a0a0a;\n",
       "  color: #f1f1f1;\n",
       "}\n",
       "#T_d3cff_row7_col7, #T_d3cff_row18_col17 {\n",
       "  font-size: 6pt;\n",
       "  background-color: #050505;\n",
       "  color: #f1f1f1;\n",
       "}\n",
       "#T_d3cff_row7_col9, #T_d3cff_row12_col15, #T_d3cff_row14_col19, #T_d3cff_row23_col6 {\n",
       "  font-size: 6pt;\n",
       "  background-color: #545454;\n",
       "  color: #f1f1f1;\n",
       "}\n",
       "#T_d3cff_row7_col10 {\n",
       "  font-size: 6pt;\n",
       "  background-color: #e6e6e6;\n",
       "  color: #000000;\n",
       "}\n",
       "#T_d3cff_row7_col11, #T_d3cff_row7_col14, #T_d3cff_row12_col9 {\n",
       "  font-size: 6pt;\n",
       "  background-color: #fafafa;\n",
       "  color: #000000;\n",
       "}\n",
       "#T_d3cff_row7_col12, #T_d3cff_row15_col14, #T_d3cff_row20_col19 {\n",
       "  font-size: 6pt;\n",
       "  background-color: #fbfbfb;\n",
       "  color: #000000;\n",
       "}\n",
       "#T_d3cff_row7_col13 {\n",
       "  font-size: 6pt;\n",
       "  background-color: #fdfdfd;\n",
       "  color: #000000;\n",
       "}\n",
       "#T_d3cff_row8_col8 {\n",
       "  font-size: 6pt;\n",
       "  background-color: #1b1b1b;\n",
       "  color: #f1f1f1;\n",
       "}\n",
       "#T_d3cff_row8_col15 {\n",
       "  font-size: 6pt;\n",
       "  background-color: #4e4e4e;\n",
       "  color: #f1f1f1;\n",
       "}\n",
       "#T_d3cff_row8_col18 {\n",
       "  font-size: 6pt;\n",
       "  background-color: #767676;\n",
       "  color: #f1f1f1;\n",
       "}\n",
       "#T_d3cff_row9_col5 {\n",
       "  font-size: 6pt;\n",
       "  background-color: #fcfcfc;\n",
       "  color: #000000;\n",
       "}\n",
       "#T_d3cff_row9_col6, #T_d3cff_row9_col7, #T_d3cff_row19_col20 {\n",
       "  font-size: 6pt;\n",
       "  background-color: #f6f6f6;\n",
       "  color: #000000;\n",
       "}\n",
       "#T_d3cff_row9_col8, #T_d3cff_row11_col11 {\n",
       "  font-size: 6pt;\n",
       "  background-color: #f8f8f8;\n",
       "  color: #000000;\n",
       "}\n",
       "#T_d3cff_row9_col14, #T_d3cff_row14_col11 {\n",
       "  font-size: 6pt;\n",
       "  background-color: #e8e8e8;\n",
       "  color: #000000;\n",
       "}\n",
       "#T_d3cff_row9_col17, #T_d3cff_row10_col16 {\n",
       "  font-size: 6pt;\n",
       "  background-color: #090909;\n",
       "  color: #f1f1f1;\n",
       "}\n",
       "#T_d3cff_row9_col18 {\n",
       "  font-size: 6pt;\n",
       "  background-color: #d0d0d0;\n",
       "  color: #000000;\n",
       "}\n",
       "#T_d3cff_row10_col14, #T_d3cff_row11_col15, #T_d3cff_row13_col10 {\n",
       "  font-size: 6pt;\n",
       "  background-color: #060606;\n",
       "  color: #f1f1f1;\n",
       "}\n",
       "#T_d3cff_row10_col17 {\n",
       "  font-size: 6pt;\n",
       "  background-color: #979797;\n",
       "  color: #f1f1f1;\n",
       "}\n",
       "#T_d3cff_row11_col12 {\n",
       "  font-size: 6pt;\n",
       "  background-color: #b6b6b6;\n",
       "  color: #000000;\n",
       "}\n",
       "#T_d3cff_row11_col13 {\n",
       "  font-size: 6pt;\n",
       "  background-color: #252525;\n",
       "  color: #f1f1f1;\n",
       "}\n",
       "#T_d3cff_row11_col16 {\n",
       "  font-size: 6pt;\n",
       "  background-color: #999999;\n",
       "  color: #f1f1f1;\n",
       "}\n",
       "#T_d3cff_row12_col11, #T_d3cff_row22_col12 {\n",
       "  font-size: 6pt;\n",
       "  background-color: #101010;\n",
       "  color: #f1f1f1;\n",
       "}\n",
       "#T_d3cff_row12_col13, #T_d3cff_row13_col13, #T_d3cff_row21_col14, #T_d3cff_row22_col13, #T_d3cff_row23_col13 {\n",
       "  font-size: 6pt;\n",
       "  background-color: #020202;\n",
       "  color: #f1f1f1;\n",
       "}\n",
       "#T_d3cff_row13_col9 {\n",
       "  font-size: 6pt;\n",
       "  background-color: #f7f7f7;\n",
       "  color: #000000;\n",
       "}\n",
       "#T_d3cff_row13_col11, #T_d3cff_row22_col15 {\n",
       "  font-size: 6pt;\n",
       "  background-color: #030303;\n",
       "  color: #f1f1f1;\n",
       "}\n",
       "#T_d3cff_row13_col16 {\n",
       "  font-size: 6pt;\n",
       "  background-color: #181818;\n",
       "  color: #f1f1f1;\n",
       "}\n",
       "#T_d3cff_row13_col17 {\n",
       "  font-size: 6pt;\n",
       "  background-color: #303030;\n",
       "  color: #f1f1f1;\n",
       "}\n",
       "#T_d3cff_row13_col18 {\n",
       "  font-size: 6pt;\n",
       "  background-color: #a9a9a9;\n",
       "  color: #f1f1f1;\n",
       "}\n",
       "#T_d3cff_row13_col19 {\n",
       "  font-size: 6pt;\n",
       "  background-color: #fefefe;\n",
       "  color: #000000;\n",
       "}\n",
       "#T_d3cff_row14_col12, #T_d3cff_row14_col13, #T_d3cff_row20_col14 {\n",
       "  font-size: 6pt;\n",
       "  background-color: #bababa;\n",
       "  color: #000000;\n",
       "}\n",
       "#T_d3cff_row14_col14 {\n",
       "  font-size: 6pt;\n",
       "  background-color: #393939;\n",
       "  color: #f1f1f1;\n",
       "}\n",
       "#T_d3cff_row14_col20 {\n",
       "  font-size: 6pt;\n",
       "  background-color: #eaeaea;\n",
       "  color: #000000;\n",
       "}\n",
       "#T_d3cff_row15_col15 {\n",
       "  font-size: 6pt;\n",
       "  background-color: #e2e2e2;\n",
       "  color: #000000;\n",
       "}\n",
       "#T_d3cff_row15_col16 {\n",
       "  font-size: 6pt;\n",
       "  background-color: #9f9f9f;\n",
       "  color: #f1f1f1;\n",
       "}\n",
       "#T_d3cff_row15_col20 {\n",
       "  font-size: 6pt;\n",
       "  background-color: #898989;\n",
       "  color: #f1f1f1;\n",
       "}\n",
       "#T_d3cff_row16_col17 {\n",
       "  font-size: 6pt;\n",
       "  background-color: #585858;\n",
       "  color: #f1f1f1;\n",
       "}\n",
       "#T_d3cff_row17_col17 {\n",
       "  font-size: 6pt;\n",
       "  background-color: #5a5a5a;\n",
       "  color: #f1f1f1;\n",
       "}\n",
       "#T_d3cff_row17_col20 {\n",
       "  font-size: 6pt;\n",
       "  background-color: #525252;\n",
       "  color: #f1f1f1;\n",
       "}\n",
       "#T_d3cff_row18_col16, #T_d3cff_row23_col15 {\n",
       "  font-size: 6pt;\n",
       "  background-color: #c5c5c5;\n",
       "  color: #000000;\n",
       "}\n",
       "#T_d3cff_row18_col20 {\n",
       "  font-size: 6pt;\n",
       "  background-color: #d7d7d7;\n",
       "  color: #000000;\n",
       "}\n",
       "#T_d3cff_row19_col15, #T_d3cff_row22_col9 {\n",
       "  font-size: 6pt;\n",
       "  background-color: #dcdcdc;\n",
       "  color: #000000;\n",
       "}\n",
       "#T_d3cff_row19_col16 {\n",
       "  font-size: 6pt;\n",
       "  background-color: #2f2f2f;\n",
       "  color: #f1f1f1;\n",
       "}\n",
       "#T_d3cff_row19_col19 {\n",
       "  font-size: 6pt;\n",
       "  background-color: #636363;\n",
       "  color: #f1f1f1;\n",
       "}\n",
       "#T_d3cff_row20_col15 {\n",
       "  font-size: 6pt;\n",
       "  background-color: #070707;\n",
       "  color: #f1f1f1;\n",
       "}\n",
       "#T_d3cff_row20_col18 {\n",
       "  font-size: 6pt;\n",
       "  background-color: #1f1f1f;\n",
       "  color: #f1f1f1;\n",
       "}\n",
       "#T_d3cff_row21_col12, #T_d3cff_row22_col6, #T_d3cff_row22_col8 {\n",
       "  font-size: 6pt;\n",
       "  background-color: #e9e9e9;\n",
       "  color: #000000;\n",
       "}\n",
       "#T_d3cff_row21_col13 {\n",
       "  font-size: 6pt;\n",
       "  background-color: #7d7d7d;\n",
       "  color: #f1f1f1;\n",
       "}\n",
       "#T_d3cff_row21_col18 {\n",
       "  font-size: 6pt;\n",
       "  background-color: #e1e1e1;\n",
       "  color: #000000;\n",
       "}\n",
       "#T_d3cff_row22_col7, #T_d3cff_row22_col10 {\n",
       "  font-size: 6pt;\n",
       "  background-color: #a4a4a4;\n",
       "  color: #f1f1f1;\n",
       "}\n",
       "#T_d3cff_row22_col11 {\n",
       "  font-size: 6pt;\n",
       "  background-color: #727272;\n",
       "  color: #f1f1f1;\n",
       "}\n",
       "#T_d3cff_row22_col16 {\n",
       "  font-size: 6pt;\n",
       "  background-color: #616161;\n",
       "  color: #f1f1f1;\n",
       "}\n",
       "#T_d3cff_row22_col17 {\n",
       "  font-size: 6pt;\n",
       "  background-color: #f3f3f3;\n",
       "  color: #000000;\n",
       "}\n",
       "#T_d3cff_row23_col14 {\n",
       "  font-size: 6pt;\n",
       "  background-color: #484848;\n",
       "  color: #f1f1f1;\n",
       "}\n",
       "#T_d3cff_row24_col6 {\n",
       "  font-size: 6pt;\n",
       "  background-color: #b3b3b3;\n",
       "  color: #000000;\n",
       "}\n",
       "#T_d3cff_row24_col12 {\n",
       "  font-size: 6pt;\n",
       "  background-color: #1a1a1a;\n",
       "  color: #f1f1f1;\n",
       "}\n",
       "#T_d3cff_row24_col13 {\n",
       "  font-size: 6pt;\n",
       "  background-color: #d6d6d6;\n",
       "  color: #000000;\n",
       "}\n",
       "</style>\n",
       "<table id=\"T_d3cff\">\n",
       "  <thead>\n",
       "    <tr>\n",
       "      <th class=\"blank level0\" >&nbsp;</th>\n",
       "      <th id=\"T_d3cff_level0_col0\" class=\"col_heading level0 col0\" >0</th>\n",
       "      <th id=\"T_d3cff_level0_col1\" class=\"col_heading level0 col1\" >1</th>\n",
       "      <th id=\"T_d3cff_level0_col2\" class=\"col_heading level0 col2\" >2</th>\n",
       "      <th id=\"T_d3cff_level0_col3\" class=\"col_heading level0 col3\" >3</th>\n",
       "      <th id=\"T_d3cff_level0_col4\" class=\"col_heading level0 col4\" >4</th>\n",
       "      <th id=\"T_d3cff_level0_col5\" class=\"col_heading level0 col5\" >5</th>\n",
       "      <th id=\"T_d3cff_level0_col6\" class=\"col_heading level0 col6\" >6</th>\n",
       "      <th id=\"T_d3cff_level0_col7\" class=\"col_heading level0 col7\" >7</th>\n",
       "      <th id=\"T_d3cff_level0_col8\" class=\"col_heading level0 col8\" >8</th>\n",
       "      <th id=\"T_d3cff_level0_col9\" class=\"col_heading level0 col9\" >9</th>\n",
       "      <th id=\"T_d3cff_level0_col10\" class=\"col_heading level0 col10\" >10</th>\n",
       "      <th id=\"T_d3cff_level0_col11\" class=\"col_heading level0 col11\" >11</th>\n",
       "      <th id=\"T_d3cff_level0_col12\" class=\"col_heading level0 col12\" >12</th>\n",
       "      <th id=\"T_d3cff_level0_col13\" class=\"col_heading level0 col13\" >13</th>\n",
       "      <th id=\"T_d3cff_level0_col14\" class=\"col_heading level0 col14\" >14</th>\n",
       "      <th id=\"T_d3cff_level0_col15\" class=\"col_heading level0 col15\" >15</th>\n",
       "      <th id=\"T_d3cff_level0_col16\" class=\"col_heading level0 col16\" >16</th>\n",
       "      <th id=\"T_d3cff_level0_col17\" class=\"col_heading level0 col17\" >17</th>\n",
       "      <th id=\"T_d3cff_level0_col18\" class=\"col_heading level0 col18\" >18</th>\n",
       "      <th id=\"T_d3cff_level0_col19\" class=\"col_heading level0 col19\" >19</th>\n",
       "      <th id=\"T_d3cff_level0_col20\" class=\"col_heading level0 col20\" >20</th>\n",
       "      <th id=\"T_d3cff_level0_col21\" class=\"col_heading level0 col21\" >21</th>\n",
       "      <th id=\"T_d3cff_level0_col22\" class=\"col_heading level0 col22\" >22</th>\n",
       "      <th id=\"T_d3cff_level0_col23\" class=\"col_heading level0 col23\" >23</th>\n",
       "      <th id=\"T_d3cff_level0_col24\" class=\"col_heading level0 col24\" >24</th>\n",
       "      <th id=\"T_d3cff_level0_col25\" class=\"col_heading level0 col25\" >25</th>\n",
       "      <th id=\"T_d3cff_level0_col26\" class=\"col_heading level0 col26\" >26</th>\n",
       "      <th id=\"T_d3cff_level0_col27\" class=\"col_heading level0 col27\" >27</th>\n",
       "    </tr>\n",
       "  </thead>\n",
       "  <tbody>\n",
       "    <tr>\n",
       "      <th id=\"T_d3cff_level0_row0\" class=\"row_heading level0 row0\" >0</th>\n",
       "      <td id=\"T_d3cff_row0_col0\" class=\"data row0 col0\" >0</td>\n",
       "      <td id=\"T_d3cff_row0_col1\" class=\"data row0 col1\" >0</td>\n",
       "      <td id=\"T_d3cff_row0_col2\" class=\"data row0 col2\" >0</td>\n",
       "      <td id=\"T_d3cff_row0_col3\" class=\"data row0 col3\" >0</td>\n",
       "      <td id=\"T_d3cff_row0_col4\" class=\"data row0 col4\" >0</td>\n",
       "      <td id=\"T_d3cff_row0_col5\" class=\"data row0 col5\" >0</td>\n",
       "      <td id=\"T_d3cff_row0_col6\" class=\"data row0 col6\" >0</td>\n",
       "      <td id=\"T_d3cff_row0_col7\" class=\"data row0 col7\" >0</td>\n",
       "      <td id=\"T_d3cff_row0_col8\" class=\"data row0 col8\" >0</td>\n",
       "      <td id=\"T_d3cff_row0_col9\" class=\"data row0 col9\" >0</td>\n",
       "      <td id=\"T_d3cff_row0_col10\" class=\"data row0 col10\" >0</td>\n",
       "      <td id=\"T_d3cff_row0_col11\" class=\"data row0 col11\" >0</td>\n",
       "      <td id=\"T_d3cff_row0_col12\" class=\"data row0 col12\" >0</td>\n",
       "      <td id=\"T_d3cff_row0_col13\" class=\"data row0 col13\" >0</td>\n",
       "      <td id=\"T_d3cff_row0_col14\" class=\"data row0 col14\" >0</td>\n",
       "      <td id=\"T_d3cff_row0_col15\" class=\"data row0 col15\" >0</td>\n",
       "      <td id=\"T_d3cff_row0_col16\" class=\"data row0 col16\" >0</td>\n",
       "      <td id=\"T_d3cff_row0_col17\" class=\"data row0 col17\" >0</td>\n",
       "      <td id=\"T_d3cff_row0_col18\" class=\"data row0 col18\" >0</td>\n",
       "      <td id=\"T_d3cff_row0_col19\" class=\"data row0 col19\" >0</td>\n",
       "      <td id=\"T_d3cff_row0_col20\" class=\"data row0 col20\" >0</td>\n",
       "      <td id=\"T_d3cff_row0_col21\" class=\"data row0 col21\" >0</td>\n",
       "      <td id=\"T_d3cff_row0_col22\" class=\"data row0 col22\" >0</td>\n",
       "      <td id=\"T_d3cff_row0_col23\" class=\"data row0 col23\" >0</td>\n",
       "      <td id=\"T_d3cff_row0_col24\" class=\"data row0 col24\" >0</td>\n",
       "      <td id=\"T_d3cff_row0_col25\" class=\"data row0 col25\" >0</td>\n",
       "      <td id=\"T_d3cff_row0_col26\" class=\"data row0 col26\" >0</td>\n",
       "      <td id=\"T_d3cff_row0_col27\" class=\"data row0 col27\" >0</td>\n",
       "    </tr>\n",
       "    <tr>\n",
       "      <th id=\"T_d3cff_level0_row1\" class=\"row_heading level0 row1\" >1</th>\n",
       "      <td id=\"T_d3cff_row1_col0\" class=\"data row1 col0\" >0</td>\n",
       "      <td id=\"T_d3cff_row1_col1\" class=\"data row1 col1\" >0</td>\n",
       "      <td id=\"T_d3cff_row1_col2\" class=\"data row1 col2\" >0</td>\n",
       "      <td id=\"T_d3cff_row1_col3\" class=\"data row1 col3\" >0</td>\n",
       "      <td id=\"T_d3cff_row1_col4\" class=\"data row1 col4\" >0</td>\n",
       "      <td id=\"T_d3cff_row1_col5\" class=\"data row1 col5\" >0</td>\n",
       "      <td id=\"T_d3cff_row1_col6\" class=\"data row1 col6\" >0</td>\n",
       "      <td id=\"T_d3cff_row1_col7\" class=\"data row1 col7\" >0</td>\n",
       "      <td id=\"T_d3cff_row1_col8\" class=\"data row1 col8\" >0</td>\n",
       "      <td id=\"T_d3cff_row1_col9\" class=\"data row1 col9\" >0</td>\n",
       "      <td id=\"T_d3cff_row1_col10\" class=\"data row1 col10\" >0</td>\n",
       "      <td id=\"T_d3cff_row1_col11\" class=\"data row1 col11\" >0</td>\n",
       "      <td id=\"T_d3cff_row1_col12\" class=\"data row1 col12\" >0</td>\n",
       "      <td id=\"T_d3cff_row1_col13\" class=\"data row1 col13\" >0</td>\n",
       "      <td id=\"T_d3cff_row1_col14\" class=\"data row1 col14\" >0</td>\n",
       "      <td id=\"T_d3cff_row1_col15\" class=\"data row1 col15\" >0</td>\n",
       "      <td id=\"T_d3cff_row1_col16\" class=\"data row1 col16\" >0</td>\n",
       "      <td id=\"T_d3cff_row1_col17\" class=\"data row1 col17\" >0</td>\n",
       "      <td id=\"T_d3cff_row1_col18\" class=\"data row1 col18\" >0</td>\n",
       "      <td id=\"T_d3cff_row1_col19\" class=\"data row1 col19\" >0</td>\n",
       "      <td id=\"T_d3cff_row1_col20\" class=\"data row1 col20\" >0</td>\n",
       "      <td id=\"T_d3cff_row1_col21\" class=\"data row1 col21\" >0</td>\n",
       "      <td id=\"T_d3cff_row1_col22\" class=\"data row1 col22\" >0</td>\n",
       "      <td id=\"T_d3cff_row1_col23\" class=\"data row1 col23\" >0</td>\n",
       "      <td id=\"T_d3cff_row1_col24\" class=\"data row1 col24\" >0</td>\n",
       "      <td id=\"T_d3cff_row1_col25\" class=\"data row1 col25\" >0</td>\n",
       "      <td id=\"T_d3cff_row1_col26\" class=\"data row1 col26\" >0</td>\n",
       "      <td id=\"T_d3cff_row1_col27\" class=\"data row1 col27\" >0</td>\n",
       "    </tr>\n",
       "    <tr>\n",
       "      <th id=\"T_d3cff_level0_row2\" class=\"row_heading level0 row2\" >2</th>\n",
       "      <td id=\"T_d3cff_row2_col0\" class=\"data row2 col0\" >0</td>\n",
       "      <td id=\"T_d3cff_row2_col1\" class=\"data row2 col1\" >0</td>\n",
       "      <td id=\"T_d3cff_row2_col2\" class=\"data row2 col2\" >0</td>\n",
       "      <td id=\"T_d3cff_row2_col3\" class=\"data row2 col3\" >0</td>\n",
       "      <td id=\"T_d3cff_row2_col4\" class=\"data row2 col4\" >0</td>\n",
       "      <td id=\"T_d3cff_row2_col5\" class=\"data row2 col5\" >0</td>\n",
       "      <td id=\"T_d3cff_row2_col6\" class=\"data row2 col6\" >0</td>\n",
       "      <td id=\"T_d3cff_row2_col7\" class=\"data row2 col7\" >0</td>\n",
       "      <td id=\"T_d3cff_row2_col8\" class=\"data row2 col8\" >0</td>\n",
       "      <td id=\"T_d3cff_row2_col9\" class=\"data row2 col9\" >0</td>\n",
       "      <td id=\"T_d3cff_row2_col10\" class=\"data row2 col10\" >0</td>\n",
       "      <td id=\"T_d3cff_row2_col11\" class=\"data row2 col11\" >0</td>\n",
       "      <td id=\"T_d3cff_row2_col12\" class=\"data row2 col12\" >0</td>\n",
       "      <td id=\"T_d3cff_row2_col13\" class=\"data row2 col13\" >0</td>\n",
       "      <td id=\"T_d3cff_row2_col14\" class=\"data row2 col14\" >0</td>\n",
       "      <td id=\"T_d3cff_row2_col15\" class=\"data row2 col15\" >0</td>\n",
       "      <td id=\"T_d3cff_row2_col16\" class=\"data row2 col16\" >0</td>\n",
       "      <td id=\"T_d3cff_row2_col17\" class=\"data row2 col17\" >0</td>\n",
       "      <td id=\"T_d3cff_row2_col18\" class=\"data row2 col18\" >0</td>\n",
       "      <td id=\"T_d3cff_row2_col19\" class=\"data row2 col19\" >0</td>\n",
       "      <td id=\"T_d3cff_row2_col20\" class=\"data row2 col20\" >0</td>\n",
       "      <td id=\"T_d3cff_row2_col21\" class=\"data row2 col21\" >0</td>\n",
       "      <td id=\"T_d3cff_row2_col22\" class=\"data row2 col22\" >0</td>\n",
       "      <td id=\"T_d3cff_row2_col23\" class=\"data row2 col23\" >0</td>\n",
       "      <td id=\"T_d3cff_row2_col24\" class=\"data row2 col24\" >0</td>\n",
       "      <td id=\"T_d3cff_row2_col25\" class=\"data row2 col25\" >0</td>\n",
       "      <td id=\"T_d3cff_row2_col26\" class=\"data row2 col26\" >0</td>\n",
       "      <td id=\"T_d3cff_row2_col27\" class=\"data row2 col27\" >0</td>\n",
       "    </tr>\n",
       "    <tr>\n",
       "      <th id=\"T_d3cff_level0_row3\" class=\"row_heading level0 row3\" >3</th>\n",
       "      <td id=\"T_d3cff_row3_col0\" class=\"data row3 col0\" >0</td>\n",
       "      <td id=\"T_d3cff_row3_col1\" class=\"data row3 col1\" >0</td>\n",
       "      <td id=\"T_d3cff_row3_col2\" class=\"data row3 col2\" >0</td>\n",
       "      <td id=\"T_d3cff_row3_col3\" class=\"data row3 col3\" >0</td>\n",
       "      <td id=\"T_d3cff_row3_col4\" class=\"data row3 col4\" >0</td>\n",
       "      <td id=\"T_d3cff_row3_col5\" class=\"data row3 col5\" >0</td>\n",
       "      <td id=\"T_d3cff_row3_col6\" class=\"data row3 col6\" >0</td>\n",
       "      <td id=\"T_d3cff_row3_col7\" class=\"data row3 col7\" >0</td>\n",
       "      <td id=\"T_d3cff_row3_col8\" class=\"data row3 col8\" >0</td>\n",
       "      <td id=\"T_d3cff_row3_col9\" class=\"data row3 col9\" >0</td>\n",
       "      <td id=\"T_d3cff_row3_col10\" class=\"data row3 col10\" >0</td>\n",
       "      <td id=\"T_d3cff_row3_col11\" class=\"data row3 col11\" >0</td>\n",
       "      <td id=\"T_d3cff_row3_col12\" class=\"data row3 col12\" >0</td>\n",
       "      <td id=\"T_d3cff_row3_col13\" class=\"data row3 col13\" >0</td>\n",
       "      <td id=\"T_d3cff_row3_col14\" class=\"data row3 col14\" >0</td>\n",
       "      <td id=\"T_d3cff_row3_col15\" class=\"data row3 col15\" >0</td>\n",
       "      <td id=\"T_d3cff_row3_col16\" class=\"data row3 col16\" >0</td>\n",
       "      <td id=\"T_d3cff_row3_col17\" class=\"data row3 col17\" >0</td>\n",
       "      <td id=\"T_d3cff_row3_col18\" class=\"data row3 col18\" >0</td>\n",
       "      <td id=\"T_d3cff_row3_col19\" class=\"data row3 col19\" >0</td>\n",
       "      <td id=\"T_d3cff_row3_col20\" class=\"data row3 col20\" >0</td>\n",
       "      <td id=\"T_d3cff_row3_col21\" class=\"data row3 col21\" >0</td>\n",
       "      <td id=\"T_d3cff_row3_col22\" class=\"data row3 col22\" >0</td>\n",
       "      <td id=\"T_d3cff_row3_col23\" class=\"data row3 col23\" >0</td>\n",
       "      <td id=\"T_d3cff_row3_col24\" class=\"data row3 col24\" >0</td>\n",
       "      <td id=\"T_d3cff_row3_col25\" class=\"data row3 col25\" >0</td>\n",
       "      <td id=\"T_d3cff_row3_col26\" class=\"data row3 col26\" >0</td>\n",
       "      <td id=\"T_d3cff_row3_col27\" class=\"data row3 col27\" >0</td>\n",
       "    </tr>\n",
       "    <tr>\n",
       "      <th id=\"T_d3cff_level0_row4\" class=\"row_heading level0 row4\" >4</th>\n",
       "      <td id=\"T_d3cff_row4_col0\" class=\"data row4 col0\" >0</td>\n",
       "      <td id=\"T_d3cff_row4_col1\" class=\"data row4 col1\" >0</td>\n",
       "      <td id=\"T_d3cff_row4_col2\" class=\"data row4 col2\" >0</td>\n",
       "      <td id=\"T_d3cff_row4_col3\" class=\"data row4 col3\" >0</td>\n",
       "      <td id=\"T_d3cff_row4_col4\" class=\"data row4 col4\" >0</td>\n",
       "      <td id=\"T_d3cff_row4_col5\" class=\"data row4 col5\" >0</td>\n",
       "      <td id=\"T_d3cff_row4_col6\" class=\"data row4 col6\" >0</td>\n",
       "      <td id=\"T_d3cff_row4_col7\" class=\"data row4 col7\" >0</td>\n",
       "      <td id=\"T_d3cff_row4_col8\" class=\"data row4 col8\" >0</td>\n",
       "      <td id=\"T_d3cff_row4_col9\" class=\"data row4 col9\" >0</td>\n",
       "      <td id=\"T_d3cff_row4_col10\" class=\"data row4 col10\" >0</td>\n",
       "      <td id=\"T_d3cff_row4_col11\" class=\"data row4 col11\" >0</td>\n",
       "      <td id=\"T_d3cff_row4_col12\" class=\"data row4 col12\" >0</td>\n",
       "      <td id=\"T_d3cff_row4_col13\" class=\"data row4 col13\" >0</td>\n",
       "      <td id=\"T_d3cff_row4_col14\" class=\"data row4 col14\" >0</td>\n",
       "      <td id=\"T_d3cff_row4_col15\" class=\"data row4 col15\" >0</td>\n",
       "      <td id=\"T_d3cff_row4_col16\" class=\"data row4 col16\" >0</td>\n",
       "      <td id=\"T_d3cff_row4_col17\" class=\"data row4 col17\" >0</td>\n",
       "      <td id=\"T_d3cff_row4_col18\" class=\"data row4 col18\" >0</td>\n",
       "      <td id=\"T_d3cff_row4_col19\" class=\"data row4 col19\" >0</td>\n",
       "      <td id=\"T_d3cff_row4_col20\" class=\"data row4 col20\" >0</td>\n",
       "      <td id=\"T_d3cff_row4_col21\" class=\"data row4 col21\" >0</td>\n",
       "      <td id=\"T_d3cff_row4_col22\" class=\"data row4 col22\" >0</td>\n",
       "      <td id=\"T_d3cff_row4_col23\" class=\"data row4 col23\" >0</td>\n",
       "      <td id=\"T_d3cff_row4_col24\" class=\"data row4 col24\" >0</td>\n",
       "      <td id=\"T_d3cff_row4_col25\" class=\"data row4 col25\" >0</td>\n",
       "      <td id=\"T_d3cff_row4_col26\" class=\"data row4 col26\" >0</td>\n",
       "      <td id=\"T_d3cff_row4_col27\" class=\"data row4 col27\" >0</td>\n",
       "    </tr>\n",
       "    <tr>\n",
       "      <th id=\"T_d3cff_level0_row5\" class=\"row_heading level0 row5\" >5</th>\n",
       "      <td id=\"T_d3cff_row5_col0\" class=\"data row5 col0\" >0</td>\n",
       "      <td id=\"T_d3cff_row5_col1\" class=\"data row5 col1\" >0</td>\n",
       "      <td id=\"T_d3cff_row5_col2\" class=\"data row5 col2\" >0</td>\n",
       "      <td id=\"T_d3cff_row5_col3\" class=\"data row5 col3\" >0</td>\n",
       "      <td id=\"T_d3cff_row5_col4\" class=\"data row5 col4\" >0</td>\n",
       "      <td id=\"T_d3cff_row5_col5\" class=\"data row5 col5\" >0</td>\n",
       "      <td id=\"T_d3cff_row5_col6\" class=\"data row5 col6\" >0</td>\n",
       "      <td id=\"T_d3cff_row5_col7\" class=\"data row5 col7\" >0</td>\n",
       "      <td id=\"T_d3cff_row5_col8\" class=\"data row5 col8\" >0</td>\n",
       "      <td id=\"T_d3cff_row5_col9\" class=\"data row5 col9\" >29</td>\n",
       "      <td id=\"T_d3cff_row5_col10\" class=\"data row5 col10\" >150</td>\n",
       "      <td id=\"T_d3cff_row5_col11\" class=\"data row5 col11\" >195</td>\n",
       "      <td id=\"T_d3cff_row5_col12\" class=\"data row5 col12\" >254</td>\n",
       "      <td id=\"T_d3cff_row5_col13\" class=\"data row5 col13\" >255</td>\n",
       "      <td id=\"T_d3cff_row5_col14\" class=\"data row5 col14\" >254</td>\n",
       "      <td id=\"T_d3cff_row5_col15\" class=\"data row5 col15\" >176</td>\n",
       "      <td id=\"T_d3cff_row5_col16\" class=\"data row5 col16\" >193</td>\n",
       "      <td id=\"T_d3cff_row5_col17\" class=\"data row5 col17\" >150</td>\n",
       "      <td id=\"T_d3cff_row5_col18\" class=\"data row5 col18\" >96</td>\n",
       "      <td id=\"T_d3cff_row5_col19\" class=\"data row5 col19\" >0</td>\n",
       "      <td id=\"T_d3cff_row5_col20\" class=\"data row5 col20\" >0</td>\n",
       "      <td id=\"T_d3cff_row5_col21\" class=\"data row5 col21\" >0</td>\n",
       "      <td id=\"T_d3cff_row5_col22\" class=\"data row5 col22\" >0</td>\n",
       "      <td id=\"T_d3cff_row5_col23\" class=\"data row5 col23\" >0</td>\n",
       "      <td id=\"T_d3cff_row5_col24\" class=\"data row5 col24\" >0</td>\n",
       "      <td id=\"T_d3cff_row5_col25\" class=\"data row5 col25\" >0</td>\n",
       "      <td id=\"T_d3cff_row5_col26\" class=\"data row5 col26\" >0</td>\n",
       "      <td id=\"T_d3cff_row5_col27\" class=\"data row5 col27\" >0</td>\n",
       "    </tr>\n",
       "    <tr>\n",
       "      <th id=\"T_d3cff_level0_row6\" class=\"row_heading level0 row6\" >6</th>\n",
       "      <td id=\"T_d3cff_row6_col0\" class=\"data row6 col0\" >0</td>\n",
       "      <td id=\"T_d3cff_row6_col1\" class=\"data row6 col1\" >0</td>\n",
       "      <td id=\"T_d3cff_row6_col2\" class=\"data row6 col2\" >0</td>\n",
       "      <td id=\"T_d3cff_row6_col3\" class=\"data row6 col3\" >0</td>\n",
       "      <td id=\"T_d3cff_row6_col4\" class=\"data row6 col4\" >0</td>\n",
       "      <td id=\"T_d3cff_row6_col5\" class=\"data row6 col5\" >0</td>\n",
       "      <td id=\"T_d3cff_row6_col6\" class=\"data row6 col6\" >0</td>\n",
       "      <td id=\"T_d3cff_row6_col7\" class=\"data row6 col7\" >48</td>\n",
       "      <td id=\"T_d3cff_row6_col8\" class=\"data row6 col8\" >166</td>\n",
       "      <td id=\"T_d3cff_row6_col9\" class=\"data row6 col9\" >224</td>\n",
       "      <td id=\"T_d3cff_row6_col10\" class=\"data row6 col10\" >253</td>\n",
       "      <td id=\"T_d3cff_row6_col11\" class=\"data row6 col11\" >253</td>\n",
       "      <td id=\"T_d3cff_row6_col12\" class=\"data row6 col12\" >234</td>\n",
       "      <td id=\"T_d3cff_row6_col13\" class=\"data row6 col13\" >196</td>\n",
       "      <td id=\"T_d3cff_row6_col14\" class=\"data row6 col14\" >253</td>\n",
       "      <td id=\"T_d3cff_row6_col15\" class=\"data row6 col15\" >253</td>\n",
       "      <td id=\"T_d3cff_row6_col16\" class=\"data row6 col16\" >253</td>\n",
       "      <td id=\"T_d3cff_row6_col17\" class=\"data row6 col17\" >253</td>\n",
       "      <td id=\"T_d3cff_row6_col18\" class=\"data row6 col18\" >233</td>\n",
       "      <td id=\"T_d3cff_row6_col19\" class=\"data row6 col19\" >0</td>\n",
       "      <td id=\"T_d3cff_row6_col20\" class=\"data row6 col20\" >0</td>\n",
       "      <td id=\"T_d3cff_row6_col21\" class=\"data row6 col21\" >0</td>\n",
       "      <td id=\"T_d3cff_row6_col22\" class=\"data row6 col22\" >0</td>\n",
       "      <td id=\"T_d3cff_row6_col23\" class=\"data row6 col23\" >0</td>\n",
       "      <td id=\"T_d3cff_row6_col24\" class=\"data row6 col24\" >0</td>\n",
       "      <td id=\"T_d3cff_row6_col25\" class=\"data row6 col25\" >0</td>\n",
       "      <td id=\"T_d3cff_row6_col26\" class=\"data row6 col26\" >0</td>\n",
       "      <td id=\"T_d3cff_row6_col27\" class=\"data row6 col27\" >0</td>\n",
       "    </tr>\n",
       "    <tr>\n",
       "      <th id=\"T_d3cff_level0_row7\" class=\"row_heading level0 row7\" >7</th>\n",
       "      <td id=\"T_d3cff_row7_col0\" class=\"data row7 col0\" >0</td>\n",
       "      <td id=\"T_d3cff_row7_col1\" class=\"data row7 col1\" >0</td>\n",
       "      <td id=\"T_d3cff_row7_col2\" class=\"data row7 col2\" >0</td>\n",
       "      <td id=\"T_d3cff_row7_col3\" class=\"data row7 col3\" >0</td>\n",
       "      <td id=\"T_d3cff_row7_col4\" class=\"data row7 col4\" >0</td>\n",
       "      <td id=\"T_d3cff_row7_col5\" class=\"data row7 col5\" >93</td>\n",
       "      <td id=\"T_d3cff_row7_col6\" class=\"data row7 col6\" >244</td>\n",
       "      <td id=\"T_d3cff_row7_col7\" class=\"data row7 col7\" >249</td>\n",
       "      <td id=\"T_d3cff_row7_col8\" class=\"data row7 col8\" >253</td>\n",
       "      <td id=\"T_d3cff_row7_col9\" class=\"data row7 col9\" >187</td>\n",
       "      <td id=\"T_d3cff_row7_col10\" class=\"data row7 col10\" >46</td>\n",
       "      <td id=\"T_d3cff_row7_col11\" class=\"data row7 col11\" >10</td>\n",
       "      <td id=\"T_d3cff_row7_col12\" class=\"data row7 col12\" >8</td>\n",
       "      <td id=\"T_d3cff_row7_col13\" class=\"data row7 col13\" >4</td>\n",
       "      <td id=\"T_d3cff_row7_col14\" class=\"data row7 col14\" >10</td>\n",
       "      <td id=\"T_d3cff_row7_col15\" class=\"data row7 col15\" >194</td>\n",
       "      <td id=\"T_d3cff_row7_col16\" class=\"data row7 col16\" >253</td>\n",
       "      <td id=\"T_d3cff_row7_col17\" class=\"data row7 col17\" >253</td>\n",
       "      <td id=\"T_d3cff_row7_col18\" class=\"data row7 col18\" >233</td>\n",
       "      <td id=\"T_d3cff_row7_col19\" class=\"data row7 col19\" >0</td>\n",
       "      <td id=\"T_d3cff_row7_col20\" class=\"data row7 col20\" >0</td>\n",
       "      <td id=\"T_d3cff_row7_col21\" class=\"data row7 col21\" >0</td>\n",
       "      <td id=\"T_d3cff_row7_col22\" class=\"data row7 col22\" >0</td>\n",
       "      <td id=\"T_d3cff_row7_col23\" class=\"data row7 col23\" >0</td>\n",
       "      <td id=\"T_d3cff_row7_col24\" class=\"data row7 col24\" >0</td>\n",
       "      <td id=\"T_d3cff_row7_col25\" class=\"data row7 col25\" >0</td>\n",
       "      <td id=\"T_d3cff_row7_col26\" class=\"data row7 col26\" >0</td>\n",
       "      <td id=\"T_d3cff_row7_col27\" class=\"data row7 col27\" >0</td>\n",
       "    </tr>\n",
       "    <tr>\n",
       "      <th id=\"T_d3cff_level0_row8\" class=\"row_heading level0 row8\" >8</th>\n",
       "      <td id=\"T_d3cff_row8_col0\" class=\"data row8 col0\" >0</td>\n",
       "      <td id=\"T_d3cff_row8_col1\" class=\"data row8 col1\" >0</td>\n",
       "      <td id=\"T_d3cff_row8_col2\" class=\"data row8 col2\" >0</td>\n",
       "      <td id=\"T_d3cff_row8_col3\" class=\"data row8 col3\" >0</td>\n",
       "      <td id=\"T_d3cff_row8_col4\" class=\"data row8 col4\" >0</td>\n",
       "      <td id=\"T_d3cff_row8_col5\" class=\"data row8 col5\" >107</td>\n",
       "      <td id=\"T_d3cff_row8_col6\" class=\"data row8 col6\" >253</td>\n",
       "      <td id=\"T_d3cff_row8_col7\" class=\"data row8 col7\" >253</td>\n",
       "      <td id=\"T_d3cff_row8_col8\" class=\"data row8 col8\" >230</td>\n",
       "      <td id=\"T_d3cff_row8_col9\" class=\"data row8 col9\" >48</td>\n",
       "      <td id=\"T_d3cff_row8_col10\" class=\"data row8 col10\" >0</td>\n",
       "      <td id=\"T_d3cff_row8_col11\" class=\"data row8 col11\" >0</td>\n",
       "      <td id=\"T_d3cff_row8_col12\" class=\"data row8 col12\" >0</td>\n",
       "      <td id=\"T_d3cff_row8_col13\" class=\"data row8 col13\" >0</td>\n",
       "      <td id=\"T_d3cff_row8_col14\" class=\"data row8 col14\" >0</td>\n",
       "      <td id=\"T_d3cff_row8_col15\" class=\"data row8 col15\" >192</td>\n",
       "      <td id=\"T_d3cff_row8_col16\" class=\"data row8 col16\" >253</td>\n",
       "      <td id=\"T_d3cff_row8_col17\" class=\"data row8 col17\" >253</td>\n",
       "      <td id=\"T_d3cff_row8_col18\" class=\"data row8 col18\" >156</td>\n",
       "      <td id=\"T_d3cff_row8_col19\" class=\"data row8 col19\" >0</td>\n",
       "      <td id=\"T_d3cff_row8_col20\" class=\"data row8 col20\" >0</td>\n",
       "      <td id=\"T_d3cff_row8_col21\" class=\"data row8 col21\" >0</td>\n",
       "      <td id=\"T_d3cff_row8_col22\" class=\"data row8 col22\" >0</td>\n",
       "      <td id=\"T_d3cff_row8_col23\" class=\"data row8 col23\" >0</td>\n",
       "      <td id=\"T_d3cff_row8_col24\" class=\"data row8 col24\" >0</td>\n",
       "      <td id=\"T_d3cff_row8_col25\" class=\"data row8 col25\" >0</td>\n",
       "      <td id=\"T_d3cff_row8_col26\" class=\"data row8 col26\" >0</td>\n",
       "      <td id=\"T_d3cff_row8_col27\" class=\"data row8 col27\" >0</td>\n",
       "    </tr>\n",
       "    <tr>\n",
       "      <th id=\"T_d3cff_level0_row9\" class=\"row_heading level0 row9\" >9</th>\n",
       "      <td id=\"T_d3cff_row9_col0\" class=\"data row9 col0\" >0</td>\n",
       "      <td id=\"T_d3cff_row9_col1\" class=\"data row9 col1\" >0</td>\n",
       "      <td id=\"T_d3cff_row9_col2\" class=\"data row9 col2\" >0</td>\n",
       "      <td id=\"T_d3cff_row9_col3\" class=\"data row9 col3\" >0</td>\n",
       "      <td id=\"T_d3cff_row9_col4\" class=\"data row9 col4\" >0</td>\n",
       "      <td id=\"T_d3cff_row9_col5\" class=\"data row9 col5\" >3</td>\n",
       "      <td id=\"T_d3cff_row9_col6\" class=\"data row9 col6\" >20</td>\n",
       "      <td id=\"T_d3cff_row9_col7\" class=\"data row9 col7\" >20</td>\n",
       "      <td id=\"T_d3cff_row9_col8\" class=\"data row9 col8\" >15</td>\n",
       "      <td id=\"T_d3cff_row9_col9\" class=\"data row9 col9\" >0</td>\n",
       "      <td id=\"T_d3cff_row9_col10\" class=\"data row9 col10\" >0</td>\n",
       "      <td id=\"T_d3cff_row9_col11\" class=\"data row9 col11\" >0</td>\n",
       "      <td id=\"T_d3cff_row9_col12\" class=\"data row9 col12\" >0</td>\n",
       "      <td id=\"T_d3cff_row9_col13\" class=\"data row9 col13\" >0</td>\n",
       "      <td id=\"T_d3cff_row9_col14\" class=\"data row9 col14\" >43</td>\n",
       "      <td id=\"T_d3cff_row9_col15\" class=\"data row9 col15\" >224</td>\n",
       "      <td id=\"T_d3cff_row9_col16\" class=\"data row9 col16\" >253</td>\n",
       "      <td id=\"T_d3cff_row9_col17\" class=\"data row9 col17\" >245</td>\n",
       "      <td id=\"T_d3cff_row9_col18\" class=\"data row9 col18\" >74</td>\n",
       "      <td id=\"T_d3cff_row9_col19\" class=\"data row9 col19\" >0</td>\n",
       "      <td id=\"T_d3cff_row9_col20\" class=\"data row9 col20\" >0</td>\n",
       "      <td id=\"T_d3cff_row9_col21\" class=\"data row9 col21\" >0</td>\n",
       "      <td id=\"T_d3cff_row9_col22\" class=\"data row9 col22\" >0</td>\n",
       "      <td id=\"T_d3cff_row9_col23\" class=\"data row9 col23\" >0</td>\n",
       "      <td id=\"T_d3cff_row9_col24\" class=\"data row9 col24\" >0</td>\n",
       "      <td id=\"T_d3cff_row9_col25\" class=\"data row9 col25\" >0</td>\n",
       "      <td id=\"T_d3cff_row9_col26\" class=\"data row9 col26\" >0</td>\n",
       "      <td id=\"T_d3cff_row9_col27\" class=\"data row9 col27\" >0</td>\n",
       "    </tr>\n",
       "    <tr>\n",
       "      <th id=\"T_d3cff_level0_row10\" class=\"row_heading level0 row10\" >10</th>\n",
       "      <td id=\"T_d3cff_row10_col0\" class=\"data row10 col0\" >0</td>\n",
       "      <td id=\"T_d3cff_row10_col1\" class=\"data row10 col1\" >0</td>\n",
       "      <td id=\"T_d3cff_row10_col2\" class=\"data row10 col2\" >0</td>\n",
       "      <td id=\"T_d3cff_row10_col3\" class=\"data row10 col3\" >0</td>\n",
       "      <td id=\"T_d3cff_row10_col4\" class=\"data row10 col4\" >0</td>\n",
       "      <td id=\"T_d3cff_row10_col5\" class=\"data row10 col5\" >0</td>\n",
       "      <td id=\"T_d3cff_row10_col6\" class=\"data row10 col6\" >0</td>\n",
       "      <td id=\"T_d3cff_row10_col7\" class=\"data row10 col7\" >0</td>\n",
       "      <td id=\"T_d3cff_row10_col8\" class=\"data row10 col8\" >0</td>\n",
       "      <td id=\"T_d3cff_row10_col9\" class=\"data row10 col9\" >0</td>\n",
       "      <td id=\"T_d3cff_row10_col10\" class=\"data row10 col10\" >0</td>\n",
       "      <td id=\"T_d3cff_row10_col11\" class=\"data row10 col11\" >0</td>\n",
       "      <td id=\"T_d3cff_row10_col12\" class=\"data row10 col12\" >0</td>\n",
       "      <td id=\"T_d3cff_row10_col13\" class=\"data row10 col13\" >0</td>\n",
       "      <td id=\"T_d3cff_row10_col14\" class=\"data row10 col14\" >249</td>\n",
       "      <td id=\"T_d3cff_row10_col15\" class=\"data row10 col15\" >253</td>\n",
       "      <td id=\"T_d3cff_row10_col16\" class=\"data row10 col16\" >245</td>\n",
       "      <td id=\"T_d3cff_row10_col17\" class=\"data row10 col17\" >126</td>\n",
       "      <td id=\"T_d3cff_row10_col18\" class=\"data row10 col18\" >0</td>\n",
       "      <td id=\"T_d3cff_row10_col19\" class=\"data row10 col19\" >0</td>\n",
       "      <td id=\"T_d3cff_row10_col20\" class=\"data row10 col20\" >0</td>\n",
       "      <td id=\"T_d3cff_row10_col21\" class=\"data row10 col21\" >0</td>\n",
       "      <td id=\"T_d3cff_row10_col22\" class=\"data row10 col22\" >0</td>\n",
       "      <td id=\"T_d3cff_row10_col23\" class=\"data row10 col23\" >0</td>\n",
       "      <td id=\"T_d3cff_row10_col24\" class=\"data row10 col24\" >0</td>\n",
       "      <td id=\"T_d3cff_row10_col25\" class=\"data row10 col25\" >0</td>\n",
       "      <td id=\"T_d3cff_row10_col26\" class=\"data row10 col26\" >0</td>\n",
       "      <td id=\"T_d3cff_row10_col27\" class=\"data row10 col27\" >0</td>\n",
       "    </tr>\n",
       "    <tr>\n",
       "      <th id=\"T_d3cff_level0_row11\" class=\"row_heading level0 row11\" >11</th>\n",
       "      <td id=\"T_d3cff_row11_col0\" class=\"data row11 col0\" >0</td>\n",
       "      <td id=\"T_d3cff_row11_col1\" class=\"data row11 col1\" >0</td>\n",
       "      <td id=\"T_d3cff_row11_col2\" class=\"data row11 col2\" >0</td>\n",
       "      <td id=\"T_d3cff_row11_col3\" class=\"data row11 col3\" >0</td>\n",
       "      <td id=\"T_d3cff_row11_col4\" class=\"data row11 col4\" >0</td>\n",
       "      <td id=\"T_d3cff_row11_col5\" class=\"data row11 col5\" >0</td>\n",
       "      <td id=\"T_d3cff_row11_col6\" class=\"data row11 col6\" >0</td>\n",
       "      <td id=\"T_d3cff_row11_col7\" class=\"data row11 col7\" >0</td>\n",
       "      <td id=\"T_d3cff_row11_col8\" class=\"data row11 col8\" >0</td>\n",
       "      <td id=\"T_d3cff_row11_col9\" class=\"data row11 col9\" >0</td>\n",
       "      <td id=\"T_d3cff_row11_col10\" class=\"data row11 col10\" >0</td>\n",
       "      <td id=\"T_d3cff_row11_col11\" class=\"data row11 col11\" >14</td>\n",
       "      <td id=\"T_d3cff_row11_col12\" class=\"data row11 col12\" >101</td>\n",
       "      <td id=\"T_d3cff_row11_col13\" class=\"data row11 col13\" >223</td>\n",
       "      <td id=\"T_d3cff_row11_col14\" class=\"data row11 col14\" >253</td>\n",
       "      <td id=\"T_d3cff_row11_col15\" class=\"data row11 col15\" >248</td>\n",
       "      <td id=\"T_d3cff_row11_col16\" class=\"data row11 col16\" >124</td>\n",
       "      <td id=\"T_d3cff_row11_col17\" class=\"data row11 col17\" >0</td>\n",
       "      <td id=\"T_d3cff_row11_col18\" class=\"data row11 col18\" >0</td>\n",
       "      <td id=\"T_d3cff_row11_col19\" class=\"data row11 col19\" >0</td>\n",
       "      <td id=\"T_d3cff_row11_col20\" class=\"data row11 col20\" >0</td>\n",
       "      <td id=\"T_d3cff_row11_col21\" class=\"data row11 col21\" >0</td>\n",
       "      <td id=\"T_d3cff_row11_col22\" class=\"data row11 col22\" >0</td>\n",
       "      <td id=\"T_d3cff_row11_col23\" class=\"data row11 col23\" >0</td>\n",
       "      <td id=\"T_d3cff_row11_col24\" class=\"data row11 col24\" >0</td>\n",
       "      <td id=\"T_d3cff_row11_col25\" class=\"data row11 col25\" >0</td>\n",
       "      <td id=\"T_d3cff_row11_col26\" class=\"data row11 col26\" >0</td>\n",
       "      <td id=\"T_d3cff_row11_col27\" class=\"data row11 col27\" >0</td>\n",
       "    </tr>\n",
       "    <tr>\n",
       "      <th id=\"T_d3cff_level0_row12\" class=\"row_heading level0 row12\" >12</th>\n",
       "      <td id=\"T_d3cff_row12_col0\" class=\"data row12 col0\" >0</td>\n",
       "      <td id=\"T_d3cff_row12_col1\" class=\"data row12 col1\" >0</td>\n",
       "      <td id=\"T_d3cff_row12_col2\" class=\"data row12 col2\" >0</td>\n",
       "      <td id=\"T_d3cff_row12_col3\" class=\"data row12 col3\" >0</td>\n",
       "      <td id=\"T_d3cff_row12_col4\" class=\"data row12 col4\" >0</td>\n",
       "      <td id=\"T_d3cff_row12_col5\" class=\"data row12 col5\" >0</td>\n",
       "      <td id=\"T_d3cff_row12_col6\" class=\"data row12 col6\" >0</td>\n",
       "      <td id=\"T_d3cff_row12_col7\" class=\"data row12 col7\" >0</td>\n",
       "      <td id=\"T_d3cff_row12_col8\" class=\"data row12 col8\" >0</td>\n",
       "      <td id=\"T_d3cff_row12_col9\" class=\"data row12 col9\" >11</td>\n",
       "      <td id=\"T_d3cff_row12_col10\" class=\"data row12 col10\" >166</td>\n",
       "      <td id=\"T_d3cff_row12_col11\" class=\"data row12 col11\" >239</td>\n",
       "      <td id=\"T_d3cff_row12_col12\" class=\"data row12 col12\" >253</td>\n",
       "      <td id=\"T_d3cff_row12_col13\" class=\"data row12 col13\" >253</td>\n",
       "      <td id=\"T_d3cff_row12_col14\" class=\"data row12 col14\" >253</td>\n",
       "      <td id=\"T_d3cff_row12_col15\" class=\"data row12 col15\" >187</td>\n",
       "      <td id=\"T_d3cff_row12_col16\" class=\"data row12 col16\" >30</td>\n",
       "      <td id=\"T_d3cff_row12_col17\" class=\"data row12 col17\" >0</td>\n",
       "      <td id=\"T_d3cff_row12_col18\" class=\"data row12 col18\" >0</td>\n",
       "      <td id=\"T_d3cff_row12_col19\" class=\"data row12 col19\" >0</td>\n",
       "      <td id=\"T_d3cff_row12_col20\" class=\"data row12 col20\" >0</td>\n",
       "      <td id=\"T_d3cff_row12_col21\" class=\"data row12 col21\" >0</td>\n",
       "      <td id=\"T_d3cff_row12_col22\" class=\"data row12 col22\" >0</td>\n",
       "      <td id=\"T_d3cff_row12_col23\" class=\"data row12 col23\" >0</td>\n",
       "      <td id=\"T_d3cff_row12_col24\" class=\"data row12 col24\" >0</td>\n",
       "      <td id=\"T_d3cff_row12_col25\" class=\"data row12 col25\" >0</td>\n",
       "      <td id=\"T_d3cff_row12_col26\" class=\"data row12 col26\" >0</td>\n",
       "      <td id=\"T_d3cff_row12_col27\" class=\"data row12 col27\" >0</td>\n",
       "    </tr>\n",
       "    <tr>\n",
       "      <th id=\"T_d3cff_level0_row13\" class=\"row_heading level0 row13\" >13</th>\n",
       "      <td id=\"T_d3cff_row13_col0\" class=\"data row13 col0\" >0</td>\n",
       "      <td id=\"T_d3cff_row13_col1\" class=\"data row13 col1\" >0</td>\n",
       "      <td id=\"T_d3cff_row13_col2\" class=\"data row13 col2\" >0</td>\n",
       "      <td id=\"T_d3cff_row13_col3\" class=\"data row13 col3\" >0</td>\n",
       "      <td id=\"T_d3cff_row13_col4\" class=\"data row13 col4\" >0</td>\n",
       "      <td id=\"T_d3cff_row13_col5\" class=\"data row13 col5\" >0</td>\n",
       "      <td id=\"T_d3cff_row13_col6\" class=\"data row13 col6\" >0</td>\n",
       "      <td id=\"T_d3cff_row13_col7\" class=\"data row13 col7\" >0</td>\n",
       "      <td id=\"T_d3cff_row13_col8\" class=\"data row13 col8\" >0</td>\n",
       "      <td id=\"T_d3cff_row13_col9\" class=\"data row13 col9\" >16</td>\n",
       "      <td id=\"T_d3cff_row13_col10\" class=\"data row13 col10\" >248</td>\n",
       "      <td id=\"T_d3cff_row13_col11\" class=\"data row13 col11\" >250</td>\n",
       "      <td id=\"T_d3cff_row13_col12\" class=\"data row13 col12\" >253</td>\n",
       "      <td id=\"T_d3cff_row13_col13\" class=\"data row13 col13\" >253</td>\n",
       "      <td id=\"T_d3cff_row13_col14\" class=\"data row13 col14\" >253</td>\n",
       "      <td id=\"T_d3cff_row13_col15\" class=\"data row13 col15\" >253</td>\n",
       "      <td id=\"T_d3cff_row13_col16\" class=\"data row13 col16\" >232</td>\n",
       "      <td id=\"T_d3cff_row13_col17\" class=\"data row13 col17\" >213</td>\n",
       "      <td id=\"T_d3cff_row13_col18\" class=\"data row13 col18\" >111</td>\n",
       "      <td id=\"T_d3cff_row13_col19\" class=\"data row13 col19\" >2</td>\n",
       "      <td id=\"T_d3cff_row13_col20\" class=\"data row13 col20\" >0</td>\n",
       "      <td id=\"T_d3cff_row13_col21\" class=\"data row13 col21\" >0</td>\n",
       "      <td id=\"T_d3cff_row13_col22\" class=\"data row13 col22\" >0</td>\n",
       "      <td id=\"T_d3cff_row13_col23\" class=\"data row13 col23\" >0</td>\n",
       "      <td id=\"T_d3cff_row13_col24\" class=\"data row13 col24\" >0</td>\n",
       "      <td id=\"T_d3cff_row13_col25\" class=\"data row13 col25\" >0</td>\n",
       "      <td id=\"T_d3cff_row13_col26\" class=\"data row13 col26\" >0</td>\n",
       "      <td id=\"T_d3cff_row13_col27\" class=\"data row13 col27\" >0</td>\n",
       "    </tr>\n",
       "    <tr>\n",
       "      <th id=\"T_d3cff_level0_row14\" class=\"row_heading level0 row14\" >14</th>\n",
       "      <td id=\"T_d3cff_row14_col0\" class=\"data row14 col0\" >0</td>\n",
       "      <td id=\"T_d3cff_row14_col1\" class=\"data row14 col1\" >0</td>\n",
       "      <td id=\"T_d3cff_row14_col2\" class=\"data row14 col2\" >0</td>\n",
       "      <td id=\"T_d3cff_row14_col3\" class=\"data row14 col3\" >0</td>\n",
       "      <td id=\"T_d3cff_row14_col4\" class=\"data row14 col4\" >0</td>\n",
       "      <td id=\"T_d3cff_row14_col5\" class=\"data row14 col5\" >0</td>\n",
       "      <td id=\"T_d3cff_row14_col6\" class=\"data row14 col6\" >0</td>\n",
       "      <td id=\"T_d3cff_row14_col7\" class=\"data row14 col7\" >0</td>\n",
       "      <td id=\"T_d3cff_row14_col8\" class=\"data row14 col8\" >0</td>\n",
       "      <td id=\"T_d3cff_row14_col9\" class=\"data row14 col9\" >0</td>\n",
       "      <td id=\"T_d3cff_row14_col10\" class=\"data row14 col10\" >0</td>\n",
       "      <td id=\"T_d3cff_row14_col11\" class=\"data row14 col11\" >43</td>\n",
       "      <td id=\"T_d3cff_row14_col12\" class=\"data row14 col12\" >98</td>\n",
       "      <td id=\"T_d3cff_row14_col13\" class=\"data row14 col13\" >98</td>\n",
       "      <td id=\"T_d3cff_row14_col14\" class=\"data row14 col14\" >208</td>\n",
       "      <td id=\"T_d3cff_row14_col15\" class=\"data row14 col15\" >253</td>\n",
       "      <td id=\"T_d3cff_row14_col16\" class=\"data row14 col16\" >253</td>\n",
       "      <td id=\"T_d3cff_row14_col17\" class=\"data row14 col17\" >253</td>\n",
       "      <td id=\"T_d3cff_row14_col18\" class=\"data row14 col18\" >253</td>\n",
       "      <td id=\"T_d3cff_row14_col19\" class=\"data row14 col19\" >187</td>\n",
       "      <td id=\"T_d3cff_row14_col20\" class=\"data row14 col20\" >22</td>\n",
       "      <td id=\"T_d3cff_row14_col21\" class=\"data row14 col21\" >0</td>\n",
       "      <td id=\"T_d3cff_row14_col22\" class=\"data row14 col22\" >0</td>\n",
       "      <td id=\"T_d3cff_row14_col23\" class=\"data row14 col23\" >0</td>\n",
       "      <td id=\"T_d3cff_row14_col24\" class=\"data row14 col24\" >0</td>\n",
       "      <td id=\"T_d3cff_row14_col25\" class=\"data row14 col25\" >0</td>\n",
       "      <td id=\"T_d3cff_row14_col26\" class=\"data row14 col26\" >0</td>\n",
       "      <td id=\"T_d3cff_row14_col27\" class=\"data row14 col27\" >0</td>\n",
       "    </tr>\n",
       "    <tr>\n",
       "      <th id=\"T_d3cff_level0_row15\" class=\"row_heading level0 row15\" >15</th>\n",
       "      <td id=\"T_d3cff_row15_col0\" class=\"data row15 col0\" >0</td>\n",
       "      <td id=\"T_d3cff_row15_col1\" class=\"data row15 col1\" >0</td>\n",
       "      <td id=\"T_d3cff_row15_col2\" class=\"data row15 col2\" >0</td>\n",
       "      <td id=\"T_d3cff_row15_col3\" class=\"data row15 col3\" >0</td>\n",
       "      <td id=\"T_d3cff_row15_col4\" class=\"data row15 col4\" >0</td>\n",
       "      <td id=\"T_d3cff_row15_col5\" class=\"data row15 col5\" >0</td>\n",
       "      <td id=\"T_d3cff_row15_col6\" class=\"data row15 col6\" >0</td>\n",
       "      <td id=\"T_d3cff_row15_col7\" class=\"data row15 col7\" >0</td>\n",
       "      <td id=\"T_d3cff_row15_col8\" class=\"data row15 col8\" >0</td>\n",
       "      <td id=\"T_d3cff_row15_col9\" class=\"data row15 col9\" >0</td>\n",
       "      <td id=\"T_d3cff_row15_col10\" class=\"data row15 col10\" >0</td>\n",
       "      <td id=\"T_d3cff_row15_col11\" class=\"data row15 col11\" >0</td>\n",
       "      <td id=\"T_d3cff_row15_col12\" class=\"data row15 col12\" >0</td>\n",
       "      <td id=\"T_d3cff_row15_col13\" class=\"data row15 col13\" >0</td>\n",
       "      <td id=\"T_d3cff_row15_col14\" class=\"data row15 col14\" >9</td>\n",
       "      <td id=\"T_d3cff_row15_col15\" class=\"data row15 col15\" >51</td>\n",
       "      <td id=\"T_d3cff_row15_col16\" class=\"data row15 col16\" >119</td>\n",
       "      <td id=\"T_d3cff_row15_col17\" class=\"data row15 col17\" >253</td>\n",
       "      <td id=\"T_d3cff_row15_col18\" class=\"data row15 col18\" >253</td>\n",
       "      <td id=\"T_d3cff_row15_col19\" class=\"data row15 col19\" >253</td>\n",
       "      <td id=\"T_d3cff_row15_col20\" class=\"data row15 col20\" >76</td>\n",
       "      <td id=\"T_d3cff_row15_col21\" class=\"data row15 col21\" >0</td>\n",
       "      <td id=\"T_d3cff_row15_col22\" class=\"data row15 col22\" >0</td>\n",
       "      <td id=\"T_d3cff_row15_col23\" class=\"data row15 col23\" >0</td>\n",
       "      <td id=\"T_d3cff_row15_col24\" class=\"data row15 col24\" >0</td>\n",
       "      <td id=\"T_d3cff_row15_col25\" class=\"data row15 col25\" >0</td>\n",
       "      <td id=\"T_d3cff_row15_col26\" class=\"data row15 col26\" >0</td>\n",
       "      <td id=\"T_d3cff_row15_col27\" class=\"data row15 col27\" >0</td>\n",
       "    </tr>\n",
       "    <tr>\n",
       "      <th id=\"T_d3cff_level0_row16\" class=\"row_heading level0 row16\" >16</th>\n",
       "      <td id=\"T_d3cff_row16_col0\" class=\"data row16 col0\" >0</td>\n",
       "      <td id=\"T_d3cff_row16_col1\" class=\"data row16 col1\" >0</td>\n",
       "      <td id=\"T_d3cff_row16_col2\" class=\"data row16 col2\" >0</td>\n",
       "      <td id=\"T_d3cff_row16_col3\" class=\"data row16 col3\" >0</td>\n",
       "      <td id=\"T_d3cff_row16_col4\" class=\"data row16 col4\" >0</td>\n",
       "      <td id=\"T_d3cff_row16_col5\" class=\"data row16 col5\" >0</td>\n",
       "      <td id=\"T_d3cff_row16_col6\" class=\"data row16 col6\" >0</td>\n",
       "      <td id=\"T_d3cff_row16_col7\" class=\"data row16 col7\" >0</td>\n",
       "      <td id=\"T_d3cff_row16_col8\" class=\"data row16 col8\" >0</td>\n",
       "      <td id=\"T_d3cff_row16_col9\" class=\"data row16 col9\" >0</td>\n",
       "      <td id=\"T_d3cff_row16_col10\" class=\"data row16 col10\" >0</td>\n",
       "      <td id=\"T_d3cff_row16_col11\" class=\"data row16 col11\" >0</td>\n",
       "      <td id=\"T_d3cff_row16_col12\" class=\"data row16 col12\" >0</td>\n",
       "      <td id=\"T_d3cff_row16_col13\" class=\"data row16 col13\" >0</td>\n",
       "      <td id=\"T_d3cff_row16_col14\" class=\"data row16 col14\" >0</td>\n",
       "      <td id=\"T_d3cff_row16_col15\" class=\"data row16 col15\" >0</td>\n",
       "      <td id=\"T_d3cff_row16_col16\" class=\"data row16 col16\" >1</td>\n",
       "      <td id=\"T_d3cff_row16_col17\" class=\"data row16 col17\" >183</td>\n",
       "      <td id=\"T_d3cff_row16_col18\" class=\"data row16 col18\" >253</td>\n",
       "      <td id=\"T_d3cff_row16_col19\" class=\"data row16 col19\" >253</td>\n",
       "      <td id=\"T_d3cff_row16_col20\" class=\"data row16 col20\" >139</td>\n",
       "      <td id=\"T_d3cff_row16_col21\" class=\"data row16 col21\" >0</td>\n",
       "      <td id=\"T_d3cff_row16_col22\" class=\"data row16 col22\" >0</td>\n",
       "      <td id=\"T_d3cff_row16_col23\" class=\"data row16 col23\" >0</td>\n",
       "      <td id=\"T_d3cff_row16_col24\" class=\"data row16 col24\" >0</td>\n",
       "      <td id=\"T_d3cff_row16_col25\" class=\"data row16 col25\" >0</td>\n",
       "      <td id=\"T_d3cff_row16_col26\" class=\"data row16 col26\" >0</td>\n",
       "      <td id=\"T_d3cff_row16_col27\" class=\"data row16 col27\" >0</td>\n",
       "    </tr>\n",
       "    <tr>\n",
       "      <th id=\"T_d3cff_level0_row17\" class=\"row_heading level0 row17\" >17</th>\n",
       "      <td id=\"T_d3cff_row17_col0\" class=\"data row17 col0\" >0</td>\n",
       "      <td id=\"T_d3cff_row17_col1\" class=\"data row17 col1\" >0</td>\n",
       "      <td id=\"T_d3cff_row17_col2\" class=\"data row17 col2\" >0</td>\n",
       "      <td id=\"T_d3cff_row17_col3\" class=\"data row17 col3\" >0</td>\n",
       "      <td id=\"T_d3cff_row17_col4\" class=\"data row17 col4\" >0</td>\n",
       "      <td id=\"T_d3cff_row17_col5\" class=\"data row17 col5\" >0</td>\n",
       "      <td id=\"T_d3cff_row17_col6\" class=\"data row17 col6\" >0</td>\n",
       "      <td id=\"T_d3cff_row17_col7\" class=\"data row17 col7\" >0</td>\n",
       "      <td id=\"T_d3cff_row17_col8\" class=\"data row17 col8\" >0</td>\n",
       "      <td id=\"T_d3cff_row17_col9\" class=\"data row17 col9\" >0</td>\n",
       "      <td id=\"T_d3cff_row17_col10\" class=\"data row17 col10\" >0</td>\n",
       "      <td id=\"T_d3cff_row17_col11\" class=\"data row17 col11\" >0</td>\n",
       "      <td id=\"T_d3cff_row17_col12\" class=\"data row17 col12\" >0</td>\n",
       "      <td id=\"T_d3cff_row17_col13\" class=\"data row17 col13\" >0</td>\n",
       "      <td id=\"T_d3cff_row17_col14\" class=\"data row17 col14\" >0</td>\n",
       "      <td id=\"T_d3cff_row17_col15\" class=\"data row17 col15\" >0</td>\n",
       "      <td id=\"T_d3cff_row17_col16\" class=\"data row17 col16\" >0</td>\n",
       "      <td id=\"T_d3cff_row17_col17\" class=\"data row17 col17\" >182</td>\n",
       "      <td id=\"T_d3cff_row17_col18\" class=\"data row17 col18\" >253</td>\n",
       "      <td id=\"T_d3cff_row17_col19\" class=\"data row17 col19\" >253</td>\n",
       "      <td id=\"T_d3cff_row17_col20\" class=\"data row17 col20\" >104</td>\n",
       "      <td id=\"T_d3cff_row17_col21\" class=\"data row17 col21\" >0</td>\n",
       "      <td id=\"T_d3cff_row17_col22\" class=\"data row17 col22\" >0</td>\n",
       "      <td id=\"T_d3cff_row17_col23\" class=\"data row17 col23\" >0</td>\n",
       "      <td id=\"T_d3cff_row17_col24\" class=\"data row17 col24\" >0</td>\n",
       "      <td id=\"T_d3cff_row17_col25\" class=\"data row17 col25\" >0</td>\n",
       "      <td id=\"T_d3cff_row17_col26\" class=\"data row17 col26\" >0</td>\n",
       "      <td id=\"T_d3cff_row17_col27\" class=\"data row17 col27\" >0</td>\n",
       "    </tr>\n",
       "    <tr>\n",
       "      <th id=\"T_d3cff_level0_row18\" class=\"row_heading level0 row18\" >18</th>\n",
       "      <td id=\"T_d3cff_row18_col0\" class=\"data row18 col0\" >0</td>\n",
       "      <td id=\"T_d3cff_row18_col1\" class=\"data row18 col1\" >0</td>\n",
       "      <td id=\"T_d3cff_row18_col2\" class=\"data row18 col2\" >0</td>\n",
       "      <td id=\"T_d3cff_row18_col3\" class=\"data row18 col3\" >0</td>\n",
       "      <td id=\"T_d3cff_row18_col4\" class=\"data row18 col4\" >0</td>\n",
       "      <td id=\"T_d3cff_row18_col5\" class=\"data row18 col5\" >0</td>\n",
       "      <td id=\"T_d3cff_row18_col6\" class=\"data row18 col6\" >0</td>\n",
       "      <td id=\"T_d3cff_row18_col7\" class=\"data row18 col7\" >0</td>\n",
       "      <td id=\"T_d3cff_row18_col8\" class=\"data row18 col8\" >0</td>\n",
       "      <td id=\"T_d3cff_row18_col9\" class=\"data row18 col9\" >0</td>\n",
       "      <td id=\"T_d3cff_row18_col10\" class=\"data row18 col10\" >0</td>\n",
       "      <td id=\"T_d3cff_row18_col11\" class=\"data row18 col11\" >0</td>\n",
       "      <td id=\"T_d3cff_row18_col12\" class=\"data row18 col12\" >0</td>\n",
       "      <td id=\"T_d3cff_row18_col13\" class=\"data row18 col13\" >0</td>\n",
       "      <td id=\"T_d3cff_row18_col14\" class=\"data row18 col14\" >0</td>\n",
       "      <td id=\"T_d3cff_row18_col15\" class=\"data row18 col15\" >0</td>\n",
       "      <td id=\"T_d3cff_row18_col16\" class=\"data row18 col16\" >85</td>\n",
       "      <td id=\"T_d3cff_row18_col17\" class=\"data row18 col17\" >249</td>\n",
       "      <td id=\"T_d3cff_row18_col18\" class=\"data row18 col18\" >253</td>\n",
       "      <td id=\"T_d3cff_row18_col19\" class=\"data row18 col19\" >253</td>\n",
       "      <td id=\"T_d3cff_row18_col20\" class=\"data row18 col20\" >36</td>\n",
       "      <td id=\"T_d3cff_row18_col21\" class=\"data row18 col21\" >0</td>\n",
       "      <td id=\"T_d3cff_row18_col22\" class=\"data row18 col22\" >0</td>\n",
       "      <td id=\"T_d3cff_row18_col23\" class=\"data row18 col23\" >0</td>\n",
       "      <td id=\"T_d3cff_row18_col24\" class=\"data row18 col24\" >0</td>\n",
       "      <td id=\"T_d3cff_row18_col25\" class=\"data row18 col25\" >0</td>\n",
       "      <td id=\"T_d3cff_row18_col26\" class=\"data row18 col26\" >0</td>\n",
       "      <td id=\"T_d3cff_row18_col27\" class=\"data row18 col27\" >0</td>\n",
       "    </tr>\n",
       "    <tr>\n",
       "      <th id=\"T_d3cff_level0_row19\" class=\"row_heading level0 row19\" >19</th>\n",
       "      <td id=\"T_d3cff_row19_col0\" class=\"data row19 col0\" >0</td>\n",
       "      <td id=\"T_d3cff_row19_col1\" class=\"data row19 col1\" >0</td>\n",
       "      <td id=\"T_d3cff_row19_col2\" class=\"data row19 col2\" >0</td>\n",
       "      <td id=\"T_d3cff_row19_col3\" class=\"data row19 col3\" >0</td>\n",
       "      <td id=\"T_d3cff_row19_col4\" class=\"data row19 col4\" >0</td>\n",
       "      <td id=\"T_d3cff_row19_col5\" class=\"data row19 col5\" >0</td>\n",
       "      <td id=\"T_d3cff_row19_col6\" class=\"data row19 col6\" >0</td>\n",
       "      <td id=\"T_d3cff_row19_col7\" class=\"data row19 col7\" >0</td>\n",
       "      <td id=\"T_d3cff_row19_col8\" class=\"data row19 col8\" >0</td>\n",
       "      <td id=\"T_d3cff_row19_col9\" class=\"data row19 col9\" >0</td>\n",
       "      <td id=\"T_d3cff_row19_col10\" class=\"data row19 col10\" >0</td>\n",
       "      <td id=\"T_d3cff_row19_col11\" class=\"data row19 col11\" >0</td>\n",
       "      <td id=\"T_d3cff_row19_col12\" class=\"data row19 col12\" >0</td>\n",
       "      <td id=\"T_d3cff_row19_col13\" class=\"data row19 col13\" >0</td>\n",
       "      <td id=\"T_d3cff_row19_col14\" class=\"data row19 col14\" >0</td>\n",
       "      <td id=\"T_d3cff_row19_col15\" class=\"data row19 col15\" >60</td>\n",
       "      <td id=\"T_d3cff_row19_col16\" class=\"data row19 col16\" >214</td>\n",
       "      <td id=\"T_d3cff_row19_col17\" class=\"data row19 col17\" >253</td>\n",
       "      <td id=\"T_d3cff_row19_col18\" class=\"data row19 col18\" >253</td>\n",
       "      <td id=\"T_d3cff_row19_col19\" class=\"data row19 col19\" >173</td>\n",
       "      <td id=\"T_d3cff_row19_col20\" class=\"data row19 col20\" >11</td>\n",
       "      <td id=\"T_d3cff_row19_col21\" class=\"data row19 col21\" >0</td>\n",
       "      <td id=\"T_d3cff_row19_col22\" class=\"data row19 col22\" >0</td>\n",
       "      <td id=\"T_d3cff_row19_col23\" class=\"data row19 col23\" >0</td>\n",
       "      <td id=\"T_d3cff_row19_col24\" class=\"data row19 col24\" >0</td>\n",
       "      <td id=\"T_d3cff_row19_col25\" class=\"data row19 col25\" >0</td>\n",
       "      <td id=\"T_d3cff_row19_col26\" class=\"data row19 col26\" >0</td>\n",
       "      <td id=\"T_d3cff_row19_col27\" class=\"data row19 col27\" >0</td>\n",
       "    </tr>\n",
       "    <tr>\n",
       "      <th id=\"T_d3cff_level0_row20\" class=\"row_heading level0 row20\" >20</th>\n",
       "      <td id=\"T_d3cff_row20_col0\" class=\"data row20 col0\" >0</td>\n",
       "      <td id=\"T_d3cff_row20_col1\" class=\"data row20 col1\" >0</td>\n",
       "      <td id=\"T_d3cff_row20_col2\" class=\"data row20 col2\" >0</td>\n",
       "      <td id=\"T_d3cff_row20_col3\" class=\"data row20 col3\" >0</td>\n",
       "      <td id=\"T_d3cff_row20_col4\" class=\"data row20 col4\" >0</td>\n",
       "      <td id=\"T_d3cff_row20_col5\" class=\"data row20 col5\" >0</td>\n",
       "      <td id=\"T_d3cff_row20_col6\" class=\"data row20 col6\" >0</td>\n",
       "      <td id=\"T_d3cff_row20_col7\" class=\"data row20 col7\" >0</td>\n",
       "      <td id=\"T_d3cff_row20_col8\" class=\"data row20 col8\" >0</td>\n",
       "      <td id=\"T_d3cff_row20_col9\" class=\"data row20 col9\" >0</td>\n",
       "      <td id=\"T_d3cff_row20_col10\" class=\"data row20 col10\" >0</td>\n",
       "      <td id=\"T_d3cff_row20_col11\" class=\"data row20 col11\" >0</td>\n",
       "      <td id=\"T_d3cff_row20_col12\" class=\"data row20 col12\" >0</td>\n",
       "      <td id=\"T_d3cff_row20_col13\" class=\"data row20 col13\" >0</td>\n",
       "      <td id=\"T_d3cff_row20_col14\" class=\"data row20 col14\" >98</td>\n",
       "      <td id=\"T_d3cff_row20_col15\" class=\"data row20 col15\" >247</td>\n",
       "      <td id=\"T_d3cff_row20_col16\" class=\"data row20 col16\" >253</td>\n",
       "      <td id=\"T_d3cff_row20_col17\" class=\"data row20 col17\" >253</td>\n",
       "      <td id=\"T_d3cff_row20_col18\" class=\"data row20 col18\" >226</td>\n",
       "      <td id=\"T_d3cff_row20_col19\" class=\"data row20 col19\" >9</td>\n",
       "      <td id=\"T_d3cff_row20_col20\" class=\"data row20 col20\" >0</td>\n",
       "      <td id=\"T_d3cff_row20_col21\" class=\"data row20 col21\" >0</td>\n",
       "      <td id=\"T_d3cff_row20_col22\" class=\"data row20 col22\" >0</td>\n",
       "      <td id=\"T_d3cff_row20_col23\" class=\"data row20 col23\" >0</td>\n",
       "      <td id=\"T_d3cff_row20_col24\" class=\"data row20 col24\" >0</td>\n",
       "      <td id=\"T_d3cff_row20_col25\" class=\"data row20 col25\" >0</td>\n",
       "      <td id=\"T_d3cff_row20_col26\" class=\"data row20 col26\" >0</td>\n",
       "      <td id=\"T_d3cff_row20_col27\" class=\"data row20 col27\" >0</td>\n",
       "    </tr>\n",
       "    <tr>\n",
       "      <th id=\"T_d3cff_level0_row21\" class=\"row_heading level0 row21\" >21</th>\n",
       "      <td id=\"T_d3cff_row21_col0\" class=\"data row21 col0\" >0</td>\n",
       "      <td id=\"T_d3cff_row21_col1\" class=\"data row21 col1\" >0</td>\n",
       "      <td id=\"T_d3cff_row21_col2\" class=\"data row21 col2\" >0</td>\n",
       "      <td id=\"T_d3cff_row21_col3\" class=\"data row21 col3\" >0</td>\n",
       "      <td id=\"T_d3cff_row21_col4\" class=\"data row21 col4\" >0</td>\n",
       "      <td id=\"T_d3cff_row21_col5\" class=\"data row21 col5\" >0</td>\n",
       "      <td id=\"T_d3cff_row21_col6\" class=\"data row21 col6\" >0</td>\n",
       "      <td id=\"T_d3cff_row21_col7\" class=\"data row21 col7\" >0</td>\n",
       "      <td id=\"T_d3cff_row21_col8\" class=\"data row21 col8\" >0</td>\n",
       "      <td id=\"T_d3cff_row21_col9\" class=\"data row21 col9\" >0</td>\n",
       "      <td id=\"T_d3cff_row21_col10\" class=\"data row21 col10\" >0</td>\n",
       "      <td id=\"T_d3cff_row21_col11\" class=\"data row21 col11\" >0</td>\n",
       "      <td id=\"T_d3cff_row21_col12\" class=\"data row21 col12\" >42</td>\n",
       "      <td id=\"T_d3cff_row21_col13\" class=\"data row21 col13\" >150</td>\n",
       "      <td id=\"T_d3cff_row21_col14\" class=\"data row21 col14\" >252</td>\n",
       "      <td id=\"T_d3cff_row21_col15\" class=\"data row21 col15\" >253</td>\n",
       "      <td id=\"T_d3cff_row21_col16\" class=\"data row21 col16\" >253</td>\n",
       "      <td id=\"T_d3cff_row21_col17\" class=\"data row21 col17\" >233</td>\n",
       "      <td id=\"T_d3cff_row21_col18\" class=\"data row21 col18\" >53</td>\n",
       "      <td id=\"T_d3cff_row21_col19\" class=\"data row21 col19\" >0</td>\n",
       "      <td id=\"T_d3cff_row21_col20\" class=\"data row21 col20\" >0</td>\n",
       "      <td id=\"T_d3cff_row21_col21\" class=\"data row21 col21\" >0</td>\n",
       "      <td id=\"T_d3cff_row21_col22\" class=\"data row21 col22\" >0</td>\n",
       "      <td id=\"T_d3cff_row21_col23\" class=\"data row21 col23\" >0</td>\n",
       "      <td id=\"T_d3cff_row21_col24\" class=\"data row21 col24\" >0</td>\n",
       "      <td id=\"T_d3cff_row21_col25\" class=\"data row21 col25\" >0</td>\n",
       "      <td id=\"T_d3cff_row21_col26\" class=\"data row21 col26\" >0</td>\n",
       "      <td id=\"T_d3cff_row21_col27\" class=\"data row21 col27\" >0</td>\n",
       "    </tr>\n",
       "    <tr>\n",
       "      <th id=\"T_d3cff_level0_row22\" class=\"row_heading level0 row22\" >22</th>\n",
       "      <td id=\"T_d3cff_row22_col0\" class=\"data row22 col0\" >0</td>\n",
       "      <td id=\"T_d3cff_row22_col1\" class=\"data row22 col1\" >0</td>\n",
       "      <td id=\"T_d3cff_row22_col2\" class=\"data row22 col2\" >0</td>\n",
       "      <td id=\"T_d3cff_row22_col3\" class=\"data row22 col3\" >0</td>\n",
       "      <td id=\"T_d3cff_row22_col4\" class=\"data row22 col4\" >0</td>\n",
       "      <td id=\"T_d3cff_row22_col5\" class=\"data row22 col5\" >0</td>\n",
       "      <td id=\"T_d3cff_row22_col6\" class=\"data row22 col6\" >42</td>\n",
       "      <td id=\"T_d3cff_row22_col7\" class=\"data row22 col7\" >115</td>\n",
       "      <td id=\"T_d3cff_row22_col8\" class=\"data row22 col8\" >42</td>\n",
       "      <td id=\"T_d3cff_row22_col9\" class=\"data row22 col9\" >60</td>\n",
       "      <td id=\"T_d3cff_row22_col10\" class=\"data row22 col10\" >115</td>\n",
       "      <td id=\"T_d3cff_row22_col11\" class=\"data row22 col11\" >159</td>\n",
       "      <td id=\"T_d3cff_row22_col12\" class=\"data row22 col12\" >240</td>\n",
       "      <td id=\"T_d3cff_row22_col13\" class=\"data row22 col13\" >253</td>\n",
       "      <td id=\"T_d3cff_row22_col14\" class=\"data row22 col14\" >253</td>\n",
       "      <td id=\"T_d3cff_row22_col15\" class=\"data row22 col15\" >250</td>\n",
       "      <td id=\"T_d3cff_row22_col16\" class=\"data row22 col16\" >175</td>\n",
       "      <td id=\"T_d3cff_row22_col17\" class=\"data row22 col17\" >25</td>\n",
       "      <td id=\"T_d3cff_row22_col18\" class=\"data row22 col18\" >0</td>\n",
       "      <td id=\"T_d3cff_row22_col19\" class=\"data row22 col19\" >0</td>\n",
       "      <td id=\"T_d3cff_row22_col20\" class=\"data row22 col20\" >0</td>\n",
       "      <td id=\"T_d3cff_row22_col21\" class=\"data row22 col21\" >0</td>\n",
       "      <td id=\"T_d3cff_row22_col22\" class=\"data row22 col22\" >0</td>\n",
       "      <td id=\"T_d3cff_row22_col23\" class=\"data row22 col23\" >0</td>\n",
       "      <td id=\"T_d3cff_row22_col24\" class=\"data row22 col24\" >0</td>\n",
       "      <td id=\"T_d3cff_row22_col25\" class=\"data row22 col25\" >0</td>\n",
       "      <td id=\"T_d3cff_row22_col26\" class=\"data row22 col26\" >0</td>\n",
       "      <td id=\"T_d3cff_row22_col27\" class=\"data row22 col27\" >0</td>\n",
       "    </tr>\n",
       "    <tr>\n",
       "      <th id=\"T_d3cff_level0_row23\" class=\"row_heading level0 row23\" >23</th>\n",
       "      <td id=\"T_d3cff_row23_col0\" class=\"data row23 col0\" >0</td>\n",
       "      <td id=\"T_d3cff_row23_col1\" class=\"data row23 col1\" >0</td>\n",
       "      <td id=\"T_d3cff_row23_col2\" class=\"data row23 col2\" >0</td>\n",
       "      <td id=\"T_d3cff_row23_col3\" class=\"data row23 col3\" >0</td>\n",
       "      <td id=\"T_d3cff_row23_col4\" class=\"data row23 col4\" >0</td>\n",
       "      <td id=\"T_d3cff_row23_col5\" class=\"data row23 col5\" >0</td>\n",
       "      <td id=\"T_d3cff_row23_col6\" class=\"data row23 col6\" >187</td>\n",
       "      <td id=\"T_d3cff_row23_col7\" class=\"data row23 col7\" >253</td>\n",
       "      <td id=\"T_d3cff_row23_col8\" class=\"data row23 col8\" >253</td>\n",
       "      <td id=\"T_d3cff_row23_col9\" class=\"data row23 col9\" >253</td>\n",
       "      <td id=\"T_d3cff_row23_col10\" class=\"data row23 col10\" >253</td>\n",
       "      <td id=\"T_d3cff_row23_col11\" class=\"data row23 col11\" >253</td>\n",
       "      <td id=\"T_d3cff_row23_col12\" class=\"data row23 col12\" >253</td>\n",
       "      <td id=\"T_d3cff_row23_col13\" class=\"data row23 col13\" >253</td>\n",
       "      <td id=\"T_d3cff_row23_col14\" class=\"data row23 col14\" >197</td>\n",
       "      <td id=\"T_d3cff_row23_col15\" class=\"data row23 col15\" >86</td>\n",
       "      <td id=\"T_d3cff_row23_col16\" class=\"data row23 col16\" >0</td>\n",
       "      <td id=\"T_d3cff_row23_col17\" class=\"data row23 col17\" >0</td>\n",
       "      <td id=\"T_d3cff_row23_col18\" class=\"data row23 col18\" >0</td>\n",
       "      <td id=\"T_d3cff_row23_col19\" class=\"data row23 col19\" >0</td>\n",
       "      <td id=\"T_d3cff_row23_col20\" class=\"data row23 col20\" >0</td>\n",
       "      <td id=\"T_d3cff_row23_col21\" class=\"data row23 col21\" >0</td>\n",
       "      <td id=\"T_d3cff_row23_col22\" class=\"data row23 col22\" >0</td>\n",
       "      <td id=\"T_d3cff_row23_col23\" class=\"data row23 col23\" >0</td>\n",
       "      <td id=\"T_d3cff_row23_col24\" class=\"data row23 col24\" >0</td>\n",
       "      <td id=\"T_d3cff_row23_col25\" class=\"data row23 col25\" >0</td>\n",
       "      <td id=\"T_d3cff_row23_col26\" class=\"data row23 col26\" >0</td>\n",
       "      <td id=\"T_d3cff_row23_col27\" class=\"data row23 col27\" >0</td>\n",
       "    </tr>\n",
       "    <tr>\n",
       "      <th id=\"T_d3cff_level0_row24\" class=\"row_heading level0 row24\" >24</th>\n",
       "      <td id=\"T_d3cff_row24_col0\" class=\"data row24 col0\" >0</td>\n",
       "      <td id=\"T_d3cff_row24_col1\" class=\"data row24 col1\" >0</td>\n",
       "      <td id=\"T_d3cff_row24_col2\" class=\"data row24 col2\" >0</td>\n",
       "      <td id=\"T_d3cff_row24_col3\" class=\"data row24 col3\" >0</td>\n",
       "      <td id=\"T_d3cff_row24_col4\" class=\"data row24 col4\" >0</td>\n",
       "      <td id=\"T_d3cff_row24_col5\" class=\"data row24 col5\" >0</td>\n",
       "      <td id=\"T_d3cff_row24_col6\" class=\"data row24 col6\" >103</td>\n",
       "      <td id=\"T_d3cff_row24_col7\" class=\"data row24 col7\" >253</td>\n",
       "      <td id=\"T_d3cff_row24_col8\" class=\"data row24 col8\" >253</td>\n",
       "      <td id=\"T_d3cff_row24_col9\" class=\"data row24 col9\" >253</td>\n",
       "      <td id=\"T_d3cff_row24_col10\" class=\"data row24 col10\" >253</td>\n",
       "      <td id=\"T_d3cff_row24_col11\" class=\"data row24 col11\" >253</td>\n",
       "      <td id=\"T_d3cff_row24_col12\" class=\"data row24 col12\" >232</td>\n",
       "      <td id=\"T_d3cff_row24_col13\" class=\"data row24 col13\" >67</td>\n",
       "      <td id=\"T_d3cff_row24_col14\" class=\"data row24 col14\" >1</td>\n",
       "      <td id=\"T_d3cff_row24_col15\" class=\"data row24 col15\" >0</td>\n",
       "      <td id=\"T_d3cff_row24_col16\" class=\"data row24 col16\" >0</td>\n",
       "      <td id=\"T_d3cff_row24_col17\" class=\"data row24 col17\" >0</td>\n",
       "      <td id=\"T_d3cff_row24_col18\" class=\"data row24 col18\" >0</td>\n",
       "      <td id=\"T_d3cff_row24_col19\" class=\"data row24 col19\" >0</td>\n",
       "      <td id=\"T_d3cff_row24_col20\" class=\"data row24 col20\" >0</td>\n",
       "      <td id=\"T_d3cff_row24_col21\" class=\"data row24 col21\" >0</td>\n",
       "      <td id=\"T_d3cff_row24_col22\" class=\"data row24 col22\" >0</td>\n",
       "      <td id=\"T_d3cff_row24_col23\" class=\"data row24 col23\" >0</td>\n",
       "      <td id=\"T_d3cff_row24_col24\" class=\"data row24 col24\" >0</td>\n",
       "      <td id=\"T_d3cff_row24_col25\" class=\"data row24 col25\" >0</td>\n",
       "      <td id=\"T_d3cff_row24_col26\" class=\"data row24 col26\" >0</td>\n",
       "      <td id=\"T_d3cff_row24_col27\" class=\"data row24 col27\" >0</td>\n",
       "    </tr>\n",
       "    <tr>\n",
       "      <th id=\"T_d3cff_level0_row25\" class=\"row_heading level0 row25\" >25</th>\n",
       "      <td id=\"T_d3cff_row25_col0\" class=\"data row25 col0\" >0</td>\n",
       "      <td id=\"T_d3cff_row25_col1\" class=\"data row25 col1\" >0</td>\n",
       "      <td id=\"T_d3cff_row25_col2\" class=\"data row25 col2\" >0</td>\n",
       "      <td id=\"T_d3cff_row25_col3\" class=\"data row25 col3\" >0</td>\n",
       "      <td id=\"T_d3cff_row25_col4\" class=\"data row25 col4\" >0</td>\n",
       "      <td id=\"T_d3cff_row25_col5\" class=\"data row25 col5\" >0</td>\n",
       "      <td id=\"T_d3cff_row25_col6\" class=\"data row25 col6\" >0</td>\n",
       "      <td id=\"T_d3cff_row25_col7\" class=\"data row25 col7\" >0</td>\n",
       "      <td id=\"T_d3cff_row25_col8\" class=\"data row25 col8\" >0</td>\n",
       "      <td id=\"T_d3cff_row25_col9\" class=\"data row25 col9\" >0</td>\n",
       "      <td id=\"T_d3cff_row25_col10\" class=\"data row25 col10\" >0</td>\n",
       "      <td id=\"T_d3cff_row25_col11\" class=\"data row25 col11\" >0</td>\n",
       "      <td id=\"T_d3cff_row25_col12\" class=\"data row25 col12\" >0</td>\n",
       "      <td id=\"T_d3cff_row25_col13\" class=\"data row25 col13\" >0</td>\n",
       "      <td id=\"T_d3cff_row25_col14\" class=\"data row25 col14\" >0</td>\n",
       "      <td id=\"T_d3cff_row25_col15\" class=\"data row25 col15\" >0</td>\n",
       "      <td id=\"T_d3cff_row25_col16\" class=\"data row25 col16\" >0</td>\n",
       "      <td id=\"T_d3cff_row25_col17\" class=\"data row25 col17\" >0</td>\n",
       "      <td id=\"T_d3cff_row25_col18\" class=\"data row25 col18\" >0</td>\n",
       "      <td id=\"T_d3cff_row25_col19\" class=\"data row25 col19\" >0</td>\n",
       "      <td id=\"T_d3cff_row25_col20\" class=\"data row25 col20\" >0</td>\n",
       "      <td id=\"T_d3cff_row25_col21\" class=\"data row25 col21\" >0</td>\n",
       "      <td id=\"T_d3cff_row25_col22\" class=\"data row25 col22\" >0</td>\n",
       "      <td id=\"T_d3cff_row25_col23\" class=\"data row25 col23\" >0</td>\n",
       "      <td id=\"T_d3cff_row25_col24\" class=\"data row25 col24\" >0</td>\n",
       "      <td id=\"T_d3cff_row25_col25\" class=\"data row25 col25\" >0</td>\n",
       "      <td id=\"T_d3cff_row25_col26\" class=\"data row25 col26\" >0</td>\n",
       "      <td id=\"T_d3cff_row25_col27\" class=\"data row25 col27\" >0</td>\n",
       "    </tr>\n",
       "    <tr>\n",
       "      <th id=\"T_d3cff_level0_row26\" class=\"row_heading level0 row26\" >26</th>\n",
       "      <td id=\"T_d3cff_row26_col0\" class=\"data row26 col0\" >0</td>\n",
       "      <td id=\"T_d3cff_row26_col1\" class=\"data row26 col1\" >0</td>\n",
       "      <td id=\"T_d3cff_row26_col2\" class=\"data row26 col2\" >0</td>\n",
       "      <td id=\"T_d3cff_row26_col3\" class=\"data row26 col3\" >0</td>\n",
       "      <td id=\"T_d3cff_row26_col4\" class=\"data row26 col4\" >0</td>\n",
       "      <td id=\"T_d3cff_row26_col5\" class=\"data row26 col5\" >0</td>\n",
       "      <td id=\"T_d3cff_row26_col6\" class=\"data row26 col6\" >0</td>\n",
       "      <td id=\"T_d3cff_row26_col7\" class=\"data row26 col7\" >0</td>\n",
       "      <td id=\"T_d3cff_row26_col8\" class=\"data row26 col8\" >0</td>\n",
       "      <td id=\"T_d3cff_row26_col9\" class=\"data row26 col9\" >0</td>\n",
       "      <td id=\"T_d3cff_row26_col10\" class=\"data row26 col10\" >0</td>\n",
       "      <td id=\"T_d3cff_row26_col11\" class=\"data row26 col11\" >0</td>\n",
       "      <td id=\"T_d3cff_row26_col12\" class=\"data row26 col12\" >0</td>\n",
       "      <td id=\"T_d3cff_row26_col13\" class=\"data row26 col13\" >0</td>\n",
       "      <td id=\"T_d3cff_row26_col14\" class=\"data row26 col14\" >0</td>\n",
       "      <td id=\"T_d3cff_row26_col15\" class=\"data row26 col15\" >0</td>\n",
       "      <td id=\"T_d3cff_row26_col16\" class=\"data row26 col16\" >0</td>\n",
       "      <td id=\"T_d3cff_row26_col17\" class=\"data row26 col17\" >0</td>\n",
       "      <td id=\"T_d3cff_row26_col18\" class=\"data row26 col18\" >0</td>\n",
       "      <td id=\"T_d3cff_row26_col19\" class=\"data row26 col19\" >0</td>\n",
       "      <td id=\"T_d3cff_row26_col20\" class=\"data row26 col20\" >0</td>\n",
       "      <td id=\"T_d3cff_row26_col21\" class=\"data row26 col21\" >0</td>\n",
       "      <td id=\"T_d3cff_row26_col22\" class=\"data row26 col22\" >0</td>\n",
       "      <td id=\"T_d3cff_row26_col23\" class=\"data row26 col23\" >0</td>\n",
       "      <td id=\"T_d3cff_row26_col24\" class=\"data row26 col24\" >0</td>\n",
       "      <td id=\"T_d3cff_row26_col25\" class=\"data row26 col25\" >0</td>\n",
       "      <td id=\"T_d3cff_row26_col26\" class=\"data row26 col26\" >0</td>\n",
       "      <td id=\"T_d3cff_row26_col27\" class=\"data row26 col27\" >0</td>\n",
       "    </tr>\n",
       "    <tr>\n",
       "      <th id=\"T_d3cff_level0_row27\" class=\"row_heading level0 row27\" >27</th>\n",
       "      <td id=\"T_d3cff_row27_col0\" class=\"data row27 col0\" >0</td>\n",
       "      <td id=\"T_d3cff_row27_col1\" class=\"data row27 col1\" >0</td>\n",
       "      <td id=\"T_d3cff_row27_col2\" class=\"data row27 col2\" >0</td>\n",
       "      <td id=\"T_d3cff_row27_col3\" class=\"data row27 col3\" >0</td>\n",
       "      <td id=\"T_d3cff_row27_col4\" class=\"data row27 col4\" >0</td>\n",
       "      <td id=\"T_d3cff_row27_col5\" class=\"data row27 col5\" >0</td>\n",
       "      <td id=\"T_d3cff_row27_col6\" class=\"data row27 col6\" >0</td>\n",
       "      <td id=\"T_d3cff_row27_col7\" class=\"data row27 col7\" >0</td>\n",
       "      <td id=\"T_d3cff_row27_col8\" class=\"data row27 col8\" >0</td>\n",
       "      <td id=\"T_d3cff_row27_col9\" class=\"data row27 col9\" >0</td>\n",
       "      <td id=\"T_d3cff_row27_col10\" class=\"data row27 col10\" >0</td>\n",
       "      <td id=\"T_d3cff_row27_col11\" class=\"data row27 col11\" >0</td>\n",
       "      <td id=\"T_d3cff_row27_col12\" class=\"data row27 col12\" >0</td>\n",
       "      <td id=\"T_d3cff_row27_col13\" class=\"data row27 col13\" >0</td>\n",
       "      <td id=\"T_d3cff_row27_col14\" class=\"data row27 col14\" >0</td>\n",
       "      <td id=\"T_d3cff_row27_col15\" class=\"data row27 col15\" >0</td>\n",
       "      <td id=\"T_d3cff_row27_col16\" class=\"data row27 col16\" >0</td>\n",
       "      <td id=\"T_d3cff_row27_col17\" class=\"data row27 col17\" >0</td>\n",
       "      <td id=\"T_d3cff_row27_col18\" class=\"data row27 col18\" >0</td>\n",
       "      <td id=\"T_d3cff_row27_col19\" class=\"data row27 col19\" >0</td>\n",
       "      <td id=\"T_d3cff_row27_col20\" class=\"data row27 col20\" >0</td>\n",
       "      <td id=\"T_d3cff_row27_col21\" class=\"data row27 col21\" >0</td>\n",
       "      <td id=\"T_d3cff_row27_col22\" class=\"data row27 col22\" >0</td>\n",
       "      <td id=\"T_d3cff_row27_col23\" class=\"data row27 col23\" >0</td>\n",
       "      <td id=\"T_d3cff_row27_col24\" class=\"data row27 col24\" >0</td>\n",
       "      <td id=\"T_d3cff_row27_col25\" class=\"data row27 col25\" >0</td>\n",
       "      <td id=\"T_d3cff_row27_col26\" class=\"data row27 col26\" >0</td>\n",
       "      <td id=\"T_d3cff_row27_col27\" class=\"data row27 col27\" >0</td>\n",
       "    </tr>\n",
       "  </tbody>\n",
       "</table>\n"
      ],
      "text/plain": [
       "<pandas.io.formats.style.Styler at 0x2998d7490>"
      ]
     },
     "execution_count": 10,
     "metadata": {},
     "output_type": "execute_result"
    }
   ],
   "source": [
    "im3_t = tensor(im3)\n",
    "df = pd.DataFrame(im3_t)\n",
    "df.style.set_properties(**{'font-size':'6pt'}).background_gradient('Greys')\n",
    " "
   ]
  },
  {
   "cell_type": "markdown",
   "metadata": {},
   "source": [
    "**Understanding an Image for a Computer**\n",
    "\n",
    "* Background white pixels are stored as 0.\n",
    "* Black pixels are stored as 255.\n",
    "* Shades of gray have values between 0 and 255.\n",
    "* This image has 28x28 pixels (784 total).\n",
    "\n",
    "**Goal: Digit Recognition (3s and 7s)**\n",
    "\n",
    "**Challenge: How to achieve recognition?**\n",
    "\n",
    "**Stop and Think** (before continuing):\n",
    "\n",
    "* Brainstorm features a computer can analyze in the image (3 vs 7).\n",
    "* Consider methods for identifying these features.\n",
    "* Imagine how the computer might combine these features for recognition.\n",
    "---\n"
   ]
  },
  {
   "cell_type": "markdown",
   "metadata": {},
   "source": [
    "### Method 1: Pixel Similarity as a Baseline for Digit Classification\n",
    "\n",
    "* **Idea:** Compare the average pixel value of an image to the average pixel value of known digits (e.g., 3s and 7s) for classification.\n",
    "* **Baseline Model:** This is a simple approach to serve as a benchmark for more complex models.\n",
    "\n",
    "**What is a baseline model?**\n",
    "* Baseline: A basic model expected to perform reasonably well. It should be easy to implement and evaluate to measure the effectiveness of more advanced models.\n",
    "\n",
    "**Steps:**\n",
    "\n",
    "1. **Calculate Average Pixel Value:**\n",
    "    * Group training images by digit (e.g., all 3s together).\n",
    "    * Calculate the average pixel value for each group.\n",
    "\n",
    "**Learning Python Techniques:**\n",
    "\n",
    "* Creating a tensor containing all images from a directory using list comprehension.\n",
    "* Performing checks throughout the process (e.g., verifying the number of images matches expectations).\n"
   ]
  },
  {
   "cell_type": "code",
   "execution_count": 11,
   "metadata": {},
   "outputs": [
    {
     "data": {
      "text/plain": [
       "(6131, 6265)"
      ]
     },
     "execution_count": 11,
     "metadata": {},
     "output_type": "execute_result"
    }
   ],
   "source": [
    "\n",
    "seven_tensors = [tensor(Image.open(o)) for o in sevens]\n",
    "three_tensors = [tensor(Image.open(o)) for o in threes]\n",
    "len(three_tensors),len(seven_tensors)"
   ]
  },
  {
   "cell_type": "markdown",
   "metadata": {},
   "source": [
    "#### List Comprehensions in Python\n",
    "\n",
    "* **Powerful feature for creating lists and dictionaries.**\n",
    "* **Commonly used by Python programmers.**\n",
    "* **Alternative to traditional for loops.**\n",
    "\n",
    "**Basic Syntax:**\n",
    "\n",
    "```\n",
    "new_list = [f(o) for o in a_list if o > 0]\n",
    "```\n",
    "\n",
    "**Explanation:**\n",
    "\n",
    "* Iterates over a collection (`a_list`).\n",
    "* Applies an optional filter (`if o > 0`).\n",
    "* Performs an operation (`f(o)`) on each element that passes the filter.\n",
    "* Creates a new list with the transformed elements.\n",
    "\n",
    "**Benefits:**\n",
    "\n",
    "* Concise and readable code.\n",
    "* Improved performance compared to for loops.\n",
    "\n",
    "**Additional Notes:**\n",
    "\n",
    "* List comprehensions can also be used for dictionary creation.\n",
    "* Many tutorials available online for further exploration."
   ]
  },
  {
   "cell_type": "code",
   "execution_count": 12,
   "metadata": {},
   "outputs": [
    {
     "data": {
      "image/png": "[encoded data removed]",
      "text/plain": [
       "<Figure size 100x100 with 1 Axes>"
      ]
     },
     "metadata": {},
     "output_type": "display_data"
    }
   ],
   "source": [
    "\"\"\"We'll also check that one of the images looks okay. \n",
    "Since we now have tensors (which Jupyter by default will print as values), \n",
    "rather than PIL images (which Jupyter by default will display as images), we need to use fastai's show_image function to display it:\"\"\"\n",
    "\n",
    "show_image(three_tensors[1]);"
   ]
  },
  {
   "cell_type": "markdown",
   "metadata": {},
   "source": [
    "Computing Average Pixel Intensity Across Images\n",
    "\n",
    "* **Goal:** Calculate the average intensity of each pixel across a set of images.\n",
    "* **Process:**\n",
    "    1. **Combine Images:** \n",
    "        * Stack individual image tensors into a single rank-3 tensor using `torch.stack`.\n",
    "    2. **Cast to Float:**\n",
    "        * Convert the tensor's data type from integer to float using type casting (`float()`). This is necessary for some operations like calculating the mean.\n",
    "    3. **Normalize Intensity (Optional):**\n",
    "        * Divide the tensor by 255 (assuming pixel values are between 0 and 1) for normalization.\n",
    "\n",
    "**Note:** This approach assumes all images have the same dimensions (width and height).\n"
   ]
  },
  {
   "cell_type": "code",
   "execution_count": 13,
   "metadata": {},
   "outputs": [
    {
     "data": {
      "text/plain": [
       "torch.Size([6131, 28, 28])"
      ]
     },
     "execution_count": 13,
     "metadata": {},
     "output_type": "execute_result"
    }
   ],
   "source": [
    "\"\"\"Generally when images are floats, the pixel values are expected to be between 0 and 1, so we will also divide by 255 here:\"\"\"\n",
    "stacked_sevens = torch.stack(seven_tensors).float()/255\n",
    "stacked_threes = torch.stack(three_tensors).float()/255\n",
    "stacked_threes.shape\n",
    "     "
   ]
  },
  {
   "cell_type": "markdown",
   "metadata": {},
   "source": [
    "Tensor Shape in PyTorch\n",
    "\n",
    "* **Key Attribute:** Shape of a tensor determines the length of each axis.\n",
    "* **Example:** Tensor with 6,131 images, each 28x28 pixels.\n",
    "* **Interpretation:** \n",
    "    * 1st axis (length): Number of images (6,131)\n",
    "    * 2nd axis (height): Image height (28 pixels)\n",
    "    * 3rd axis (width): Image width (28 pixels)\n",
    "* **Semantic Meaning:** Defined during tensor creation, not inherent in the data.\n",
    "* **PyTorch View:** A tensor is just a collection of numbers in memory.\n",
    "\n",
    "The *length* of a tensor's shape is its rank: "
   ]
  },
  {
   "cell_type": "code",
   "execution_count": 14,
   "metadata": {},
   "outputs": [
    {
     "data": {
      "text/plain": [
       "3"
      ]
     },
     "execution_count": 14,
     "metadata": {},
     "output_type": "execute_result"
    }
   ],
   "source": [
    "len(stacked_threes.shape)"
   ]
  },
  {
   "cell_type": "markdown",
   "metadata": {},
   "source": [
    "#### Tensor Jargon - Key Points\n",
    "\n",
    "* **Rank vs. Shape:**\n",
    "    * Rank: Number of axes or dimensions in a tensor (analogous to the number of coordinates needed to specify a point in space).\n",
    "    * Shape: Size of each axis of a tensor (specifies the length of each dimension).\n",
    "\n",
    "* **Dimension Ambiguity:**\n",
    "    * Term \"dimension\" can have two meanings:\n",
    "        * Size of an axis (e.g., \"space is three-dimensional\").\n",
    "        * Rank of a tensor (number of axes, e.g., \"a matrix has two dimensions\").\n",
    "    * To avoid confusion, clarify using rank, axis, and length.\n",
    "\n",
    "* **Rank Access:**\n",
    "    * `ndim` attribute directly provides the rank of a tensor in PyTorch. \n",
    "\n",
    "**Example (PyTorch):**\n",
    "\n",
    "A 3D vector `v` might have a length of 3 along a single axis, but `v.ndim` would be 1 (rank one tensor). This clarifies the difference between the number of axes (rank) and the size of that single axis (length).\n"
   ]
  },
  {
   "cell_type": "code",
   "execution_count": 15,
   "metadata": {},
   "outputs": [
    {
     "data": {
      "text/plain": [
       "3"
      ]
     },
     "execution_count": 15,
     "metadata": {},
     "output_type": "execute_result"
    }
   ],
   "source": [
    "#We can also get a tensor's rank directly with ndim:\n",
    "stacked_threes.ndim"
   ]
  },
  {
   "cell_type": "markdown",
   "metadata": {},
   "source": [
    "Finally, we can compute what the ideal 3 looks like. We calculate the mean of all the image tensors by taking the mean along dimension 0 of our stacked, rank-3 tensor. This is the dimension that indexes over all the images.\n",
    "\n",
    "In other words, for every pixel position, this will compute the average of that pixel over all images. The result will be one value for every pixel position, or a single image. Here it is:"
   ]
  },
  {
   "cell_type": "code",
   "execution_count": 16,
   "metadata": {},
   "outputs": [
    {
     "data": {
      "image/png": "[encoded data removed]",
      "text/plain": [
       "<Figure size 100x100 with 1 Axes>"
      ]
     },
     "metadata": {},
     "output_type": "display_data"
    }
   ],
   "source": [
    "mean3 = stacked_threes.mean(0)\n",
    "show_image(mean3);"
   ]
  },
  {
   "cell_type": "markdown",
   "metadata": {},
   "source": [
    "According to this dataset, this is the ideal number 3! (You may not like it, but this is what peak number 3 performance looks like.) You can see how it's very dark where all the images agree it should be dark, but it becomes wispy and blurry where the images disagree.\n",
    "\n",
    "Let's do the same thing for the 7s, but put all the steps together at once to save some time:"
   ]
  },
  {
   "cell_type": "code",
   "execution_count": 17,
   "metadata": {},
   "outputs": [
    {
     "data": {
      "image/png": "[encoded data removed]",
      "text/plain": [
       "<Figure size 100x100 with 1 Axes>"
      ]
     },
     "metadata": {},
     "output_type": "display_data"
    }
   ],
   "source": [
    "mean7 = stacked_sevens.mean(0)\n",
    "show_image(mean7);"
   ]
  },
  {
   "cell_type": "markdown",
   "metadata": {},
   "source": [
    "**Let's now pick an arbitrary 3 and measure its distance from our \"ideal digits.\"**\n",
    "\n",
    "***Stop and Think!**: How would you calculate how similar a particular image is to each of our ideal digits? Remember to step away from this book and jot down some ideas before you move on! Research shows that recall and understanding improves dramatically when you are engaged with the learning process by solving problems, experimenting, and trying new ideas yourself*\n",
    "\n",
    "Here's a sample 3:"
   ]
  },
  {
   "cell_type": "code",
   "execution_count": 18,
   "metadata": {},
   "outputs": [
    {
     "data": {
      "image/png": "[encoded data removed]",
      "text/plain": [
       "<Figure size 100x100 with 1 Axes>"
      ]
     },
     "metadata": {},
     "output_type": "display_data"
    }
   ],
   "source": [
    "a_3 = stacked_threes[1]\n",
    "show_image(a_3);"
   ]
  },
  {
   "cell_type": "markdown",
   "metadata": {},
   "source": [
    "Measuring Distance from Ideal Digit in Images\n",
    "\n",
    "* **Problem:** Adding pixel differences can be misleading due to positive and negative values cancelling each other out.\n",
    "\n",
    "* **Solutions for Measuring Distance:**\n",
    "\n",
    "  * **Mean Absolute Difference (L1 Norm):**\n",
    "      * Takes the mean (average) of the absolute values of the differences between image pixels and ideal digit pixels.\n",
    "      * Absolute value ensures all differences are positive.\n",
    "\n",
    "  * **Root Mean Squared Error (RMSE) or L2 Norm:**\n",
    "      * Takes the mean of the squared differences between image pixels and ideal digit pixels.\n",
    "      * Squaring makes all differences positive.\n",
    "      * Takes the square root to undo the squaring effect."
   ]
  },
  {
   "cell_type": "code",
   "execution_count": 19,
   "metadata": {},
   "outputs": [
    {
     "name": "stdout",
     "output_type": "stream",
     "text": [
      "tensor(0.1114) tensor(0.2021)\n",
      "tensor(0.1586) tensor(0.3021)\n"
     ]
    }
   ],
   "source": [
    "# Let's try both of these now:\n",
    "\n",
    "\n",
    "dist_3_abs = (a_3 - mean3).abs().mean()\n",
    "dist_3_sqr = ((a_3 - mean3)**2).mean().sqrt()\n",
    "print(dist_3_abs,dist_3_sqr)\n",
    "\n",
    "dist_7_abs = (a_3 - mean7).abs().mean()\n",
    "dist_7_sqr = ((a_3 - mean7)**2).mean().sqrt()\n",
    "print(dist_7_abs,dist_7_sqr)"
   ]
  },
  {
   "cell_type": "markdown",
   "metadata": {},
   "source": [
    "In both cases, the distance between our 3 and the \"ideal\" 3 is less than the distance to the ideal 7. So our simple model will give the right prediction in this case.\n",
    "\n",
    "PyTorch already provides both of these as loss functions. You'll find these inside torch.nn.functional, which the PyTorch team recommends importing as F (and is available by default under that name in fastai):"
   ]
  },
  {
   "cell_type": "code",
   "execution_count": 20,
   "metadata": {},
   "outputs": [
    {
     "name": "stdout",
     "output_type": "stream",
     "text": [
      "tensor(0.1114) tensor(0.2021)\n",
      "tensor(0.1586) tensor(0.3021)\n"
     ]
    }
   ],
   "source": [
    "print(F.l1_loss(a_3.float(),mean3), F.mse_loss(a_3,mean3).sqrt())\n",
    "print(F.l1_loss(a_3.float(),mean7), F.mse_loss(a_3,mean7).sqrt())"
   ]
  },
  {
   "cell_type": "markdown",
   "metadata": {},
   "source": [
    "#### L1 vs. MSE Loss Functions in Machine Learning\n",
    "\n",
    "* **L1 Loss (Mean Absolute Error):**\n",
    "    * Represents the average of the absolute differences between predicted and actual values.\n",
    "    * Less harshly penalizes larger errors compared to MSE.\n",
    "    * Through code: `(a-b).abs().mean()`, where a and b are tensors\n",
    "\n",
    "* **MSE Loss (Mean Squared Error):**\n",
    "    * Represents the average of the squared differences between predicted and actual values.\n",
    "    * Penalizes larger errors more heavily than L1 loss.\n",
    "\n",
    "* **Key Takeaway:**\n",
    "    * Complex mathematical concepts can often be implemented with simple code. "
   ]
  },
  {
   "cell_type": "markdown",
   "metadata": {},
   "source": [
    "### NumPy Arrays vs. PyTorch Tensors\n",
    "\n",
    "* **Speed:** Both NumPy arrays and PyTorch tensors are significantly faster than pure Python for numerical computations due to their underlying C implementations.\n",
    "\n",
    "* **NumPy Arrays:**\n",
    "    * Multidimensional table of data with all items of the same type.\n",
    "    * Can be jagged arrays (arrays of arrays with different inner array sizes).\n",
    "    * Supports various data types.\n",
    "    * Wide variety of operators and methods for efficient computations.\n",
    "\n",
    "* **PyTorch Tensors:**\n",
    "    * Similar to NumPy arrays but with stricter data type requirements (must be a single basic numeric type).\n",
    "    * Always a regular shaped multidimensional rectangular structure.\n",
    "    * Can reside on the GPU for faster computations with large datasets.\n",
    "    * Enables automatic calculation of derivatives for deep learning applications.\n",
    "\n",
    "* **Key takeaway:** Effectively using array/tensor APIs is a crucial skill for scientific computing and deep learning in Python.\n"
   ]
  },
  {
   "cell_type": "code",
   "execution_count": 21,
   "metadata": {},
   "outputs": [
    {
     "name": "stdout",
     "output_type": "stream",
     "text": [
      "[[1 2 3]\n",
      " [4 5 6]]\n"
     ]
    }
   ],
   "source": [
    "# To create an array or tensor, pass a list (or list of lists, or list of lists of lists, etc.) to array() or tensor():\n",
    "data = [[1,2,3],[4,5,6]]\n",
    "arr = array (data)\n",
    "\n",
    "print(arr)"
   ]
  },
  {
   "cell_type": "code",
   "execution_count": 22,
   "metadata": {},
   "outputs": [
    {
     "name": "stdout",
     "output_type": "stream",
     "text": [
      "tensor([[1, 2, 3],\n",
      "        [4, 5, 6]])\n"
     ]
    }
   ],
   "source": [
    "tns = tensor(data)\n",
    "print(tns)"
   ]
  },
  {
   "cell_type": "code",
   "execution_count": 23,
   "metadata": {},
   "outputs": [
    {
     "name": "stdout",
     "output_type": "stream",
     "text": [
      "row: tensor([1, 2, 3])\n",
      "column: tensor([1, 4])\n"
     ]
    }
   ],
   "source": [
    "#You can select a row (note that, like lists in Python, tensors are 0-indexed so 0 refers to the first row/column):\n",
    "print(\"row:\",tns[0])\n",
    "print(\"column:\",tns[:,0])"
   ]
  },
  {
   "cell_type": "code",
   "execution_count": 24,
   "metadata": {},
   "outputs": [
    {
     "name": "stdout",
     "output_type": "stream",
     "text": [
      "First row, values from 1st to 2nd column:  tensor([4, 5])\n",
      "Second row, values from 2nd to 4th column:  tensor([5, 6])\n"
     ]
    }
   ],
   "source": [
    "# You can combine these with Python slice syntax ([start:end] with end being excluded) to select part of a row or column:\n",
    "print(\"First row, values from 1st to 2nd column: \",tns[1,0:2])\n",
    "print(\"Second row, values from 2nd to 4th column: \",tns[1,1:3])"
   ]
  },
  {
   "cell_type": "code",
   "execution_count": 25,
   "metadata": {},
   "outputs": [
    {
     "name": "stdout",
     "output_type": "stream",
     "text": [
      "Adding one:  tensor([[2, 3, 4],\n",
      "        [5, 6, 7]])\n",
      "Subtracting one:  tensor([[0, 1, 2],\n",
      "        [3, 4, 5]])\n",
      "Multiplying by two:  tensor([[ 2,  4,  6],\n",
      "        [ 8, 10, 12]])\n",
      "Dividing by two:  tensor([[0.5000, 1.0000, 1.5000],\n",
      "        [2.0000, 2.5000, 3.0000]])\n"
     ]
    }
   ],
   "source": [
    "#And you can use the standard operators such as +, -, *, /:\n",
    "print(\"Adding one: \", tns+1)\n",
    "print(\"Subtracting one: \", tns-1)\n",
    "print(\"Multiplying by two: \", tns*2)\n",
    "print(\"Dividing by two: \", tns/2)"
   ]
  },
  {
   "cell_type": "code",
   "execution_count": 26,
   "metadata": {},
   "outputs": [
    {
     "data": {
      "text/plain": [
       "'torch.LongTensor'"
      ]
     },
     "execution_count": 26,
     "metadata": {},
     "output_type": "execute_result"
    }
   ],
   "source": [
    "# type of tensor\n",
    "tns.type()"
   ]
  },
  {
   "cell_type": "code",
   "execution_count": 27,
   "metadata": {},
   "outputs": [
    {
     "data": {
      "text/plain": [
       "tensor([[1.5000, 3.0000, 4.5000],\n",
       "        [6.0000, 7.5000, 9.0000]])"
      ]
     },
     "execution_count": 27,
     "metadata": {},
     "output_type": "execute_result"
    }
   ],
   "source": [
    "# And will automatically change type as needed, for example from int to float:\n",
    "tns*1.5"
   ]
  },
  {
   "cell_type": "markdown",
   "metadata": {},
   "source": [
    "Now, lets figure out how is the performance of our baseline model\n",
    "\n",
    "#### Computing Metrics Using Broadcasting\n",
    "\n",
    "* **Metrics:** Numbers calculated based on model predictions and true labels to evaluate model performance.\n",
    "* **Examples:** Mean squared error, mean absolute error. (Less interpretable for most people)\n",
    "* **Classification Models:** Accuracy is commonly used as the metric.\n",
    "* **Validation Set:** Used to avoid overfitting (model performing well only on training data).\n",
    "* **MNIST Dataset:** Includes a separate validation set directory (`valid`).\n",
    "* **Creating Tensors:** Use tensors from the validation set to calculate metrics for the first-try model (measures distance from ideal image).\n"
   ]
  },
  {
   "cell_type": "code",
   "execution_count": 28,
   "metadata": {},
   "outputs": [
    {
     "data": {
      "text/plain": [
       "(torch.Size([1010, 28, 28]), torch.Size([1028, 28, 28]))"
      ]
     },
     "execution_count": 28,
     "metadata": {},
     "output_type": "execute_result"
    }
   ],
   "source": [
    "valid_3_tens = torch.stack([tensor(Image.open(o)) \n",
    "                            for o in (path/'valid'/'3').ls()])\n",
    "valid_3_tens = valid_3_tens.float()/255\n",
    "valid_7_tens = torch.stack([tensor(Image.open(o)) \n",
    "                            for o in (path/'valid'/'7').ls()])\n",
    "valid_7_tens = valid_7_tens.float()/255\n",
    "valid_3_tens.shape,valid_7_tens.shape"
   ]
  },
  {
   "cell_type": "markdown",
   "metadata": {},
   "source": [
    "Key Points on Image Classification with Distance Metrics\n",
    "\n",
    "* **Checking Shapes:** It's important to verify the shapes of tensors before working with them.\n",
    "\n",
    "* **Data Summary:**\n",
    "    * We have two validation sets:\n",
    "        * 3s validation set: 1,010 images of size 28x28.\n",
    "        * 7s validation set: 1,028 images of size 28x28.\n",
    "\n",
    "* **Goal:** Develop a function `is_3` to classify an image as a 3 or a 7.\n",
    "\n",
    "* **Classification Approach:**\n",
    "    * The function will compare the unknown image to \"ideal digit\" representations of 3 and 7.\n",
    "    * The image will be classified based on its closeness (distance) to one of the ideal digits.\n",
    "\n",
    "* **Distance Metric:** We need a function to calculate the distance between two images.\n"
   ]
  },
  {
   "cell_type": "code",
   "execution_count": 29,
   "metadata": {},
   "outputs": [
    {
     "data": {
      "text/plain": [
       "tensor(0.1114)"
      ]
     },
     "execution_count": 29,
     "metadata": {},
     "output_type": "execute_result"
    }
   ],
   "source": [
    "def mnist_distance(a,b): return (a-b).abs().mean((-1,-2))\n",
    "\n",
    "mnist_distance(a_3, mean3)"
   ]
  },
  {
   "cell_type": "markdown",
   "metadata": {},
   "source": [
    "Calculating Distance Efficiently for Image Classification\n",
    "* **Previously Calculated Distance:** We have already calculated the distance between a single image (`a_3`) and the ideal digit (`mean3`).\n",
    "\n",
    "* **Challenge:** Efficient distance calculation for all validation images.\n",
    "    * Looping through each image in the validation set (`valid_3_tens`) can be inefficient.\n",
    "\n",
    "* **Broadcasting:** There's a more efficient approach using broadcasting.\n",
    "    * We can directly pass the entire validation set tensor (`valid_3_tens`) to the distance function.\n",
    "\n",
    "* **Tensor Shape and Broadcasting:**\n",
    "    * `valid_3_tens` has a shape of [1010, 28, 28], representing 1010 images.\n",
    "    * The distance function can calculate the distance between each image in the validation set and the ideal digit simultaneously using broadcasting.\n"
   ]
  },
  {
   "cell_type": "code",
   "execution_count": 30,
   "metadata": {},
   "outputs": [
    {
     "data": {
      "text/plain": [
       "(tensor([0.1634, 0.1145, 0.1363,  ..., 0.1105, 0.1111, 0.1640]),\n",
       " torch.Size([1010]))"
      ]
     },
     "execution_count": 30,
     "metadata": {},
     "output_type": "execute_result"
    }
   ],
   "source": [
    "\n",
    "valid_3_dist = mnist_distance(valid_3_tens, mean3)\n",
    "valid_3_dist, valid_3_dist.shape"
   ]
  },
  {
   "cell_type": "markdown",
   "metadata": {},
   "source": [
    "- The code `valid_3_dist = mnist_distance(valid_3_tens, mean3)` calculates the distance between each image in the validation set of digit 3 (`valid_3_tens`) and the mean of digit 3 (`mean3`).\n",
    "- Instead of raising an error for shape mismatch, it returns the distances for every image as a vector (rank-1 tensor) with a length of 1,010 (the number of digit 3 images in the validation set).\n",
    "- This is due to broadcasting, where PyTorch automatically expands tensors with different ranks to have the same size, making tensor operations easier to write.\n",
    "- PyTorch applies the operation on each corresponding element of the two tensors after broadcasting, resulting in a tensor with the same rank as the input tensors."
   ]
  },
  {
   "cell_type": "code",
   "execution_count": 31,
   "metadata": {},
   "outputs": [
    {
     "data": {
      "text/plain": [
       "tensor([2, 3, 4])"
      ]
     },
     "execution_count": 31,
     "metadata": {},
     "output_type": "execute_result"
    }
   ],
   "source": [
    "tensor([1,2,3]) + tensor(1)"
   ]
  },
  {
   "cell_type": "markdown",
   "metadata": {},
   "source": [
    "So in this case, PyTorch treats `mean3`, a rank-2 tensor representing a single image, as if it were 1,010 copies of the same image, and then subtracts each of those copies from each 3 in our validation set. \n",
    "\n",
    "What shape would you expect this tensor to have? Try to figure it out yourself before you look at the answer below:"
   ]
  },
  {
   "cell_type": "code",
   "execution_count": 32,
   "metadata": {},
   "outputs": [
    {
     "data": {
      "text/plain": [
       "torch.Size([1010, 28, 28])"
      ]
     },
     "execution_count": 32,
     "metadata": {},
     "output_type": "execute_result"
    }
   ],
   "source": [
    "\n",
    "(valid_3_tens-mean3).shape"
   ]
  },
  {
   "cell_type": "markdown",
   "metadata": {},
   "source": [
    "- The expression `(valid_3_tens-mean3).shape` calculates the difference between the \"ideal 3\" and each of the 1,010 3s in the validation set, for each of the 28x28 images, resulting in a tensor shape of [1010, 28, 28].\n",
    "- PyTorch implements broadcasting efficiently without copying the tensor multiple times, utilizing C or CUDA for fast computation.\n",
    "- Broadcasting and elementwise operations in PyTorch are crucial for efficient code and can be millions of times faster on GPU compared to pure Python.\n",
    "- The `abs` function applied in `mnist_distance` operates elementwise on the tensor, returning a tensor of absolute values for each element.\n",
    "- Using `mean((-1,-2))` in `mnist_distance` calculates the mean over the last two axes of the tensor, representing the horizontal and vertical dimensions of the image, resulting in a final tensor size of (1010).\n",
    "- Broadcasting will be further covered in the book, with regular practice to reinforce understanding.\n",
    "- The `mnist_distance` function can determine whether an image is a 3 or not by comparing the distance between the image and the ideal 3 with the distance to the ideal 7, utilizing broadcasting and elementwise operations automatically.\n"
   ]
  },
  {
   "cell_type": "code",
   "execution_count": 33,
   "metadata": {},
   "outputs": [
    {
     "data": {
      "text/plain": [
       "(tensor(True), tensor(1.))"
      ]
     },
     "execution_count": 33,
     "metadata": {},
     "output_type": "execute_result"
    }
   ],
   "source": [
    "# This function will automatically do broadcasting and be applied elementwise, just like all PyTorch functions and operators:\n",
    "def is_3(x): return mnist_distance(x,mean3) < mnist_distance(x,mean7)\n",
    "\n",
    "# testing the function on an example:\n",
    "is_3(a_3), is_3(a_3).float()"
   ]
  },
  {
   "cell_type": "markdown",
   "metadata": {},
   "source": [
    "Note that when we convert the Boolean response to a float, we get 1.0 for True and 0.0 for False. \n"
   ]
  },
  {
   "cell_type": "code",
   "execution_count": 34,
   "metadata": {},
   "outputs": [
    {
     "data": {
      "text/plain": [
       "tensor([True, True, True,  ..., True, True, True])"
      ]
     },
     "execution_count": 34,
     "metadata": {},
     "output_type": "execute_result"
    }
   ],
   "source": [
    "# Thanks to broadcasting, we can also test it on the full validation set of 3s:\n",
    "is_3(valid_3_tens)"
   ]
  },
  {
   "cell_type": "code",
   "execution_count": 35,
   "metadata": {},
   "outputs": [
    {
     "data": {
      "text/plain": [
       "(tensor(0.9168), tensor(0.9854), tensor(0.9511))"
      ]
     },
     "execution_count": 35,
     "metadata": {},
     "output_type": "execute_result"
    }
   ],
   "source": [
    "# Now we can calculate the accuracy for each of the 3s and 7s by taking the average of that function for all 3s and its inverse for all 7s:\n",
    "\n",
    "\n",
    "accuracy_3s = is_3(valid_3_tens).float() .mean()\n",
    "accuracy_7s = (1 - is_3(valid_7_tens).float()).mean()\n",
    "\n",
    "accuracy_3s,accuracy_7s,(accuracy_3s+accuracy_7s)/2"
   ]
  },
  {
   "cell_type": "markdown",
   "metadata": {},
   "source": [
    "**Observations:**\n",
    "- Achieved over 90% accuracy on both digit 3s and 7s.\n",
    "- Used broadcasting to define a metric conveniently.\n",
    "- Acknowledges that digits 3s and 7s are different-looking and only classifying 2 out of 10 possible digits.\n",
    "- Intends to improve by implementing a system capable of automatic modification to enhance performance.\n",
    "- Next step is to discuss the training process and Stochastic Gradient Descent (SGD).\n",
    "\n",
    "\n",
    "---\n"
   ]
  },
  {
   "attachments": {
    "image-2.png": {
     "image/png": "[encoded data removed]"
    }
   },
   "cell_type": "markdown",
   "metadata": {},
   "source": [
    "## Stochastic Gradient Descent (SGD)\n",
    "\n",
    "**Learning from Experience: Key to Machine Learning**\n",
    "\n",
    "* Arthur Samuel's description of machine learning from Chapter Introduction:\n",
    "  * *Suppose we arrange for some automatic means of testing the effectiveness of any current weight assignment in terms of actual performance and provide a mechanism for altering the weight assignment so as to maximize the performance. We need not go into the details of such a procedure to see that it could be made entirely automatic and to see that a machine so programmed would \"learn\" from its experience.*\n",
    "* Pixel similarity approach lacks the ability to learn and improve based on experience.\n",
    "\n",
    "**Introducing Weights and SGD**\n",
    "\n",
    "*  Our goal: Develop a model that learns by adjusting weights based on performance.\n",
    "*  Instead of pixel similarity, we will assign weights to each pixel for each category.\n",
    "    * Higher weight for pixels likely to be activated for a specific category.\n",
    "    * **Further explaination: Pixel-based Approach for Image Recognition:**\n",
    "      - Rather than comparing images to an \"ideal image,\" consider individual pixel weights.\n",
    "      - Assign weights to each pixel based on its likelihood to represent a certain category.\n",
    "      - Example: Pixels in the bottom right might have low weight for '7' but high weight for '8'.\n",
    "      - Represented as a function with weight values for each category (e.g., probability of being the number '8').\n",
    "\n",
    "**Example: Classifying Eights**\n",
    "\n",
    "  `def pr_eight(x,w): return (x*w).sum()`\n",
    "* Function `pr_eight(x, w)`: Calculates the probability of an image being an 8.\n",
    "    * `x`: Image vector (all rows stacked into a single line).\n",
    "    * `w`: Weight vector for the number 8.\n",
    "\n",
    "#### Steps for Machine Learning Classifier using SGD\n",
    "\n",
    "1. Initialize weights.\n",
    "2. Predict for each image (3 or 7).\n",
    "3. Calculate model loss (goodness).\n",
    "4. Calculate gradient (impact of weight changes on loss).\n",
    "5. Update all weights based on the gradient.\n",
    "6. Repeat steps 2-5.\n",
    "7. Stop training when satisfied (model performance or time limit).\n",
    "\n",
    "**Importance of SGD**\n",
    "\n",
    "* These seven steps (illustrated in <<gradient_descent>>) are crucial for training all deep learning models.\n",
    "* SGD's effectiveness in solving complex problems is surprising yet powerful.\n",
    "\n",
    "**Note:**\n",
    "\n",
    "* ![image-2.png](attachment:image-2.png)"
   ]
  },
  {
   "cell_type": "markdown",
   "metadata": {},
   "source": [
    "### 4 Steps in Deep Learning and Key Points\n",
    "\n",
    "* **Multiple Approaches:** There are various ways to perform each of the seven steps in deep learning.\n",
    "\n",
    "* **General Principles:** Despite various approaches, some general principles guide these steps:\n",
    "\n",
    "    1. **Initialize:** Start with random weights for the parameters. While other initialization methods exist, random weights work well with weight improvement routines.\n",
    "    2. **Loss:** Define a function that generates a small number for good model performance (convention: small loss = good, large loss = bad). This function reflects the model's effectiveness with the current weight assignment.\n",
    "    3. **Step:** Update weights based on their impact on loss. A slow approach would involve manually adjusting weights (increase/decrease) based on loss changes. A more efficient approach using calculus (gradients) will be covered later.\n",
    "    4. **Stop:** Determine a stopping criteria (e.g., number of epochs) for training the model. Stop training when accuracy worsens or time runs out (e.g., for our digit classifier).\n"
   ]
  },
  {
   "cell_type": "code",
   "execution_count": 36,
   "metadata": {},
   "outputs": [
    {
     "data": {
      "image/png": "[encoded data removed]",
      "text/plain": [
       "<Figure size 600x400 with 1 Axes>"
      ]
     },
     "metadata": {},
     "output_type": "display_data"
    }
   ],
   "source": [
    "def f(x): return x**2\n",
    "\n",
    "plot_function(f, 'x', 'x**2')"
   ]
  },
  {
   "cell_type": "code",
   "execution_count": 37,
   "metadata": {},
   "outputs": [
    {
     "data": {
      "image/png": "[encoded data removed]",
      "text/plain": [
       "<Figure size 600x400 with 1 Axes>"
      ]
     },
     "metadata": {},
     "output_type": "display_data"
    }
   ],
   "source": [
    "# The sequence of steps we described earlier starts by picking some random value for a parameter, and calculating the value of the loss:\n",
    "\n",
    "plot_function(f, 'x', 'x**2')\n",
    "plt.scatter(-1.5, f(-1.5), color='red');"
   ]
  },
  {
   "attachments": {
    "image.png": {
     "image/png": "[encoded data removed]"
    }
   },
   "cell_type": "markdown",
   "metadata": {},
   "source": [
    "![image.png](attachment:image.png)"
   ]
  },
  {
   "cell_type": "markdown",
   "metadata": {},
   "source": [
    "#### Gradients in Machine Learning\n",
    "\n",
    "**Key Points:**\n",
    "\n",
    "* **Importance:** Gradients are crucial for optimizing model performance.\n",
    "* **Calculus as a Tool:** We leverage calculus to efficiently calculate how adjustments to model parameters affect the loss function (error).\n",
    "* **Derivative as a Measure of Change:** The derivative, a concept from calculus, tells us how much the loss function changes based on a parameter change. (Understanding derivatives is recommended but not required for practical use.) \n",
    "* **Gradient Calculation:**\n",
    "    * Similar to the slope in linear functions, the gradient represents the rate of change for a function. \n",
    "    * In machine learning, the gradient indicates how much each weight (parameter) in the model needs to be adjusted to minimize the loss function.\n",
    "* **Multiple Gradients:** Since models have many weights, calculating the derivative results in multiple values - one for each weight. \n",
    "* **Automatic Calculation:** Fortunately, libraries like PyTorch can automatically compute these gradients efficiently, eliminating the need for manual calculations.\n"
   ]
  },
  {
   "cell_type": "markdown",
   "metadata": {},
   "source": [
    "First, let's pick a tensor value which we want gradients at:"
   ]
  },
  {
   "cell_type": "code",
   "execution_count": 38,
   "metadata": {},
   "outputs": [],
   "source": [
    "\n",
    "xt = tensor(3.).requires_grad_()"
   ]
  },
  {
   "cell_type": "markdown",
   "metadata": {},
   "source": [
    "- **Understanding requires_grad_ method:**\n",
    "  - Special method in PyTorch to calculate gradients for a variable at a specific value.\n",
    "  - Tagging a variable notifies PyTorch to track gradients for subsequent calculations involving it.\n",
    "\n",
    "- **API Perspective:**\n",
    "  - Contrast with mathematical or physics contexts where \"gradient\" typically refers to a function's derivative.\n",
    "  - In deep learning, \"gradients\" refer to derivative values at specific argument values.\n",
    "  - PyTorch API emphasizes the argument, not the function itself, which may feel counterintuitive initially but offers a different perspective.\n",
    "\n",
    "- **Function Evaluation:**\n",
    "  - After tagging a variable, function evaluation in PyTorch incorporates gradient computation.\n",
    "  - PyTorch outputs both the calculated value and notifies about the gradient function it will use for future gradient calculations."
   ]
  },
  {
   "cell_type": "code",
   "execution_count": 39,
   "metadata": {},
   "outputs": [
    {
     "data": {
      "text/plain": [
       "tensor(9., grad_fn=<PowBackward0>)"
      ]
     },
     "execution_count": 39,
     "metadata": {},
     "output_type": "execute_result"
    }
   ],
   "source": [
    "yt = f(xt)\n",
    "yt"
   ]
  },
  {
   "cell_type": "code",
   "execution_count": 40,
   "metadata": {},
   "outputs": [],
   "source": [
    "# Finally, we tell PyTorch to calculate the gradients for us:\n",
    "yt.backward()"
   ]
  },
  {
   "cell_type": "markdown",
   "metadata": {},
   "source": [
    "- **Backward Pass in Deep Learning:**\n",
    "  - **Definition:** \"backward()\" refers to backpropagation, the process of calculating derivatives for each layer.\n",
    "  - **Calculation:** Done to obtain gradients of a deep neural network.\n",
    "  - **Contrast:** Opposite of the \"forward pass,\" where activations are computed.\n",
    "- **Naming Convention:**\n",
    "  - **Suggestion:** Naming it \"calculate_grad\" could simplify understanding.\n",
    "  - **Observation:** Deep learning terminology tends to be intricate, favoring jargon."
   ]
  },
  {
   "cell_type": "code",
   "execution_count": 41,
   "metadata": {},
   "outputs": [
    {
     "data": {
      "text/plain": [
       "tensor(6.)"
      ]
     },
     "execution_count": 41,
     "metadata": {},
     "output_type": "execute_result"
    }
   ],
   "source": [
    "# We can now view the gradients by checking the grad attribute of our tensor:\n",
    "xt.grad"
   ]
  },
  {
   "cell_type": "markdown",
   "metadata": {},
   "source": [
    "If you remember your high school calculus rules, the derivative of x**2 is 2*x, and we have x=3, so the gradients should be 2*3=6, which is what PyTorch calculated for us!"
   ]
  },
  {
   "cell_type": "code",
   "execution_count": 42,
   "metadata": {},
   "outputs": [
    {
     "data": {
      "text/plain": [
       "tensor([ 3.,  4., 10.], requires_grad=True)"
      ]
     },
     "execution_count": 42,
     "metadata": {},
     "output_type": "execute_result"
    }
   ],
   "source": [
    "# Now we'll repeat the preceding steps, but with a vector argument for our function:\n",
    "\n",
    "xt = tensor([3.,4.,10.]).requires_grad_()\n",
    "xt"
   ]
  },
  {
   "cell_type": "code",
   "execution_count": 43,
   "metadata": {},
   "outputs": [
    {
     "data": {
      "text/plain": [
       "tensor(125., grad_fn=<SumBackward0>)"
      ]
     },
     "execution_count": 43,
     "metadata": {},
     "output_type": "execute_result"
    }
   ],
   "source": [
    "# And we'll add sum to our function so it can take a vector (i.e., a rank-1 tensor), and return a scalar (i.e., a rank-0 tensor):\n",
    "\n",
    "def f(x): return (x**2).sum()\n",
    "\n",
    "yt = f(xt)\n",
    "yt"
   ]
  },
  {
   "cell_type": "code",
   "execution_count": 44,
   "metadata": {},
   "outputs": [
    {
     "data": {
      "text/plain": [
       "tensor([ 6.,  8., 20.])"
      ]
     },
     "execution_count": 44,
     "metadata": {},
     "output_type": "execute_result"
    }
   ],
   "source": [
    "# Our gradients are 2*xt, as we'd expect!\n",
    "\n",
    "yt.backward()\n",
    "xt.grad"
   ]
  },
  {
   "cell_type": "markdown",
   "metadata": {},
   "source": [
    "The gradients only tell us the slope of our function, they don't actually tell us exactly how far to adjust the parameters. But it gives us some idea of how far; if the slope is very large, then that may suggest that we have more adjustments to do, whereas if the slope is very small, that may suggest that we are close to the optimal value."
   ]
  },
  {
   "attachments": {
    "image-2.png": {
     "image/png": "[encoded data removed]"
    },
    "image-3.png": {
     "image/png": "[encoded data removed]"
    },
    "image.png": {
     "image/png": "[encoded data removed]"
    }
   },
   "cell_type": "markdown",
   "metadata": {},
   "source": [
    "#### Gradients in Deep Learning\n",
    "\n",
    "* **Importance:** Gradients are crucial for optimizing model performance in deep learning.\n",
    "  * Nearly all approaches start with the basic idea of multiplying the gradient by some small number, called the learning rate (LR).\n",
    "  * Once you've picked a learning rate, you can adjust your parameters using this simple function:\n",
    "    * `w -= gradient(w) * lr`\n",
    "  * This is known as *stepping* your parameters, using an *optimizer step*\n",
    "  * Notice how we subtract the `gradient * lr `from the parameter to update it. This allows us to adjust the parameter in the direction of the slope by increasing the parameter when the slope is negative and decreasing the parameter when the slope is positive. We want to adjust our parameters in the direction of the slope because our goal in deep learning is to minimize the loss.\n",
    "* **Calculus as a Tool:** We leverage calculus to efficiently calculate how adjustments to model parameters will affect the loss function.\n",
    "* **Understanding Derivatives:**\n",
    "    * Gradients are essentially derivatives of the loss function with respect to each parameter (weight).\n",
    "    * They indicate how much changing a parameter will affect the loss (increase or decrease).\n",
    "    * A solid grasp of the concept of derivatives is recommended for further deep learning exploration (Khan Academy resources mentioned). \n",
    "* **Automatic Gradient Calculation:**\n",
    "    * Fortunately, libraries like PyTorch can automatically compute gradients for most functions, saving us manual effort.\n",
    "* **Learning Rate:**\n",
    "    * This hyperparameter controls the step size taken during parameter updates based on the gradients.\n",
    "    * Choosing an appropriate learning rate is essential:\n",
    "        * Too low: slow convergence (many steps needed)\n",
    "            * ![image.png](attachment:image.png)\n",
    "        \n",
    "        \n",
    "        * Too high: potential for divergence or erratic behavior\n",
    "            * ![image-2.png](attachment:image-2.png)\n",
    "        * Good enough: smooth convergence\n",
    "            * ![image-3.png](attachment:image-3.png)"
   ]
  },
  {
   "cell_type": "markdown",
   "metadata": {},
   "source": [
    "**An End-to-End SGD Example:**\n",
    "\n",
    "- Introduction to using gradients to find a minimum and training a model.\n",
    "- Example scenario: Consider this process as figuring out the speed of a roller coaster over time.\n",
    "  - Description of the speed pattern: Starts fast, slows at the top, then speeds up downhill.\n",
    "- Goal: Build a model to represent the speed changes over a 20-second period."
   ]
  },
  {
   "cell_type": "code",
   "execution_count": 45,
   "metadata": {},
   "outputs": [
    {
     "data": {
      "text/plain": [
       "tensor([ 0.,  1.,  2.,  3.,  4.,  5.,  6.,  7.,  8.,  9., 10., 11., 12., 13., 14., 15., 16., 17., 18., 19.])"
      ]
     },
     "execution_count": 45,
     "metadata": {},
     "output_type": "execute_result"
    }
   ],
   "source": [
    "time = torch.arange(0,20).float()\n",
    "time"
   ]
  },
  {
   "cell_type": "code",
   "execution_count": 46,
   "metadata": {},
   "outputs": [
    {
     "data": {
      "image/png": "[encoded data removed]",
      "text/plain": [
       "<Figure size 640x480 with 1 Axes>"
      ]
     },
     "metadata": {},
     "output_type": "display_data"
    }
   ],
   "source": [
    "speed = torch.randn(20)*3 + 0.75*(time-9.5)**2 + 1\n",
    "plt.scatter(time,speed);"
   ]
  },
  {
   "attachments": {
    "image.png": {
     "image/png": "[encoded data removed]"
    }
   },
   "cell_type": "markdown",
   "metadata": {},
   "source": [
    "- Added random noise to measurements due to manual imprecision.\n",
    "- Difficulty in determining roller coaster's speed precisely.\n",
    "- Utilizing Stochastic Gradient Descent (SGD) to find a fitting function.\n",
    "- Considering a quadratic function\n",
    "  - ![image.png](attachment:image.png)\n",
    "- Parameters separated from input: *t* (time) and *params* (for quadratic function parameters)."
   ]
  },
  {
   "cell_type": "code",
   "execution_count": 47,
   "metadata": {},
   "outputs": [],
   "source": [
    "def f(t, params):\n",
    "    a,b,c = params\n",
    "    return a*(t**2) + (b*t) + c"
   ]
  },
  {
   "cell_type": "markdown",
   "metadata": {},
   "source": [
    "- **Objective in Function Fitting:**\n",
    "  - Simplify the problem by restricting it to finding the best quadratic function.\n",
    "  - Quadratic functions defined by three parameters: a, b, and c.\n",
    "  - Task is to find the optimal values for a, b, and c to obtain the best quadratic function.\n",
    "  - This approach is applicable to more complex functions with additional parameters, such as neural networks.\n",
    "  - Once parameters for quadratic function are determined, similar method can be applied to other functions.\n",
    "\n",
    "- **Defining \"Best\" with Loss Function:**\n",
    "  - \"Best\" precisely defined by selecting a loss function.\n",
    "  - Loss function evaluates prediction against target, lower values indicating better predictions.\n",
    "  - Importance of loss functions: SGD aims to minimize this loss.\n",
    "  \n",
    "- **Common Loss Function for Continuous Data:**\n",
    "  - Mean squared error often used for continuous data."
   ]
  },
  {
   "cell_type": "code",
   "execution_count": 48,
   "metadata": {},
   "outputs": [],
   "source": [
    "def mse(preds, targets): return ((preds-targets)**2).mean()\n",
    "     "
   ]
  },
  {
   "cell_type": "markdown",
   "metadata": {},
   "source": [
    "Now, let's work through our 7 step process.\n",
    "\n",
    "#### Step 1: Initialize the parameters\n",
    "First, we initialize the parameters to random values, and tell PyTorch that we want to track their gradients, using `requires_grad_`:"
   ]
  },
  {
   "cell_type": "code",
   "execution_count": 49,
   "metadata": {},
   "outputs": [],
   "source": [
    "params = torch.randn(3).requires_grad_()\n",
    "orig_params = params.clone()"
   ]
  },
  {
   "cell_type": "markdown",
   "metadata": {},
   "source": [
    "#### Step 2: Calculate the predictions\n",
    "Next, we calculate the predictions:"
   ]
  },
  {
   "cell_type": "code",
   "execution_count": 50,
   "metadata": {},
   "outputs": [
    {
     "data": {
      "image/png": "[encoded data removed]",
      "text/plain": [
       "<Figure size 640x480 with 1 Axes>"
      ]
     },
     "metadata": {},
     "output_type": "display_data"
    }
   ],
   "source": [
    "preds = f(time, params)\n",
    "\n",
    "\n",
    "#Let's create a little function to see how close our predictions are to our targets, and take a look:\n",
    "def show_preds(preds, ax=None):\n",
    "    if ax is None: ax=plt.subplots()[1]\n",
    "    ax.scatter(time, speed)\n",
    "    ax.scatter(time, to_np(preds), color='red')\n",
    "    ax.set_ylim(-300,100)\n",
    "\n",
    "show_preds(preds)"
   ]
  },
  {
   "cell_type": "markdown",
   "metadata": {},
   "source": [
    "This doesn't look very close—our random parameters suggest that the roller coaster will end up going backwards, since we have negative speeds!\n",
    "\n",
    "#### Step 3: Calculate the loss\n",
    "We calculate the loss as follows:"
   ]
  },
  {
   "cell_type": "code",
   "execution_count": 51,
   "metadata": {},
   "outputs": [
    {
     "data": {
      "text/plain": [
       "tensor(25823.8086, grad_fn=<MeanBackward0>)"
      ]
     },
     "execution_count": 51,
     "metadata": {},
     "output_type": "execute_result"
    }
   ],
   "source": [
    "loss = mse(preds, speed)\n",
    "loss"
   ]
  },
  {
   "cell_type": "markdown",
   "metadata": {},
   "source": [
    "Our goal is now to improve this. To do that, we'll need to know the gradients.\n",
    "\n",
    "#### Step 4: Calculate the gradients\n",
    "The next step is to calculate the gradients. In other words, calculate an approximation of how the parameters need to change:"
   ]
  },
  {
   "cell_type": "code",
   "execution_count": 52,
   "metadata": {},
   "outputs": [
    {
     "data": {
      "text/plain": [
       "tensor([-53195.8633,  -3419.7148,   -253.8908])"
      ]
     },
     "execution_count": 52,
     "metadata": {},
     "output_type": "execute_result"
    }
   ],
   "source": [
    "loss.backward()\n",
    "params.grad"
   ]
  },
  {
   "cell_type": "code",
   "execution_count": 53,
   "metadata": {},
   "outputs": [
    {
     "data": {
      "text/plain": [
       "tensor([-0.5320, -0.0342, -0.0025])"
      ]
     },
     "execution_count": 53,
     "metadata": {},
     "output_type": "execute_result"
    }
   ],
   "source": [
    "params.grad * 1e-5     "
   ]
  },
  {
   "cell_type": "markdown",
   "metadata": {},
   "source": [
    "We can use these gradients to improve our parameters. We'll need to pick a learning rate (we'll discuss how to do that in practice in the next chapter; for now we'll just use 1e-5, or 0.00001):"
   ]
  },
  {
   "cell_type": "code",
   "execution_count": 54,
   "metadata": {},
   "outputs": [
    {
     "data": {
      "text/plain": [
       "tensor([-0.7658, -0.7506,  1.3525], requires_grad=True)"
      ]
     },
     "execution_count": 54,
     "metadata": {},
     "output_type": "execute_result"
    }
   ],
   "source": [
    "params"
   ]
  },
  {
   "cell_type": "markdown",
   "metadata": {},
   "source": [
    "#### Step 5: Step the weights.\n",
    "Now we need to update the parameters based on the gradients we just calculated:"
   ]
  },
  {
   "cell_type": "code",
   "execution_count": 55,
   "metadata": {},
   "outputs": [],
   "source": [
    "lr = 1e-5\n",
    "params.data -= lr * params.grad.data\n",
    "params.grad = None"
   ]
  },
  {
   "cell_type": "markdown",
   "metadata": {},
   "source": [
    "- Gradients are calculated by calling backward on the loss.\n",
    "- Loss is computed via mean squared error (mse), which takes predictions (preds) as input.\n",
    "- Predictions are derived from a function (f) operating on parameters (params).\n",
    "- Parameters are set to require gradients (requires_grad_) initially, facilitating backward calls on the loss.\n",
    "- This sequence of function calls embodies the mathematical composition of functions.\n",
    "- PyTorch utilizes the chain rule of calculus to efficiently compute gradients.\n"
   ]
  },
  {
   "cell_type": "code",
   "execution_count": 56,
   "metadata": {},
   "outputs": [
    {
     "name": "stdout",
     "output_type": "stream",
     "text": [
      "tensor(5435.5356, grad_fn=<MeanBackward0>)\n"
     ]
    },
    {
     "data": {
      "image/png": "[encoded data removed]",
      "text/plain": [
       "<Figure size 640x480 with 1 Axes>"
      ]
     },
     "metadata": {},
     "output_type": "display_data"
    }
   ],
   "source": [
    "# Let's see if the loss has improved:\n",
    "\n",
    "preds = f(time,params)\n",
    "print(mse(preds, speed))\n",
    "\n",
    "show_preds(preds)"
   ]
  },
  {
   "cell_type": "code",
   "execution_count": 57,
   "metadata": {},
   "outputs": [],
   "source": [
    "# We need to repeat this a few times, so we'll create a function to apply one step:\n",
    "def apply_step(params, prn=True):\n",
    "    preds = f(time, params)\n",
    "    loss = mse(preds, speed)\n",
    "    loss.backward()\n",
    "    params.data -= lr * params.grad.data\n",
    "    params.grad = None\n",
    "    if prn: print(loss.item())\n",
    "    return preds"
   ]
  },
  {
   "cell_type": "markdown",
   "metadata": {},
   "source": [
    "#### Step 6: Repeat the process\n",
    "Now we iterate. By looping and performing many improvements, we hope to reach a good result:"
   ]
  },
  {
   "cell_type": "code",
   "execution_count": 58,
   "metadata": {},
   "outputs": [
    {
     "name": "stdout",
     "output_type": "stream",
     "text": [
      "5435.53564453125\n",
      "1577.44921875\n",
      "847.3778076171875\n",
      "709.2225341796875\n",
      "683.0758056640625\n",
      "678.1243896484375\n",
      "677.1838989257812\n",
      "677.0023193359375\n",
      "676.9645385742188\n",
      "676.9537353515625\n"
     ]
    }
   ],
   "source": [
    "for i in range(10): apply_step(params)"
   ]
  },
  {
   "cell_type": "code",
   "execution_count": 59,
   "metadata": {},
   "outputs": [
    {
     "data": {
      "image/png": "[encoded data removed]",
      "text/plain": [
       "<Figure size 1200x300 with 4 Axes>"
      ]
     },
     "metadata": {},
     "output_type": "display_data"
    }
   ],
   "source": [
    "params = orig_params.detach().requires_grad_()\n",
    "\n",
    "_,axs = plt.subplots(1,4,figsize=(12,3))\n",
    "for ax in axs: show_preds(apply_step(params, False), ax)\n",
    "plt.tight_layout()"
   ]
  },
  {
   "cell_type": "markdown",
   "metadata": {},
   "source": [
    "The loss is going down, just as we hoped! But looking only at these loss numbers disguises the fact that each iteration represents an entirely different quadratic function being tried, on the way to finding the best possible quadratic function. We can see this process visually if, instead of printing out the loss function, we plot the function at every step. Then we can see how the shape is approaching the best possible quadratic function for our data:"
   ]
  },
  {
   "cell_type": "markdown",
   "metadata": {},
   "source": [
    "#### Step 7: stop\n",
    "\n",
    "We just decided to stop after 10 epochs arbitrarily. In practice, we would watch the training and validation losses and our metrics to decide when to stop, as we've discussed."
   ]
  },
  {
   "cell_type": "markdown",
   "metadata": {},
   "source": [
    "### Summarizing Gradient Descent\n",
    "\n",
    "- **Model Initialization:**\n",
    "  - Weights of the model can be random (training from scratch) or from a pretrained model (transfer learning).\n",
    "  - Initial weights may not yield desired outputs, necessitating weight adjustments.\n",
    "\n",
    "- **Loss Calculation:**\n",
    "  - Compare model outputs with targets using a loss function to quantify the deviation.\n",
    "  - Labeled data allows evaluation of model performance against known targets.\n",
    "  - Objective is to minimize the loss function by improving weights.\n",
    "\n",
    "- **Gradient Descent:**\n",
    "  - Utilize calculus (or PyTorch) to compute gradients, indicating direction and magnitude of weight adjustments.\n",
    "  - Analogous to navigating a landscape to find the lowest point (parking lot) where the car (model) is located.\n",
    "  - Adjust weights iteratively, moving in the direction of steepest descent, determined by gradients.\n",
    "  - Learning rate determines step size in weight adjustment process.\n",
    "\n",
    "- **MNIST Dataset Example:**\n",
    "  - Transposable concepts to MNIST dataset.\n",
    "  - Exception: Definition of a suitable loss function tailored to the dataset."
   ]
  },
  {
   "cell_type": "markdown",
   "metadata": {},
   "source": [
    "## The MNIST Loss Function\n",
    "\n",
    "We already have our independent variables `x`—these are the images themselves. We'll concatenate them all into a single tensor, and also change them from a list of matrices (a rank-3 tensor) to a list of vectors (a rank-2 tensor). We can do this using `view`, which is a PyTorch method that changes the shape of a tensor without changing its contents. `-1` is a special parameter to `view` that means \"make this axis as big as necessary to fit all the data\":"
   ]
  },
  {
   "cell_type": "code",
   "execution_count": 60,
   "metadata": {},
   "outputs": [
    {
     "data": {
      "text/plain": [
       "(torch.Size([12396, 784]), torch.Size([12396, 1]))"
      ]
     },
     "execution_count": 60,
     "metadata": {},
     "output_type": "execute_result"
    }
   ],
   "source": [
    "train_x = torch.cat([stacked_threes, stacked_sevens]).view(-1, 28*28)\n",
    "     \n",
    "# We need a label for each image. We'll use 1 for 3s and 0 for 7s:\n",
    "\n",
    "train_y = tensor([1]*len(threes) + [0]*len(sevens)).unsqueeze(1)\n",
    "train_x.shape,train_y.shape"
   ]
  },
  {
   "cell_type": "markdown",
   "metadata": {},
   "source": [
    "A `Dataset` in PyTorch is required to return a tuple of `(x,y)` when indexed. Python provides a `zip` function which, when combined with `list`, provides a simple way to get this functionality:"
   ]
  },
  {
   "cell_type": "code",
   "execution_count": 61,
   "metadata": {},
   "outputs": [
    {
     "name": "stdout",
     "output_type": "stream",
     "text": [
      "Shape of X: torch.Size([784])\n",
      "Shape of y: torch.Size([1])\n"
     ]
    }
   ],
   "source": [
    "dset = list(zip(train_x,train_y))\n",
    "x,y = dset[0]\n",
    "print(\"Shape of X:\", x.shape)\n",
    "print(\"Shape of y:\", y.shape)\n",
    "\n",
    "valid_x = torch.cat([valid_3_tens, valid_7_tens]).view(-1, 28*28)\n",
    "valid_y = tensor([1]*len(valid_3_tens) + [0]*len(valid_7_tens)).unsqueeze(1)\n",
    "valid_dset = list(zip(valid_x,valid_y))\n",
    "\n",
    "# Now we need an (initially random) weight for every pixel (this is the initialize step in our seven-step process):\n",
    "\n",
    "def init_params(size, std=1.0): return (torch.randn(size)*std).requires_grad_()\n",
    "     \n",
    "weights = init_params((28*28,1))"
   ]
  },
  {
   "cell_type": "markdown",
   "metadata": {},
   "source": [
    "The function `weights*pixels` won't be flexible enough— it is always equal to 0 when the pixels are equal to 0 (i.e., its intercept is 0). \n",
    "\n",
    "the formula for a line is y=w*x+b; we still need the b. We'll initialize it to a random number too. \n",
    "\n",
    "In neural networks, the `w` in the equation *y=w*x+b* is called the *weights*, and the b is called the *bias*. Together, the *weights* and *bias* make up the parameters."
   ]
  },
  {
   "cell_type": "code",
   "execution_count": 62,
   "metadata": {},
   "outputs": [
    {
     "data": {
      "text/plain": [
       "tensor([20.2336], grad_fn=<AddBackward0>)"
      ]
     },
     "execution_count": 62,
     "metadata": {},
     "output_type": "execute_result"
    }
   ],
   "source": [
    "bias = init_params(1)\n",
    "\n",
    "# We can now calculate a prediction for one image:\n",
    "(train_x[0]*weights.T).sum() + bias"
   ]
  },
  {
   "cell_type": "markdown",
   "metadata": {},
   "source": [
    "Python `for` loops are Slow for Image Classification\n",
    "\n",
    "* **Loop-based calculations are inefficient:**\n",
    "    * Python loops are slow for numerical computations, especially when compared to vectorized operations.\n",
    "    * Loops don't leverage GPUs for processing, further hindering performance.\n",
    "\n",
    "* **Solution: Utilize Higher-Level Functions and Matrix Multiplication**\n",
    "    * Represent computations using mathematical operations for efficiency.\n",
    "    * Matrix multiplication is a particularly efficient way to perform calculations on entire matrices simultaneously.\n",
    "\n",
    "* **Resource for Refreshing Matrix Multiplication:**\n",
    "    * Khan Academy's Intro to [Matrix Multiplication](https://www.khanacademy.org/math/algebra-home/alg-matrices) is recommended for a review as it's a fundamental concept in deep learning.\n"
   ]
  },
  {
   "cell_type": "code",
   "execution_count": 63,
   "metadata": {},
   "outputs": [
    {
     "data": {
      "text/plain": [
       "tensor([[20.2336],\n",
       "        [17.0644],\n",
       "        [15.2384],\n",
       "        ...,\n",
       "        [18.3804],\n",
       "        [23.8567],\n",
       "        [28.6816]], grad_fn=<AddBackward0>)"
      ]
     },
     "execution_count": 63,
     "metadata": {},
     "output_type": "execute_result"
    }
   ],
   "source": [
    "# In Python, matrix multiplication is represented with the @ operator. Let's try it:\n",
    "\n",
    "def linear1(xb): return xb@weights + bias\n",
    "preds = linear1(train_x)\n",
    "preds"
   ]
  },
  {
   "cell_type": "markdown",
   "metadata": {},
   "source": [
    "The first element is the same as we calculated before, as we'd expect. This equation, `batch@weights + bias`, is one of the two fundamental equations of any neural network (the other one is the activation function, which we'll see in a moment).\n",
    "\n",
    "Let's check our accuracy. To decide if an output represents a 3 or a 7, we can just check whether it's greater than 0.0, so our accuracy for each item can be calculated (using broadcasting, so no loops!) with:"
   ]
  },
  {
   "cell_type": "code",
   "execution_count": 64,
   "metadata": {},
   "outputs": [
    {
     "name": "stdout",
     "output_type": "stream",
     "text": [
      "tensor([[ True],\n",
      "        [ True],\n",
      "        [ True],\n",
      "        ...,\n",
      "        [False],\n",
      "        [False],\n",
      "        [False]])\n",
      "The mean  0.4912068545818329\n"
     ]
    }
   ],
   "source": [
    "corrects = (preds>0.0).float() == train_y\n",
    "print(corrects)\n",
    "\n",
    "print(\"The mean \", corrects.float().mean().item())"
   ]
  },
  {
   "cell_type": "code",
   "execution_count": 65,
   "metadata": {},
   "outputs": [
    {
     "data": {
      "text/plain": [
       "0.4912068545818329"
      ]
     },
     "execution_count": 65,
     "metadata": {},
     "output_type": "execute_result"
    }
   ],
   "source": [
    "\"\"\"\n",
    "Now let's see what the change in accuracy is for a small change in one of the weights \n",
    "(note that we have to ask PyTorch not to calculate gradients as we do this, which is what with torch.no_grad() is doing here):\n",
    "\"\"\"\n",
    "\n",
    "with torch.no_grad(): weights[0] *= 1.0001\n",
    "\n",
    "preds = linear1(train_x)\n",
    "((preds>0.0).float() == train_y).float().mean().item()"
   ]
  },
  {
   "cell_type": "markdown",
   "metadata": {},
   "source": [
    "\n",
    "- **Gradients and Loss Function:**\n",
    "  - Gradients are necessary for model improvement via SGD.\n",
    "  - Loss function represents model performance.\n",
    "  - Gradients are a measure of how that loss function changes with small tweaks to the weights.\n",
    "\n",
    "- **Choosing a Loss Function:**\n",
    "  - Accuracy seems intuitive as a loss function.\n",
    "    - we can calculate our prediction for each image, collect these values to calculate an overall accuracy, and then calculate the gradients of each weight with respect to that overall accuracy.\n",
    "  - Issue arises: Accuracy changes only with specific prediction shifts (e.g., 3 to 7).\n",
    "    - The gradient of a function is its slope, or its steepness, which can be defined as rise over run—that is, how much the value of the function goes up or down, divided by how much we changed the input. \n",
    "    - `(y_new - y_old) / (x_new - x_old)`\n",
    "    - A good approximation of the gradient when `x_new` is very similar to `x_old`, meaning that their difference is very small. \n",
    "    - But accuracy only changes at all when a prediction changes from a 3 to a 7, or vice versa. The problem is that a small change in weights from `x_old` to `x_new` isn't likely to cause any prediction to change, so `(y_new - y_old)` will almost always be 0. In other words, the gradient is 0 almost everywhere.\n",
    "  - Gradually changing weights often don't affect accuracy.\n",
    "  - Accuracy's derivative is mostly zero, rendering gradients ineffective.\n",
    "    -  In mathematical terms, accuracy is a function that is constant almost everywhere (except at the threshold, 0.5), so its derivative is nil almost everywhere (and infinity at the threshold). This then gives gradients that are 0 or infinite, which are useless for updating the model.\n",
    "\n",
    "- **Limitations of Accuracy as a Loss Function:**\n",
    "  - Accuracy's derivative is nil almost everywhere.\n",
    "  - Gradients become either 0 or infinite, not useful for model updates.\n",
    "\n",
    "- **Need for an Effective Loss Function:**\n",
    "  - Loss function should reflect small improvements in predictions.\n",
    "  - \"Slightly better prediction\" involves higher score for correct predictions.\n",
    "\n",
    "- **Formulating a New Loss Function:**\n",
    "  - Loss function operates on model predictions, not raw images.\n",
    "  - Takes predictions (prds) and targets (trgts), both vectors (rank-1 tensors).\n",
    "  - Measures the difference between predicted and true values.\n",
    "\n",
    "- **Loss Function Structure:**\n",
    "  - Receives predictions (prds) between 0 and 1.\n",
    "  - Targets (trgts) are binary (0 or 1), indicating if an image is a 3.\n",
    "\n",
    "- **Purpose of the Loss Function:**\n",
    "  - Evaluate how well predictions match the true labels.\n",
    "  - Quantify the discrepancy between predicted and actual values."
   ]
  },
  {
   "cell_type": "code",
   "execution_count": 66,
   "metadata": {},
   "outputs": [],
   "source": [
    "# consider the images to be 3, 7, 3. If we want the model to predict 3 correctly, the target should be 1,0, 1. Here, 1 represnts True labels. \n",
    "trgts  = tensor([1,0,1])\n",
    "\n",
    "# Now, suppose our model predicts the following 0.9, 0.4, 0.2.  We can see 0.9 is close to 1, but 0.2 is not close to 1. \n",
    "# So, it means the model has not correctly predicted the 3rd 3. \n",
    "prds   = tensor([0.9, 0.4, 0.2])"
   ]
  },
  {
   "cell_type": "markdown",
   "metadata": {},
   "source": [
    "- `torch.where(a, b, c)` function overview:\n",
    "  - Performs similar operation as the list comprehension `[b[i] if a[i] else c[i] for i in range(len(a))]`.\n",
    "  - Works on tensors and operates at C/CUDA speed, unlike Python loops over tensors.\n",
    "  - Measures the distance of each prediction from 1 if it should be 1, and from 0 if it should be 0.\n",
    "  - Computes the mean of all these distances.\n",
    "- Importance of learning PyTorch functions:\n",
    "  - Looping over tensors in Python operates at Python speed, not C/CUDA speed.\n",
    "  - Refer to PyTorch documentation or use `help(torch.where)` to understand its usage and benefits."
   ]
  },
  {
   "cell_type": "code",
   "execution_count": 67,
   "metadata": {},
   "outputs": [
    {
     "data": {
      "text/plain": [
       "tensor([0.1000, 0.4000, 0.8000])"
      ]
     },
     "execution_count": 67,
     "metadata": {},
     "output_type": "execute_result"
    }
   ],
   "source": [
    "# Here's a first try at a loss function that measures the distance between predictions and targets:\n",
    "\n",
    "def mnist_loss(predictions, targets):\n",
    "    return torch.where(targets==1, 1-predictions, predictions).mean()\n",
    "\n",
    "\n",
    "# Let's try it on our prds and trgts:\n",
    "torch.where(trgts==1, 1-prds, prds)"
   ]
  },
  {
   "cell_type": "code",
   "execution_count": 68,
   "metadata": {},
   "outputs": [
    {
     "name": "stdout",
     "output_type": "stream",
     "text": [
      "Loss:  tensor(0.4333)\n"
     ]
    }
   ],
   "source": [
    "\"\"\"You can see that this function returns a lower number when predictions are more accurate, \n",
    "when accurate predictions are more confident (higher absolute values), and when inaccurate predictions are less confident. \n",
    "In PyTorch, we always assume that a lower value of a loss function is better. \n",
    "Since we need a scalar for the final loss, mnist_loss takes the mean of the previous tensor:\n",
    "\"\"\"\n",
    "print(\"Loss: \",  mnist_loss(prds,trgts))\n",
    "\n"
   ]
  },
  {
   "cell_type": "markdown",
   "metadata": {},
   "source": [
    "For instance, if we change our prediction for the one \"false\" target from 0.2 to 0.8 the loss will go down, indicating that this is a better prediction:"
   ]
  },
  {
   "cell_type": "code",
   "execution_count": 69,
   "metadata": {},
   "outputs": [
    {
     "name": "stdout",
     "output_type": "stream",
     "text": [
      "New loss:  tensor(0.2333)\n"
     ]
    }
   ],
   "source": [
    "preds_new =  [0.9, 0.4, 0.8]\n",
    "print(\"New loss: \", mnist_loss(tensor(preds_new),trgts))"
   ]
  },
  {
   "cell_type": "markdown",
   "metadata": {},
   "source": [
    "One problem with mnist_loss as currently defined is that it assumes that predictions are always between 0 and 1. We need to ensure, then, that this is actually the case! As it happens, there is a function that does exactly that—let's take a look."
   ]
  },
  {
   "cell_type": "markdown",
   "metadata": {},
   "source": [
    "#### Sigmoid Function\n",
    "\n",
    "**What it Does:**\n",
    "\n",
    "* Outputs a value between 0 and 1, regardless of the input.\n",
    "\n",
    "**Formula:**\n",
    "\n",
    "* `sigmoid(x) = 1 / (1 + torch.exp(-x))` (Implemented efficiently in PyTorch)\n",
    "\n",
    "**Importance:**\n",
    "\n",
    "* Ensures values are between 0 and 1, often desired in deep learning tasks.\n",
    "\n",
    "**Visualization:**\n",
    "* Takes any input (positive or negative) and \"squishes\" it to an output between 0 and 1.\n",
    "* Smooth curve with a gradual increase, beneficial for optimization algorithms.\n",
    "\n",
    "**Additional Notes:**\n",
    "\n",
    "* PyTorch provides an optimized version, so implementing your own is generally unnecessary.\n",
    "* The smooth, increasing curve makes it easier for Stochastic Gradient Descent (SGD) to find meaningful gradients during training.\n"
   ]
  },
  {
   "cell_type": "code",
   "execution_count": 70,
   "metadata": {},
   "outputs": [
    {
     "data": {
      "image/png": "[encoded data removed]",
      "text/plain": [
       "<Figure size 600x400 with 1 Axes>"
      ]
     },
     "metadata": {},
     "output_type": "display_data"
    }
   ],
   "source": [
    "# defining sigmoid function:\n",
    "def sigmoid(x): return 1/(1+torch.exp(-x))\n",
    "\n",
    "# Lets plot out sigmoid function\n",
    "plot_function(sigmoid, title='Sigmoid', min=-4, max=4)"
   ]
  },
  {
   "cell_type": "code",
   "execution_count": 71,
   "metadata": {},
   "outputs": [
    {
     "data": {
      "image/png": "[encoded data removed]",
      "text/plain": [
       "<Figure size 600x400 with 1 Axes>"
      ]
     },
     "metadata": {},
     "output_type": "display_data"
    }
   ],
   "source": [
    "# Pytorch defines an accelerated version for us, so we don’t really need our own\n",
    "plot_function(torch.sigmoid, title='Pytorch Sigmoid', min=-4, max=4)"
   ]
  },
  {
   "cell_type": "code",
   "execution_count": 72,
   "metadata": {},
   "outputs": [],
   "source": [
    "# Let's update mnist_loss to first apply sigmoid to the inputs:\n",
    "\n",
    "def mnist_loss(predictions, targets):\n",
    "    predictions = predictions.sigmoid()\n",
    "    return torch.where(targets==1, 1-predictions, predictions).mean()"
   ]
  },
  {
   "cell_type": "markdown",
   "metadata": {},
   "source": [
    "Loss vs. Metric in Image Classification\n",
    "\n",
    "* **Loss Function:** \n",
    "    * Ensures gradients exist for training (important for optimization algorithms).\n",
    "    * May not directly reflect the desired outcome but is optimized for training.\n",
    "    * Calculated per item and averaged for an epoch.\n",
    "\n",
    "* **Metric (e.g., Accuracy):**\n",
    "    * Reflects actual model performance on the task (human understandable).\n",
    "    * Used for evaluating model performance, not directly in training.\n",
    "    * Reported at the end of each epoch.\n",
    "\n",
    "**In summary:**\n",
    "\n",
    "* Loss function guides model training (helps the model learn).\n",
    "* Metric reflects how well the model performs (helps us understand the model's performance).\n"
   ]
  },
  {
   "cell_type": "markdown",
   "metadata": {},
   "source": [
    "#### SGD and Mini-Batches: Key Points\n",
    "\n",
    "* **Mini-Batch SGD:**  We calculate the loss function over a small subset of data (mini-batch) for optimization steps (updating weights) during SGD.\n",
    "\n",
    "* **Benefits of Mini-Batches:**\n",
    "  * **Balance between Accuracy and Efficiency:**\n",
    "    - Using the entire dataset is slow.\n",
    "    - Using a single data point is inaccurate and unstable for gradient updates.\n",
    "    - Mini-batches provide an accurate estimate while being faster than full dataset calculations.\n",
    "  * **Better GPU Utilization:** GPUs perform well with larger workloads. Mini-batches provide sufficient data for efficient GPU usage.\n",
    "\n",
    "* **Batch Size:** The number of data items in a mini-batch.\n",
    "  * Larger batch size:\n",
    "    * More accurate and stable gradients.\n",
    "    * Slower training due to fewer mini-batches per epoch.\n",
    "  * Choosing an optimal batch size is crucial for efficient and accurate training.\n",
    "\n",
    "* **Random Shuffling:** Improves generalization by varying data within mini-batches during each epoch.\n",
    "\n",
    "* **DataLoader:** A class (PyTorch/fastai) that simplifies data shuffling and mini-batch creation from a given dataset. \n"
   ]
  },
  {
   "cell_type": "code",
   "execution_count": 73,
   "metadata": {},
   "outputs": [
    {
     "data": {
      "text/plain": [
       "[tensor([ 3, 12,  8, 10,  2]),\n",
       " tensor([ 9,  4,  7, 14,  5]),\n",
       " tensor([ 1, 13,  0,  6, 11])]"
      ]
     },
     "execution_count": 73,
     "metadata": {},
     "output_type": "execute_result"
    }
   ],
   "source": [
    "# A DataLoader can take any Python collection and turn it into an iterator over mini-batches, like so:\n",
    "\n",
    "coll = range(15)\n",
    "dl = DataLoader(coll, batch_size=5, shuffle=True)\n",
    "list(dl)"
   ]
  },
  {
   "cell_type": "code",
   "execution_count": 74,
   "metadata": {},
   "outputs": [
    {
     "name": "stdout",
     "output_type": "stream",
     "text": [
      "[(0, 'a'), (1, 'b'), (2, 'c'), (3, 'd'), (4, 'e'), (5, 'f'), (6, 'g'), (7, 'h'), (8, 'i'), (9, 'j'), (10, 'k'), (11, 'l'), (12, 'm'), (13, 'n'), (14, 'o'), (15, 'p'), (16, 'q'), (17, 'r'), (18, 's'), (19, 't'), (20, 'u'), (21, 'v'), (22, 'w'), (23, 'x'), (24, 'y'), (25, 'z')]\n"
     ]
    },
    {
     "data": {
      "text/plain": [
       "[(tensor([17, 18, 10, 22,  8, 14]), ('r', 's', 'k', 'w', 'i', 'o')),\n",
       " (tensor([20, 15,  9, 13, 21, 12]), ('u', 'p', 'j', 'n', 'v', 'm')),\n",
       " (tensor([ 7, 25,  6,  5, 11, 23]), ('h', 'z', 'g', 'f', 'l', 'x')),\n",
       " (tensor([ 1,  3,  0, 24, 19, 16]), ('b', 'd', 'a', 'y', 't', 'q')),\n",
       " (tensor([2, 4]), ('c', 'e'))]"
      ]
     },
     "execution_count": 74,
     "metadata": {},
     "output_type": "execute_result"
    }
   ],
   "source": [
    "\"\"\"\n",
    "For training a model, we don't just want any Python collection,\n",
    "but a collection containing independent and dependent variables (that is, the inputs and targets of the model). \n",
    "A collection that contains tuples of independent and dependent variables is known in PyTorch as a Dataset. \n",
    "Here's an example of an extremely simple Dataset:\"\"\"\n",
    "ds = L(enumerate(string.ascii_lowercase))\n",
    "print(ds)\n",
    "\n",
    "# When we pass a Dataset to a DataLoader we will get back mini-batches which are themselves tuples of tensors representing batches of independent and dependent variables:\n",
    "dl = DataLoader(ds, batch_size=6, shuffle=True)\n",
    "list(dl)\n",
    "     "
   ]
  },
  {
   "cell_type": "markdown",
   "metadata": {},
   "source": [
    "We are now ready to write our first training loop for a model using SGD!\n",
    "    \n",
    "**Putting It All Together**\n",
    "It's time to implement the process we saw in gradient_descent. In code, our process will be implemented something like this for each epoch:\n",
    "\n",
    "\n",
    "    for x,y in dl:\n",
    "        pred = model(x)\n",
    "        loss = loss_func(pred, y)\n",
    "        loss.backward()\n",
    "        parameters -= parameters.grad * lr\n"
   ]
  },
  {
   "cell_type": "code",
   "execution_count": 75,
   "metadata": {},
   "outputs": [
    {
     "name": "stdout",
     "output_type": "stream",
     "text": [
      "Shape of X and y torch.Size([256, 784]) torch.Size([256, 1])\n",
      "Batch shape:  torch.Size([4, 784])\n",
      "Preds:  tensor([[-2.1876],\n",
      "        [-8.3973],\n",
      "        [ 2.5000],\n",
      "        [-4.9473]], grad_fn=<AddBackward0>)\n",
      "loss:  tensor(0.7419, grad_fn=<MeanBackward0>)\n",
      "Calculating gradients:  torch.Size([784, 1]) tensor(-0.0061) tensor([-0.0420])\n"
     ]
    }
   ],
   "source": [
    "# First, let's re-initialize our parameters:\n",
    "weights = init_params((28*28,1))\n",
    "bias = init_params(1)\n",
    "     \n",
    "# A DataLoader can be created from a Dataset:\n",
    "dl = DataLoader(dset, batch_size=256)\n",
    "xb,yb = first(dl)\n",
    "print(\"Shape of X and y\", xb.shape,yb.shape)\n",
    "\n",
    "# We'll do the same for the validation set:\n",
    "valid_dl = DataLoader(valid_dset, batch_size=256)\n",
    "\n",
    "# Let's create a mini-batch of size 4 for testing:\n",
    "batch = train_x[:4]\n",
    "print(\"Batch shape: \", batch.shape)\n",
    "\n",
    "preds = linear1(batch)\n",
    "print(\"Preds: \", preds)\n",
    "\n",
    "loss = mnist_loss(preds, train_y[:4])\n",
    "print(\"loss: \", loss)\n",
    "\n",
    "# Now we can calculate the gradients:\n",
    "loss.backward()\n",
    "print(\"Calculating gradients: \", weights.grad.shape,weights.grad.mean(),bias.grad)"
   ]
  },
  {
   "cell_type": "code",
   "execution_count": 76,
   "metadata": {},
   "outputs": [
    {
     "data": {
      "text/plain": [
       "(tensor(-0.0121), tensor([-0.0840]))"
      ]
     },
     "execution_count": 76,
     "metadata": {},
     "output_type": "execute_result"
    }
   ],
   "source": [
    "# Let's put that all in a function:\n",
    "def calc_grad(xb, yb, model):\n",
    "    preds = model(xb)\n",
    "    loss = mnist_loss(preds, yb)\n",
    "    loss.backward()\n",
    "\n",
    "# and test it:\n",
    "calc_grad(batch, train_y[:4], linear1)\n",
    "weights.grad.mean(),bias.grad"
   ]
  },
  {
   "cell_type": "code",
   "execution_count": 77,
   "metadata": {},
   "outputs": [
    {
     "data": {
      "text/plain": [
       "(tensor(-0.0182), tensor([-0.1260]))"
      ]
     },
     "execution_count": 77,
     "metadata": {},
     "output_type": "execute_result"
    }
   ],
   "source": [
    "# But look what happens if we call it twice:\n",
    "calc_grad(batch, train_y[:4], linear1)\n",
    "weights.grad.mean(),bias.grad"
   ]
  },
  {
   "cell_type": "markdown",
   "metadata": {},
   "source": [
    "The gradients have changed after we called it twice! \n",
    "The reason for this is that `loss.backward` actually adds the gradients of `loss` to any gradients that are currently stored. \n",
    "So, we have to set the current gradients to 0 first:"
   ]
  },
  {
   "cell_type": "code",
   "execution_count": 78,
   "metadata": {},
   "outputs": [],
   "source": [
    "\n",
    "weights.grad.zero_()\n",
    "bias.grad.zero_();"
   ]
  },
  {
   "cell_type": "markdown",
   "metadata": {},
   "source": [
    "**Inplace Operations:** \n",
    "- Methods in PyTorch whose names end in an underscore modify their objects in place. \n",
    "- For instance, `bias.zero_()` sets all elements of the tensor `bias` to 0.\n",
    "\n",
    "\n",
    "Our only remaining step is to update the weights and biases based on the gradient and learning rate. When we do so, we have to tell PyTorch not to take the gradient of this step too—otherwise things will get very confusing when we try to compute the derivative at the next batch! If we assign to the data attribute of a tensor then PyTorch will not take the gradient of that step. Here's our basic training loop for an epoch:"
   ]
  },
  {
   "cell_type": "code",
   "execution_count": 79,
   "metadata": {},
   "outputs": [
    {
     "data": {
      "text/plain": [
       "tensor([[False],\n",
       "        [False],\n",
       "        [ True],\n",
       "        [False]])"
      ]
     },
     "execution_count": 79,
     "metadata": {},
     "output_type": "execute_result"
    }
   ],
   "source": [
    "def train_epoch(model, lr, params):\n",
    "    for xb,yb in dl:\n",
    "        calc_grad(xb, yb, model)\n",
    "        for p in params:\n",
    "            p.data -= p.grad*lr\n",
    "            p.grad.zero_()\n",
    "\n",
    "# We also want to check how we're doing, by looking at the accuracy of the validation set. To decide if an output represents a 3 or a 7, we can just check whether it's greater than 0. So our accuracy for each item can be calculated (using broadcasting, so no loops!) with:\n",
    "(preds>0.0).float() == train_y[:4]             "
   ]
  },
  {
   "cell_type": "code",
   "execution_count": 80,
   "metadata": {},
   "outputs": [
    {
     "name": "stdout",
     "output_type": "stream",
     "text": [
      "Batch accuracy:  tensor(0.2500)\n"
     ]
    },
    {
     "data": {
      "text/plain": [
       "0.5264"
      ]
     },
     "execution_count": 80,
     "metadata": {},
     "output_type": "execute_result"
    }
   ],
   "source": [
    "# That gives us this function to calculate our validation accuracy:\n",
    "\n",
    "\n",
    "def batch_accuracy(xb, yb):\n",
    "    preds = xb.sigmoid()\n",
    "    correct = (preds>0.5) == yb\n",
    "    return correct.float().mean()\n",
    "\n",
    "print(\"Batch accuracy: \", batch_accuracy(linear1(batch), train_y[:4]))\n",
    "\n",
    "# and then put the batches together:\n",
    "def validate_epoch(model):\n",
    "    accs = [batch_accuracy(model(xb), yb) for xb,yb in valid_dl]\n",
    "    return round(torch.stack(accs).mean().item(), 4)\n",
    "validate_epoch(linear1)\n",
    "     "
   ]
  },
  {
   "cell_type": "markdown",
   "metadata": {},
   "source": [
    "That's our starting point. Let's train for one epoch, and see if the accuracy improves:"
   ]
  },
  {
   "cell_type": "code",
   "execution_count": 81,
   "metadata": {},
   "outputs": [
    {
     "data": {
      "text/plain": [
       "0.6663"
      ]
     },
     "execution_count": 81,
     "metadata": {},
     "output_type": "execute_result"
    }
   ],
   "source": [
    "lr = 1.\n",
    "params = weights,bias\n",
    "train_epoch(linear1, lr, params)\n",
    "validate_epoch(linear1)"
   ]
  },
  {
   "cell_type": "code",
   "execution_count": 82,
   "metadata": {},
   "outputs": [
    {
     "name": "stdout",
     "output_type": "stream",
     "text": [
      "0.8265 0.89 0.9183 0.9276 0.9398 0.9466 0.9505 0.9525 0.9559 0.9578 0.9598 0.9608 0.9613 0.9618 0.9633 0.9637 0.9647 0.9657 0.9672 0.9677 "
     ]
    }
   ],
   "source": [
    "# Then do a few more:\n",
    "for i in range(20):\n",
    "    train_epoch(linear1, lr, params)\n",
    "    print(validate_epoch(linear1), end=' ')"
   ]
  },
  {
   "cell_type": "markdown",
   "metadata": {},
   "source": [
    "Looking good! We're already about at the same accuracy as our \"pixel similarity\" approach, and we've created a general-purpose foundation we can build on. Our next step will be to create an object that will handle the SGD step for us. \n",
    "\n",
    "In PyTorch, it's called an `optimizer`."
   ]
  },
  {
   "cell_type": "markdown",
   "metadata": {},
   "source": [
    "#### Creating an Optimizer \n",
    "**Using nn.Linear in PyTorch Model**\n",
    "\n",
    "* **PyTorch's nn.Linear Module:** \n",
    "    * Simplifies model creation by combining weight and bias operations.\n",
    "    * Inherits from the `nn.Module` class.\n",
    "\n",
    "* **nn.Linear vs. Custom Linear Function:**\n",
    "    * `nn.Linear` replaces both `init_params` and `linear` functions.\n",
    "    * It encapsulates both weights and biases within a single class.\n",
    "\n",
    "* **Benefits:**\n",
    "    * Cleaner and more concise model representation.\n",
    "    * Potentially more efficient implementation by PyTorch.\n"
   ]
  },
  {
   "cell_type": "code",
   "execution_count": 83,
   "metadata": {},
   "outputs": [
    {
     "name": "stdout",
     "output_type": "stream",
     "text": [
      "Shape:  torch.Size([1, 784]) torch.Size([1])\n"
     ]
    }
   ],
   "source": [
    "# nn.Linear does the same thing as our init_params and linear together. \n",
    "# It contains both the weights and biases in a single class. Here's how we replicate our model from the previous section:\n",
    "\n",
    "linear_model = nn.Linear(28*28,1)\n",
    "\n",
    "# Every PyTorch module knows what parameters it has that can be trained; they are available through the parameters method:\n",
    "w,b = linear_model.parameters()\n",
    "print(\"Shape: \", w.shape,b.shape)"
   ]
  },
  {
   "cell_type": "code",
   "execution_count": 84,
   "metadata": {},
   "outputs": [],
   "source": [
    "# We can use this information to create an optimizer:\n",
    "class BasicOptim:\n",
    "    def __init__(self,params,lr): self.params,self.lr = list(params),lr\n",
    "\n",
    "    def step(self, *args, **kwargs):\n",
    "        for p in self.params: p.data -= p.grad.data * self.lr\n",
    "\n",
    "    def zero_grad(self, *args, **kwargs):\n",
    "        for p in self.params: p.grad = None\n",
    "\n",
    "# We can create our optimizer by passing in the model's parameters:\n",
    "opt = BasicOptim(linear_model.parameters(), lr)"
   ]
  },
  {
   "cell_type": "code",
   "execution_count": 85,
   "metadata": {},
   "outputs": [
    {
     "data": {
      "text/plain": [
       "0.4606"
      ]
     },
     "execution_count": 85,
     "metadata": {},
     "output_type": "execute_result"
    }
   ],
   "source": [
    "# Our training loop can now be simplified to:\n",
    "def train_epoch(model):\n",
    "    for xb,yb in dl:\n",
    "        calc_grad(xb, yb, model)\n",
    "        opt.step()\n",
    "        opt.zero_grad()\n",
    "     \n",
    "# Our validation function doesn't need to change at all:\n",
    "validate_epoch(linear_model)"
   ]
  },
  {
   "cell_type": "code",
   "execution_count": 86,
   "metadata": {},
   "outputs": [
    {
     "name": "stdout",
     "output_type": "stream",
     "text": [
      "0.4932 0.7686 0.8554 0.9136 0.9346 0.9482 0.957 0.9634 0.9658 0.9678 0.9697 0.9717 0.9736 0.9746 0.9761 0.977 0.9775 0.9775 0.978 0.9785 "
     ]
    }
   ],
   "source": [
    "# Let's put our little training loop in a function, to make things simpler:\n",
    "def train_model(model, epochs):\n",
    "    for i in range(epochs):\n",
    "        train_epoch(model)\n",
    "        print(validate_epoch(model), end=' ')\n",
    "     \n",
    "# The results are the same as in the previous section:\n",
    "train_model(linear_model, 20)     "
   ]
  },
  {
   "cell_type": "code",
   "execution_count": 87,
   "metadata": {},
   "outputs": [
    {
     "name": "stdout",
     "output_type": "stream",
     "text": [
      "0.4932 0.8179 0.8496 0.914 0.9346 0.9482 0.957 0.9619 0.9658 0.9673 0.9692 0.9712 0.9741 0.9751 0.9761 0.9775 0.9775 0.978 0.9785 0.979 "
     ]
    }
   ],
   "source": [
    "# fastai provides the SGD class which, by default, does the same thing as our BasicOptim:\n",
    "linear_model = nn.Linear(28*28,1)\n",
    "opt = SGD(linear_model.parameters(), lr)\n",
    "train_model(linear_model, 20)"
   ]
  },
  {
   "cell_type": "markdown",
   "metadata": {},
   "source": [
    "fastai also provides `Learner.fit`, which we can use instead of `train_model`. To create a `Learner` we first need to create a `DataLoaders`, by passing in our training and validation DataLoaders:"
   ]
  },
  {
   "cell_type": "code",
   "execution_count": 88,
   "metadata": {},
   "outputs": [],
   "source": [
    "dls = DataLoaders(dl, valid_dl)\n",
    "     "
   ]
  },
  {
   "cell_type": "markdown",
   "metadata": {},
   "source": [
    "To create a `Learner` without using an application (such as `vision_learner`) we need to pass in all the elements that we've created in this chapter: \n",
    "- the `DataLoaders`, \n",
    "- the model, \n",
    "- the optimization function (which will be passed the parameters), \n",
    "- the loss function, and \n",
    "- optionally any metrics to print:"
   ]
  },
  {
   "cell_type": "code",
   "execution_count": 89,
   "metadata": {},
   "outputs": [
    {
     "data": {
      "text/html": [
       "\n",
       "<style>\n",
       "    /* Turns off some styling */\n",
       "    progress {\n",
       "        /* gets rid of default border in Firefox and Opera. */\n",
       "        border: none;\n",
       "        /* Needs to be in here for Safari polyfill so background images work as expected. */\n",
       "        background-size: auto;\n",
       "    }\n",
       "    progress:not([value]), progress:not([value])::-webkit-progress-bar {\n",
       "        background: repeating-linear-gradient(45deg, #7e7e7e, #7e7e7e 10px, #5c5c5c 10px, #5c5c5c 20px);\n",
       "    }\n",
       "    .progress-bar-interrupted, .progress-bar-interrupted::-webkit-progress-bar {\n",
       "        background: #F44336;\n",
       "    }\n",
       "</style>\n"
      ],
      "text/plain": [
       "<IPython.core.display.HTML object>"
      ]
     },
     "metadata": {},
     "output_type": "display_data"
    },
    {
     "data": {
      "text/html": [
       "<table border=\"1\" class=\"dataframe\">\n",
       "  <thead>\n",
       "    <tr style=\"text-align: left;\">\n",
       "      <th>epoch</th>\n",
       "      <th>train_loss</th>\n",
       "      <th>valid_loss</th>\n",
       "      <th>batch_accuracy</th>\n",
       "      <th>time</th>\n",
       "    </tr>\n",
       "  </thead>\n",
       "  <tbody>\n",
       "    <tr>\n",
       "      <td>0</td>\n",
       "      <td>0.636709</td>\n",
       "      <td>0.503144</td>\n",
       "      <td>0.495584</td>\n",
       "      <td>00:00</td>\n",
       "    </tr>\n",
       "    <tr>\n",
       "      <td>1</td>\n",
       "      <td>0.429828</td>\n",
       "      <td>0.248517</td>\n",
       "      <td>0.777233</td>\n",
       "      <td>00:00</td>\n",
       "    </tr>\n",
       "    <tr>\n",
       "      <td>2</td>\n",
       "      <td>0.161680</td>\n",
       "      <td>0.155361</td>\n",
       "      <td>0.861629</td>\n",
       "      <td>00:00</td>\n",
       "    </tr>\n",
       "    <tr>\n",
       "      <td>3</td>\n",
       "      <td>0.072948</td>\n",
       "      <td>0.097722</td>\n",
       "      <td>0.917566</td>\n",
       "      <td>00:00</td>\n",
       "    </tr>\n",
       "    <tr>\n",
       "      <td>4</td>\n",
       "      <td>0.040128</td>\n",
       "      <td>0.073205</td>\n",
       "      <td>0.936212</td>\n",
       "      <td>00:00</td>\n",
       "    </tr>\n",
       "    <tr>\n",
       "      <td>5</td>\n",
       "      <td>0.027210</td>\n",
       "      <td>0.059466</td>\n",
       "      <td>0.950442</td>\n",
       "      <td>00:00</td>\n",
       "    </tr>\n",
       "    <tr>\n",
       "      <td>6</td>\n",
       "      <td>0.021837</td>\n",
       "      <td>0.050799</td>\n",
       "      <td>0.957802</td>\n",
       "      <td>00:00</td>\n",
       "    </tr>\n",
       "    <tr>\n",
       "      <td>7</td>\n",
       "      <td>0.019398</td>\n",
       "      <td>0.044980</td>\n",
       "      <td>0.964181</td>\n",
       "      <td>00:00</td>\n",
       "    </tr>\n",
       "    <tr>\n",
       "      <td>8</td>\n",
       "      <td>0.018122</td>\n",
       "      <td>0.040853</td>\n",
       "      <td>0.966143</td>\n",
       "      <td>00:00</td>\n",
       "    </tr>\n",
       "    <tr>\n",
       "      <td>9</td>\n",
       "      <td>0.017330</td>\n",
       "      <td>0.037788</td>\n",
       "      <td>0.968106</td>\n",
       "      <td>00:00</td>\n",
       "    </tr>\n",
       "  </tbody>\n",
       "</table>"
      ],
      "text/plain": [
       "<IPython.core.display.HTML object>"
      ]
     },
     "metadata": {},
     "output_type": "display_data"
    }
   ],
   "source": [
    "learn = Learner(dls, nn.Linear(28*28,1), opt_func=SGD,\n",
    "                loss_func=mnist_loss, metrics=batch_accuracy)\n",
    "\n",
    "\n",
    "# Now we can call fit:\n",
    "learn.fit(10, lr=lr)"
   ]
  },
  {
   "cell_type": "markdown",
   "metadata": {},
   "source": [
    "#### Nonlinearity\n",
    "- Introduction to Nonlinearity:\n",
    "  - Procedure for optimizing function parameters established.\n",
    "  - Initial application on linear classifier, limited in capability.\n",
    "  - Nonlinearity essential for enhancing complexity and task versatility.\n",
    "\n",
    "- Basic Neural Network Definition:\n",
    "  - Comprises linear classifiers with nonlinear element in between.\n",
    "  - Nonlinear component crucial for enabling neural network functionality and flexibility."
   ]
  },
  {
   "cell_type": "code",
   "execution_count": 90,
   "metadata": {},
   "outputs": [],
   "source": [
    "def simple_net(xb): \n",
    "    res = xb@w1 + b1\n",
    "    res = res.max(tensor(0.0))\n",
    "    res = res@w2 + b2\n",
    "    return res\n",
    "\n",
    "#That's it! All we have in simple_net is two linear classifiers with a max function between them."
   ]
  },
  {
   "cell_type": "code",
   "execution_count": 91,
   "metadata": {},
   "outputs": [],
   "source": [
    "# Here, w1 and w2 are weight tensors, and b1 and b2 are bias tensors; \n",
    "# that is, parameters that are initially randomly initialized, just like we did in the previous section:\n",
    "\n",
    "\n",
    "w1 = init_params((28*28,30))\n",
    "b1 = init_params(30)\n",
    "w2 = init_params((30,1))\n",
    "b2 = init_params(1)"
   ]
  },
  {
   "cell_type": "markdown",
   "metadata": {},
   "source": [
    "- **PyTorch's Layer Output:**\n",
    "  - `w1` has 30 output activations.\n",
    "  - `w2` must have 30 input activations to match.\n",
    "  - First layer constructs 30 different features, representing various pixel mixes.\n",
    "  - Model complexity can be adjusted by changing the number of output activations (30 in this case).\n",
    "\n",
    "- **Rectified Linear Unit (ReLU):**\n",
    "  - `res.max(tensor(0.0))` is a rectified linear unit (ReLU).\n",
    "  - ReLU replaces every negative number with zero.\n",
    "  - Simplified as `F.relu` in PyTorch."
   ]
  },
  {
   "cell_type": "code",
   "execution_count": 92,
   "metadata": {},
   "outputs": [
    {
     "data": {
      "image/png": "[encoded data removed]",
      "text/plain": [
       "<Figure size 600x400 with 1 Axes>"
      ]
     },
     "metadata": {},
     "output_type": "display_data"
    }
   ],
   "source": [
    "\n",
    "plot_function(F.relu)"
   ]
  },
  {
   "cell_type": "markdown",
   "metadata": {},
   "source": [
    "- **Linear Layers:**\n",
    "  - Using more linear layers allows the model to perform more computation.\n",
    "  - Stacking linear layers directly may not be beneficial, as they can be replaced by a single linear layer with different parameters.\n",
    "\n",
    "- **Nonlinear Functions:**\n",
    "  - Introducing nonlinear functions (e.g., max) between linear layers allows for more complex modeling.\n",
    "  - Each linear layer becomes somewhat decoupled, enabling independent useful work.\n",
    "\n",
    "- **Composition of Linear Functions:**\n",
    "  - Mathematically, composing two linear functions results in another linear function.\n",
    "  - Stacking linear classifiers without nonlinear functions behaves as one linear classifier.\n",
    "\n",
    "- **Universal Approximation Theorem:**\n",
    "  - Proven that a combination of linear layers and nonlinear activations can approximate any computable problem.\n",
    "  - Using shorter lines (more parameters) improves approximation.\n",
    "  - The three lines of code represent layers: two linear layers and one activation function."
   ]
  },
  {
   "cell_type": "code",
   "execution_count": 93,
   "metadata": {},
   "outputs": [],
   "source": [
    "# Just like in the previous section, we can replace this code with something a bit simpler, by taking advantage of PyTorch:\n",
    "\n",
    "simple_net = nn.Sequential(\n",
    "    nn.Linear(28*28,30),\n",
    "    nn.ReLU(),\n",
    "    nn.Linear(30,1)\n",
    ")"
   ]
  },
  {
   "cell_type": "markdown",
   "metadata": {},
   "source": [
    "- `nn.Sequential`:\n",
    "  - Creates a module that sequentially calls each listed layer or function.\n",
    "  - When using `nn.Sequential`, PyTorch requires the module version of functions.\n",
    "  - Modules are instantiated as classes, hence `nn.ReLU()` is used instead of `F.relu()` within `nn.Sequential`.\n",
    "\n",
    "- `nn.ReLU`:\n",
    "  - PyTorch module equivalent to the `F.relu` function.\n",
    "  - Most functions in models have identical module forms, replacing `F` with `nn` and adjusting capitalization.\n",
    "\n",
    "- Getting Parameters:\n",
    "  - `nn.Sequential` being a module allows access to its parameters.\n",
    "  - Calling `parameters()` on `nn.Sequential` returns a list of parameters from all its contained modules.\n",
    "\n",
    "- Deeper Models:\n",
    "  - When dealing with deeper models, consider adjusting hyperparameters like learning rate and epochs.\n",
    "  - Lower learning rates and more epochs might be suitable for deeper models to ensure convergence."
   ]
  },
  {
   "cell_type": "code",
   "execution_count": 94,
   "metadata": {},
   "outputs": [],
   "source": [
    "learn = Learner(dls, simple_net, opt_func=SGD,\n",
    "                loss_func=mnist_loss, metrics=batch_accuracy)"
   ]
  },
  {
   "cell_type": "code",
   "execution_count": 95,
   "metadata": {},
   "outputs": [
    {
     "data": {
      "text/html": [
       "\n",
       "<style>\n",
       "    /* Turns off some styling */\n",
       "    progress {\n",
       "        /* gets rid of default border in Firefox and Opera. */\n",
       "        border: none;\n",
       "        /* Needs to be in here for Safari polyfill so background images work as expected. */\n",
       "        background-size: auto;\n",
       "    }\n",
       "    progress:not([value]), progress:not([value])::-webkit-progress-bar {\n",
       "        background: repeating-linear-gradient(45deg, #7e7e7e, #7e7e7e 10px, #5c5c5c 10px, #5c5c5c 20px);\n",
       "    }\n",
       "    .progress-bar-interrupted, .progress-bar-interrupted::-webkit-progress-bar {\n",
       "        background: #F44336;\n",
       "    }\n",
       "</style>\n"
      ],
      "text/plain": [
       "<IPython.core.display.HTML object>"
      ]
     },
     "metadata": {},
     "output_type": "display_data"
    },
    {
     "data": {
      "text/html": [
       "<table border=\"1\" class=\"dataframe\">\n",
       "  <thead>\n",
       "    <tr style=\"text-align: left;\">\n",
       "      <th>epoch</th>\n",
       "      <th>train_loss</th>\n",
       "      <th>valid_loss</th>\n",
       "      <th>batch_accuracy</th>\n",
       "      <th>time</th>\n",
       "    </tr>\n",
       "  </thead>\n",
       "  <tbody>\n",
       "    <tr>\n",
       "      <td>0</td>\n",
       "      <td>0.333021</td>\n",
       "      <td>0.396112</td>\n",
       "      <td>0.512267</td>\n",
       "      <td>00:00</td>\n",
       "    </tr>\n",
       "    <tr>\n",
       "      <td>1</td>\n",
       "      <td>0.152461</td>\n",
       "      <td>0.235238</td>\n",
       "      <td>0.797350</td>\n",
       "      <td>00:00</td>\n",
       "    </tr>\n",
       "    <tr>\n",
       "      <td>2</td>\n",
       "      <td>0.083573</td>\n",
       "      <td>0.117471</td>\n",
       "      <td>0.911678</td>\n",
       "      <td>00:00</td>\n",
       "    </tr>\n",
       "    <tr>\n",
       "      <td>3</td>\n",
       "      <td>0.054309</td>\n",
       "      <td>0.078720</td>\n",
       "      <td>0.940628</td>\n",
       "      <td>00:00</td>\n",
       "    </tr>\n",
       "    <tr>\n",
       "      <td>4</td>\n",
       "      <td>0.040829</td>\n",
       "      <td>0.061228</td>\n",
       "      <td>0.956330</td>\n",
       "      <td>00:00</td>\n",
       "    </tr>\n",
       "    <tr>\n",
       "      <td>5</td>\n",
       "      <td>0.034006</td>\n",
       "      <td>0.051490</td>\n",
       "      <td>0.963690</td>\n",
       "      <td>00:00</td>\n",
       "    </tr>\n",
       "    <tr>\n",
       "      <td>6</td>\n",
       "      <td>0.030123</td>\n",
       "      <td>0.045381</td>\n",
       "      <td>0.966634</td>\n",
       "      <td>00:00</td>\n",
       "    </tr>\n",
       "    <tr>\n",
       "      <td>7</td>\n",
       "      <td>0.027619</td>\n",
       "      <td>0.041218</td>\n",
       "      <td>0.968106</td>\n",
       "      <td>00:00</td>\n",
       "    </tr>\n",
       "    <tr>\n",
       "      <td>8</td>\n",
       "      <td>0.025825</td>\n",
       "      <td>0.038200</td>\n",
       "      <td>0.969087</td>\n",
       "      <td>00:00</td>\n",
       "    </tr>\n",
       "    <tr>\n",
       "      <td>9</td>\n",
       "      <td>0.024441</td>\n",
       "      <td>0.035901</td>\n",
       "      <td>0.969578</td>\n",
       "      <td>00:00</td>\n",
       "    </tr>\n",
       "    <tr>\n",
       "      <td>10</td>\n",
       "      <td>0.023321</td>\n",
       "      <td>0.034082</td>\n",
       "      <td>0.971541</td>\n",
       "      <td>00:00</td>\n",
       "    </tr>\n",
       "    <tr>\n",
       "      <td>11</td>\n",
       "      <td>0.022387</td>\n",
       "      <td>0.032598</td>\n",
       "      <td>0.972031</td>\n",
       "      <td>00:00</td>\n",
       "    </tr>\n",
       "    <tr>\n",
       "      <td>12</td>\n",
       "      <td>0.021592</td>\n",
       "      <td>0.031353</td>\n",
       "      <td>0.974485</td>\n",
       "      <td>00:00</td>\n",
       "    </tr>\n",
       "    <tr>\n",
       "      <td>13</td>\n",
       "      <td>0.020904</td>\n",
       "      <td>0.030284</td>\n",
       "      <td>0.975466</td>\n",
       "      <td>00:00</td>\n",
       "    </tr>\n",
       "    <tr>\n",
       "      <td>14</td>\n",
       "      <td>0.020300</td>\n",
       "      <td>0.029352</td>\n",
       "      <td>0.975466</td>\n",
       "      <td>00:00</td>\n",
       "    </tr>\n",
       "    <tr>\n",
       "      <td>15</td>\n",
       "      <td>0.019766</td>\n",
       "      <td>0.028526</td>\n",
       "      <td>0.975466</td>\n",
       "      <td>00:00</td>\n",
       "    </tr>\n",
       "    <tr>\n",
       "      <td>16</td>\n",
       "      <td>0.019288</td>\n",
       "      <td>0.027788</td>\n",
       "      <td>0.976448</td>\n",
       "      <td>00:00</td>\n",
       "    </tr>\n",
       "    <tr>\n",
       "      <td>17</td>\n",
       "      <td>0.018857</td>\n",
       "      <td>0.027124</td>\n",
       "      <td>0.977429</td>\n",
       "      <td>00:00</td>\n",
       "    </tr>\n",
       "    <tr>\n",
       "      <td>18</td>\n",
       "      <td>0.018465</td>\n",
       "      <td>0.026523</td>\n",
       "      <td>0.978410</td>\n",
       "      <td>00:00</td>\n",
       "    </tr>\n",
       "    <tr>\n",
       "      <td>19</td>\n",
       "      <td>0.018107</td>\n",
       "      <td>0.025977</td>\n",
       "      <td>0.978901</td>\n",
       "      <td>00:00</td>\n",
       "    </tr>\n",
       "    <tr>\n",
       "      <td>20</td>\n",
       "      <td>0.017777</td>\n",
       "      <td>0.025479</td>\n",
       "      <td>0.978901</td>\n",
       "      <td>00:00</td>\n",
       "    </tr>\n",
       "    <tr>\n",
       "      <td>21</td>\n",
       "      <td>0.017473</td>\n",
       "      <td>0.025022</td>\n",
       "      <td>0.979392</td>\n",
       "      <td>00:00</td>\n",
       "    </tr>\n",
       "    <tr>\n",
       "      <td>22</td>\n",
       "      <td>0.017191</td>\n",
       "      <td>0.024601</td>\n",
       "      <td>0.980373</td>\n",
       "      <td>00:00</td>\n",
       "    </tr>\n",
       "    <tr>\n",
       "      <td>23</td>\n",
       "      <td>0.016927</td>\n",
       "      <td>0.024213</td>\n",
       "      <td>0.980373</td>\n",
       "      <td>00:00</td>\n",
       "    </tr>\n",
       "    <tr>\n",
       "      <td>24</td>\n",
       "      <td>0.016680</td>\n",
       "      <td>0.023855</td>\n",
       "      <td>0.981354</td>\n",
       "      <td>00:00</td>\n",
       "    </tr>\n",
       "    <tr>\n",
       "      <td>25</td>\n",
       "      <td>0.016449</td>\n",
       "      <td>0.023521</td>\n",
       "      <td>0.981354</td>\n",
       "      <td>00:00</td>\n",
       "    </tr>\n",
       "    <tr>\n",
       "      <td>26</td>\n",
       "      <td>0.016230</td>\n",
       "      <td>0.023211</td>\n",
       "      <td>0.981354</td>\n",
       "      <td>00:00</td>\n",
       "    </tr>\n",
       "    <tr>\n",
       "      <td>27</td>\n",
       "      <td>0.016023</td>\n",
       "      <td>0.022922</td>\n",
       "      <td>0.981354</td>\n",
       "      <td>00:00</td>\n",
       "    </tr>\n",
       "    <tr>\n",
       "      <td>28</td>\n",
       "      <td>0.015827</td>\n",
       "      <td>0.022653</td>\n",
       "      <td>0.981845</td>\n",
       "      <td>00:00</td>\n",
       "    </tr>\n",
       "    <tr>\n",
       "      <td>29</td>\n",
       "      <td>0.015641</td>\n",
       "      <td>0.022401</td>\n",
       "      <td>0.981845</td>\n",
       "      <td>00:00</td>\n",
       "    </tr>\n",
       "    <tr>\n",
       "      <td>30</td>\n",
       "      <td>0.015463</td>\n",
       "      <td>0.022165</td>\n",
       "      <td>0.981845</td>\n",
       "      <td>00:00</td>\n",
       "    </tr>\n",
       "    <tr>\n",
       "      <td>31</td>\n",
       "      <td>0.015294</td>\n",
       "      <td>0.021944</td>\n",
       "      <td>0.983317</td>\n",
       "      <td>00:00</td>\n",
       "    </tr>\n",
       "    <tr>\n",
       "      <td>32</td>\n",
       "      <td>0.015132</td>\n",
       "      <td>0.021736</td>\n",
       "      <td>0.982826</td>\n",
       "      <td>00:00</td>\n",
       "    </tr>\n",
       "    <tr>\n",
       "      <td>33</td>\n",
       "      <td>0.014977</td>\n",
       "      <td>0.021541</td>\n",
       "      <td>0.982826</td>\n",
       "      <td>00:00</td>\n",
       "    </tr>\n",
       "    <tr>\n",
       "      <td>34</td>\n",
       "      <td>0.014828</td>\n",
       "      <td>0.021357</td>\n",
       "      <td>0.982336</td>\n",
       "      <td>00:00</td>\n",
       "    </tr>\n",
       "    <tr>\n",
       "      <td>35</td>\n",
       "      <td>0.014686</td>\n",
       "      <td>0.021184</td>\n",
       "      <td>0.982336</td>\n",
       "      <td>00:00</td>\n",
       "    </tr>\n",
       "    <tr>\n",
       "      <td>36</td>\n",
       "      <td>0.014549</td>\n",
       "      <td>0.021019</td>\n",
       "      <td>0.982336</td>\n",
       "      <td>00:00</td>\n",
       "    </tr>\n",
       "    <tr>\n",
       "      <td>37</td>\n",
       "      <td>0.014417</td>\n",
       "      <td>0.020864</td>\n",
       "      <td>0.982336</td>\n",
       "      <td>00:00</td>\n",
       "    </tr>\n",
       "    <tr>\n",
       "      <td>38</td>\n",
       "      <td>0.014290</td>\n",
       "      <td>0.020716</td>\n",
       "      <td>0.982336</td>\n",
       "      <td>00:00</td>\n",
       "    </tr>\n",
       "    <tr>\n",
       "      <td>39</td>\n",
       "      <td>0.014168</td>\n",
       "      <td>0.020576</td>\n",
       "      <td>0.982336</td>\n",
       "      <td>00:00</td>\n",
       "    </tr>\n",
       "  </tbody>\n",
       "</table>"
      ],
      "text/plain": [
       "<IPython.core.display.HTML object>"
      ]
     },
     "metadata": {},
     "output_type": "display_data"
    }
   ],
   "source": [
    "learn.fit(40, 0.1)"
   ]
  },
  {
   "cell_type": "code",
   "execution_count": 96,
   "metadata": {},
   "outputs": [
    {
     "data": {
      "image/png": "[encoded data removed]",
      "text/plain": [
       "<Figure size 640x480 with 1 Axes>"
      ]
     },
     "metadata": {},
     "output_type": "display_data"
    }
   ],
   "source": [
    "\"\"\"We're not showing the 40 lines of output here to save room; \n",
    "the training process is recorded in learn.recorder, with the table of output stored in the values attribute, \n",
    "so we can plot the accuracy over training as:\"\"\"\n",
    "\n",
    "plt.plot(L(learn.recorder.values).itemgot(2));"
   ]
  },
  {
   "cell_type": "code",
   "execution_count": 97,
   "metadata": {},
   "outputs": [
    {
     "data": {
      "text/plain": [
       "0.98233562707901"
      ]
     },
     "execution_count": 97,
     "metadata": {},
     "output_type": "execute_result"
    }
   ],
   "source": [
    "learn.recorder.values[-1][2]"
   ]
  },
  {
   "cell_type": "markdown",
   "metadata": {},
   "source": [
    "- PyTorch enables the creation of neural networks capable of solving problems to any desired level of accuracy.\n",
    "- Neural networks, functioning as a \"magic\" function, can solve various problems given the correct parameters.\n",
    "- Stochastic gradient descent facilitates finding the optimal parameters for any function.\n",
    "- Deep learning achieves seemingly magical feats due to the synergy of neural networks and stochastic gradient descent.\n",
    "- The simplicity and effectiveness of these techniques may seem too good to be true for some.\n",
    "- Encouragement to experiment and verify the effectiveness by trying out PyTorch on datasets like MNIST.\n",
    "- Assures transparency by stating that the process involves no hidden magic, as everything is implemented from scratch except for gradient calculations.\n"
   ]
  },
  {
   "cell_type": "markdown",
   "metadata": {},
   "source": [
    "### Going Deeper with Neural Networks (.md)\n",
    "\n",
    "* **Deep vs. Shallow Networks:**\n",
    "    * We can add more than two linear layers to create deeper models. \n",
    "    * Non-linearity is added between each pair of linear layers.\n",
    "    * Deeper models can be harder to optimize during training.\n",
    "\n",
    "* **Benefits of Deeper Models:**\n",
    "    * **Improved Performance:** Deeper models can achieve better results compared to shallow models with fewer layers, even using less parameters overall.\n",
    "    * **Faster Training & Lower Memory Usage:** Training deeper models can be faster and require less memory compared to shallow models with a large number of parameters.\n",
    "\n",
    "* **Historical Context:**\n",
    "    * In the 1990s, focus on the universal approximation theorem limited exploration of deeper models.\n",
    "    * While theoretically sound, this limited practical advancements in the field for some time.\n",
    "    * Some researchers continued experimenting with deep models, demonstrating their practical advantages.\n",
    "\n",
    "* **Modern Practices:**\n",
    "    * Today, neural networks with just one non-linearity are rarely used.\n",
    "\n"
   ]
  },
  {
   "cell_type": "code",
   "execution_count": 98,
   "metadata": {},
   "outputs": [
    {
     "data": {
      "text/html": [
       "\n",
       "<style>\n",
       "    /* Turns off some styling */\n",
       "    progress {\n",
       "        /* gets rid of default border in Firefox and Opera. */\n",
       "        border: none;\n",
       "        /* Needs to be in here for Safari polyfill so background images work as expected. */\n",
       "        background-size: auto;\n",
       "    }\n",
       "    progress:not([value]), progress:not([value])::-webkit-progress-bar {\n",
       "        background: repeating-linear-gradient(45deg, #7e7e7e, #7e7e7e 10px, #5c5c5c 10px, #5c5c5c 20px);\n",
       "    }\n",
       "    .progress-bar-interrupted, .progress-bar-interrupted::-webkit-progress-bar {\n",
       "        background: #F44336;\n",
       "    }\n",
       "</style>\n"
      ],
      "text/plain": [
       "<IPython.core.display.HTML object>"
      ]
     },
     "metadata": {},
     "output_type": "display_data"
    },
    {
     "data": {
      "text/html": [
       "<table border=\"1\" class=\"dataframe\">\n",
       "  <thead>\n",
       "    <tr style=\"text-align: left;\">\n",
       "      <th>epoch</th>\n",
       "      <th>train_loss</th>\n",
       "      <th>valid_loss</th>\n",
       "      <th>accuracy</th>\n",
       "      <th>time</th>\n",
       "    </tr>\n",
       "  </thead>\n",
       "  <tbody>\n",
       "    <tr>\n",
       "      <td>0</td>\n",
       "      <td>0.079946</td>\n",
       "      <td>0.023002</td>\n",
       "      <td>0.995584</td>\n",
       "      <td>00:26</td>\n",
       "    </tr>\n",
       "  </tbody>\n",
       "</table>"
      ],
      "text/plain": [
       "<IPython.core.display.HTML object>"
      ]
     },
     "metadata": {},
     "output_type": "display_data"
    }
   ],
   "source": [
    "# Here is what happens when we train an 18-layer model using the same approach we saw in ch1.introduction.ipynb:\n",
    "\n",
    "\n",
    "dls = ImageDataLoaders.from_folder(path)\n",
    "learn = vision_learner(dls, resnet18, pretrained=False,\n",
    "                    loss_func=F.cross_entropy, metrics=accuracy)\n",
    "learn.fit_one_cycle(1, 0.1)"
   ]
  },
  {
   "cell_type": "markdown",
   "metadata": {},
   "source": [
    "**Nearly 100% accuracy!** That's a big difference compared to our simple neural net. But as you'll learn in the remainder of this book, there are just a few little tricks you need to use to get such great results from scratch yourself. You already know the key foundational pieces. (Of course, even once you know all the tricks, you'll nearly always want to work with the pre-built classes provided by PyTorch and fastai, because they save you having to think about all the little details yourself.)"
   ]
  },
  {
   "cell_type": "markdown",
   "metadata": {},
   "source": [
    "## Chapter Recap and Key Concepts\n",
    "\n",
    "**Neural Network Numbers:**\n",
    "\n",
    "* **Activations:** Numbers calculated during the forward pass (both linear and non-linear layers).\n",
    "* **Parameters:** Numbers randomly initialized and optimized during training (define the model).\n",
    "\n",
    "**Tensors and Dimensions:**\n",
    "\n",
    "* Tensors: Regularly shaped arrays (like matrices) containing activations and parameters.\n",
    "    * Rank 0: Scalar\n",
    "    * Rank 1: Vector\n",
    "    * Rank 2: Matrix\n",
    "    * Higher ranks possible\n",
    "\n",
    "**Network Layers:**\n",
    "\n",
    "* **Linear Layers:** Perform matrix multiplication and bias addition.\n",
    "* **Non-linear Layers:** Apply non-linear activation functions (e.g., ReLU).\n",
    "* Layers are often alternated between linear and non-linear types.\n",
    "    * Note: Terminology can be confusing (linear layer + non-linearity = single layer).\n"
   ]
  }
 ],
 "metadata": {
  "kernelspec": {
   "display_name": "base",
   "language": "python",
   "name": "python3"
  },
  "language_info": {
   "codemirror_mode": {
    "name": "ipython",
    "version": 3
   },
   "file_extension": ".py",
   "mimetype": "text/x-python",
   "name": "python",
   "nbconvert_exporter": "python",
   "pygments_lexer": "ipython3",
   "version": "3.11.5"
  }
 },
 "nbformat": 4,
 "nbformat_minor": 2
}
