{
 "cells": [
  {
   "cell_type": "markdown",
   "metadata": {},
   "source": [
    "# Byte Pair Encoding\n",
    "\n",
    "BPE algorithm implementation. \n",
    "- Used in LLM tokenization.\n",
    "- \"byte-level\" encoding because its runs UTF-8 encoded strings.\n",
    "  \n",
    "- BPE algo was popularised for LLMs in [GPT-2](https://d4mucfpksywv.cloudfront.net/better-language-models/language_models_are_unsupervised_multitask_learners.pdf) paper and its associated GPT-2 [code was released](https://github.com/openai/gpt-2) by OpenAI.\n",
    "- [Sennrich et al. 2015](https://arxiv.org/abs/1508.07909) is cited as the original reference for use of BPE in NLP applications\n",
    "- Almost all modern LLMs (e.g. GPT, Llama, Mistral) use this algorithm to train their tokenizers."
   ]
  },
  {
   "cell_type": "markdown",
   "metadata": {},
   "source": [
    "### Function and Structure of Tokenizer\n",
    "**Three main primary functions of a Tokenizer:**\n",
    "1. train a tokenizer vocabulary and merge on the given text.\n",
    "2. encode text to tokens.\n",
    "3. decode tokens to text.\n",
    "\n",
    "**Structure and variations in Tokenizers**\n",
    "1. base\n",
    "   - contains `train`, `encode`, and `decode` stubs\n",
    "   - save/load functionality\n",
    "   - common utility functions\n",
    "2. basic\n",
    "   - implements `BasicTokenizer`, simplest BPE algo implementation on text.\n",
    "3. regex\n",
    "   - implements `RegexTokenizer`\n",
    "   - splits the input text by a regex pattern\n",
    "   - before tokenizatoin, this generates new categories within the input text:\n",
    "     - letters\n",
    "     - numbers\n",
    "     - punctuation\n",
    "   - ensures no merges happen across the category boundaries.\n",
    "   - introduced in gpt-2 paper. (also been used in gpt-4)\n",
    "   - handles special tokens too. \n",
    "4. gpt4\n",
    "   - implements `GPT4Tokenizer` \n",
    "   - its a light wrapper around `RegexTokenizer`\n",
    "     - reproduces the tokenization of GPT-4 in [tiktoken](https://github.com/openai/tiktoken) library. \n",
    "   - wrapping handles some details around:\n",
    "     - recovering the exact merges in tokenizer. \n",
    "     - handling some unfortunate (historical?) 1-byte token permutations.\n",
    "  \n",
    "Finally, there is train.py script (*takes around 30 seconds on M1 chip*)\n",
    "- it trains the two major tokenizers on the input text [text/taylorswift.txt](https://github.com/karpathy/minbpe/blob/master/tests/taylorswift.txt)\n",
    "- saves the vocab to disk for visualization. "
   ]
  },
  {
   "cell_type": "code",
   "execution_count": null,
   "metadata": {},
   "outputs": [],
   "source": []
  }
 ],
 "metadata": {
  "language_info": {
   "name": "python"
  }
 },
 "nbformat": 4,
 "nbformat_minor": 2
}
